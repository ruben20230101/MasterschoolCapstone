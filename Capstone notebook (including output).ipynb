{
 "cells": [
  {
   "cell_type": "markdown",
   "id": "f77accfd-4d93-4080-b73e-bfb23f3b89b2",
   "metadata": {},
   "source": [
    "# Heart Failure Analysis\n",
    "## By Ruben\n",
    "Here you can find the description of all the tasks. Same info and more can be found on this Project [Page](https://cms.master.school/final-project-jan23)\n",
    "\n",
    "First review the project on this page and if you decide to work on this dataset follow the steps mentioned on above Project page"
   ]
  },
  {
   "cell_type": "markdown",
   "id": "002c3e9c-baa6-4804-86e6-1777aab23ae9",
   "metadata": {},
   "source": [
    "## The story behind The Data\n",
    "\n",
    "Cardiovascular diseases (CVDs) are the number 1 cause of death all over the world, taking an estimated **17.9** million lives each year, which accounts for 31% of all deaths worldwide.\n",
    "Heart failure is a common event caused by CVDs and this dataset contains 12 features that can be used to predict mortality by heart failure, as well as analyze and understand the main factor for these diseases.\n",
    "\n",
    "Most cardiovascular diseases can be prevented by addressing behavioural risk factors such as tobacco use, unhealthy diet and obesity, physical inactivity and harmful use of alcohol using population-wide strategies.\n",
    "\n",
    "People with CV disease or who are at high cardiovascular risk (due to the presence of one or more risk factors such as hypertension, diabetes, hyperlipidaemia or already established disease) need early detection and management wherein a great analysis of it can be of great help."
   ]
  },
  {
   "cell_type": "markdown",
   "id": "28a328f4-b93a-494a-b16a-4a616e416212",
   "metadata": {},
   "source": [
    "**A full ERD can be found [here](https://dbdiagram.io/d/638ce6b2bae3ed7c4544a01b)**\n",
    "\n",
    "# Data Description\n",
    "In this task, few datasets are provided:\n",
    "\n",
    "1. **`base_metrics_patient.csv`** - the base DF which contains the main metrics measured per each patient, these are:\n",
    " \n",
    "\t- `uniqueID` - patient ID\n",
    "\t- `smoking` - If the patient smokes or not (boolean)\n",
    "    - `ejection_fraction` - Percentage of blood leaving the heart at each contraction (%)\n",
    "\t- `serum_sodium` - Level of serum sodium in the blood (mEq/L)\n",
    "\t- `platelets` - Platelets in the blood (kiloplatelets/mL)\n",
    "\t- `creatinine_phosphokinase` - Level of the CPK enzyme in the blood (mcg/L)\n",
    "\t- `diabetes` - If the patient has diabetes (boolean)\n",
    "\t- `serum_creatinine` - Level of serum creatinine in the blood (mg/dL)\n",
    "2. **`blood_metrics_df.csv`** - an additional dataset contains some more metrics about each patient. Specifically, it contains:\n",
    "    - `uniqueID` - patient ID\n",
    "    - `anaemia` - Decrease of red blood cells or hemoglobin (boolean)\n",
    "    - `high_blood_pressure` - If the patient has hypertension (boolean)\n",
    "3. **`demographic_data_health.csv`** - some extra data about the patient’s demographics, specifically:\n",
    "    - `uniqueID` - patient ID\n",
    "    - `age` - patient’s age\n",
    "    - `sex` - (male - 1, female - 0)\n",
    "4. **`follow_up_df.csv` -** a dataset contains details about a follow up check that was with that patient. It contains:\n",
    "    - `uniqueID` - patient ID\n",
    "    - `time` - time passed (in days) between the measurement date (see dataset #1) until that “follow up” date\n",
    "    - `DEATH_EVENT` - If the patient deceased during the follow-up period (boolean)"
   ]
  },
  {
   "cell_type": "markdown",
   "id": "88c477bc-ca42-44df-8a56-eb3e1b6d6585",
   "metadata": {},
   "source": [
    "# SQL tasks\n",
    "\n",
    "1. How many death cases do we have in this dataset?\n",
    "2. Per each sex (M, F), show the amount of “death” records in the data\n",
    "3. Calculate the following statistics for serum_creatinine, per each anaemia category -\n",
    "    1. min, max, average, range\n",
    "4. Let’s define a new metric - almost_outlier. An “almost_outlier” is a value which its serum_creatinine is higher than the overall serum_creatinine average, by 1.5. How many “almost_outlier” do we have in our dataset?**  \n",
    "5. Per each gender + smoker category, find out the min, max and mean of creatinine_phosphokinase\n",
    "6. Let’s define a new variable called age_group:\n",
    "    1. 10 < x ≤ 50\n",
    "    2. 50 < x ≤ 70\n",
    "    3. 70 < x ≤ 80\n",
    "    4. 80 < x ≤ 120\n",
    "    \n",
    "    Per each age_group, find out:\n",
    "    \n",
    "    - Out of persons in each group, what’s the % of smokers are there. Make sure to round the answer up to 4 decimal points\n",
    "    - how many patients with high_blood_pressure out there\n",
    "    - what is the avg. level of serum_sodium. Make sure to round the answer up to 4 decimal points\n",
    "7. Using the age_group column from above, some hospitals are interested to know who are the top 10 patient ID with the highest serum_creatinine. Help them find that information. Meaning - for each age_group, who are the top 10 patient IDs with the highest serum_creatinine?\n",
    "\n",
    "8. Let’s create a new variable called “general_serum”, composed of a multiplication between serum_sodium and serum_creatinine, and divided by 100 (a_multiply_b / 100). Once created, per each smoking + diabetes level (boolean variable), some hospitals would like to know the patient IDs with the lowest level of that new metric. As such, please generate a table of smoking + diabetes, as well as the bottom 5 patient IDs, with the lowest level of “general_serum”"
   ]
  },
  {
   "cell_type": "code",
   "execution_count": 83,
   "id": "132a501d-8c52-47db-a384-31e4eac14bb6",
   "metadata": {
    "chartConfig": {
     "bar": {
      "hasRoundedCorners": true,
      "stacked": false
     },
     "type": "bar",
     "version": "v1",
     "x": {
      "field": "index",
      "type": "integer"
     },
     "y": {
      "field": "index",
      "type": "integer"
     }
    },
    "collapsed": false,
    "customType": "sql",
    "dataFrameVariableName": "df",
    "executionTime": 1863,
    "initial": false,
    "integrationId": "952de905-fbbf-4647-9f71-091f7b4458b0",
    "jupyter": {
     "outputs_hidden": false,
     "source_hidden": false
    },
    "lastSuccessfullyExecutedCode": "-- Start writing your SQL query here \n\nSELECT * from base_metrics_patient LIMIT 10;",
    "visualizeDataframe": false
   },
   "outputs": [
    {
     "data": {
      "application/com.datacamp.data-table.v1+json": {
       "table": {
        "data": [
         {
          "almost_outlier": false,
          "creatinine_phosphokinase": 129,
          "diabetes": 0,
          "ejection_fraction": 45,
          "index": 0,
          "platelets": 362000,
          "serum_creatinine": 1.1,
          "serum_sodium": 139,
          "smoking": 1,
          "uniqueid": 159
         },
         {
          "almost_outlier": false,
          "creatinine_phosphokinase": 68,
          "diabetes": 1,
          "ejection_fraction": 60,
          "index": 1,
          "platelets": 304000,
          "serum_creatinine": 0.8,
          "serum_sodium": 140,
          "smoking": 0,
          "uniqueid": 87
         },
         {
          "almost_outlier": false,
          "creatinine_phosphokinase": 84,
          "diabetes": 1,
          "ejection_fraction": 40,
          "index": 2,
          "platelets": 235000,
          "serum_creatinine": 0.7,
          "serum_sodium": 139,
          "smoking": 0,
          "uniqueid": 88
         },
         {
          "almost_outlier": false,
          "creatinine_phosphokinase": 115,
          "diabetes": 0,
          "ejection_fraction": 25,
          "index": 3,
          "platelets": 181000,
          "serum_creatinine": 1.1,
          "serum_sodium": 144,
          "smoking": 0,
          "uniqueid": 89
         },
         {
          "almost_outlier": false,
          "creatinine_phosphokinase": 66,
          "diabetes": 1,
          "ejection_fraction": 45,
          "index": 4,
          "platelets": 249000,
          "serum_creatinine": 0.8,
          "serum_sodium": 136,
          "smoking": 1,
          "uniqueid": 90
         },
         {
          "almost_outlier": false,
          "creatinine_phosphokinase": 90,
          "diabetes": 0,
          "ejection_fraction": 35,
          "index": 5,
          "platelets": 255000,
          "serum_creatinine": 1.1,
          "serum_sodium": 136,
          "smoking": 1,
          "uniqueid": 242
         },
         {
          "almost_outlier": false,
          "creatinine_phosphokinase": 1185,
          "diabetes": 0,
          "ejection_fraction": 40,
          "index": 6,
          "platelets": 220000,
          "serum_creatinine": 0.9,
          "serum_sodium": 141,
          "smoking": 0,
          "uniqueid": 243
         },
         {
          "almost_outlier": false,
          "creatinine_phosphokinase": 320,
          "diabetes": 0,
          "ejection_fraction": 35,
          "index": 7,
          "platelets": 133000,
          "serum_creatinine": 1.4,
          "serum_sodium": 139,
          "smoking": 0,
          "uniqueid": 291
         },
         {
          "almost_outlier": false,
          "creatinine_phosphokinase": 482,
          "diabetes": 1,
          "ejection_fraction": 30,
          "index": 8,
          "platelets": 329000,
          "serum_creatinine": 0.9,
          "serum_sodium": 132,
          "smoking": 0,
          "uniqueid": 142
         },
         {
          "almost_outlier": false,
          "creatinine_phosphokinase": 84,
          "diabetes": 0,
          "ejection_fraction": 40,
          "index": 9,
          "platelets": 229000,
          "serum_creatinine": 0.9,
          "serum_sodium": 141,
          "smoking": 0,
          "uniqueid": 143
         }
        ],
        "schema": {
         "fields": [
          {
           "name": "index",
           "type": "integer"
          },
          {
           "name": "smoking",
           "type": "integer"
          },
          {
           "name": "ejection_fraction",
           "type": "integer"
          },
          {
           "name": "serum_sodium",
           "type": "integer"
          },
          {
           "name": "platelets",
           "type": "integer"
          },
          {
           "name": "creatinine_phosphokinase",
           "type": "integer"
          },
          {
           "name": "uniqueid",
           "type": "integer"
          },
          {
           "name": "diabetes",
           "type": "integer"
          },
          {
           "name": "serum_creatinine",
           "type": "number"
          },
          {
           "name": "almost_outlier",
           "type": "boolean"
          }
         ],
         "pandas_version": "1.4.0",
         "primaryKey": [
          "index"
         ]
        }
       },
       "total_rows": 10,
       "truncation_type": null
      },
      "text/html": [
       "<div>\n",
       "<style scoped>\n",
       "    .dataframe tbody tr th:only-of-type {\n",
       "        vertical-align: middle;\n",
       "    }\n",
       "\n",
       "    .dataframe tbody tr th {\n",
       "        vertical-align: top;\n",
       "    }\n",
       "\n",
       "    .dataframe thead th {\n",
       "        text-align: right;\n",
       "    }\n",
       "</style>\n",
       "<table border=\"1\" class=\"dataframe\">\n",
       "  <thead>\n",
       "    <tr style=\"text-align: right;\">\n",
       "      <th></th>\n",
       "      <th>smoking</th>\n",
       "      <th>ejection_fraction</th>\n",
       "      <th>serum_sodium</th>\n",
       "      <th>platelets</th>\n",
       "      <th>creatinine_phosphokinase</th>\n",
       "      <th>uniqueid</th>\n",
       "      <th>diabetes</th>\n",
       "      <th>serum_creatinine</th>\n",
       "      <th>almost_outlier</th>\n",
       "    </tr>\n",
       "  </thead>\n",
       "  <tbody>\n",
       "    <tr>\n",
       "      <th>0</th>\n",
       "      <td>1</td>\n",
       "      <td>45</td>\n",
       "      <td>139</td>\n",
       "      <td>362000</td>\n",
       "      <td>129</td>\n",
       "      <td>159</td>\n",
       "      <td>0</td>\n",
       "      <td>1.1</td>\n",
       "      <td>False</td>\n",
       "    </tr>\n",
       "    <tr>\n",
       "      <th>1</th>\n",
       "      <td>0</td>\n",
       "      <td>60</td>\n",
       "      <td>140</td>\n",
       "      <td>304000</td>\n",
       "      <td>68</td>\n",
       "      <td>87</td>\n",
       "      <td>1</td>\n",
       "      <td>0.8</td>\n",
       "      <td>False</td>\n",
       "    </tr>\n",
       "    <tr>\n",
       "      <th>2</th>\n",
       "      <td>0</td>\n",
       "      <td>40</td>\n",
       "      <td>139</td>\n",
       "      <td>235000</td>\n",
       "      <td>84</td>\n",
       "      <td>88</td>\n",
       "      <td>1</td>\n",
       "      <td>0.7</td>\n",
       "      <td>False</td>\n",
       "    </tr>\n",
       "    <tr>\n",
       "      <th>3</th>\n",
       "      <td>0</td>\n",
       "      <td>25</td>\n",
       "      <td>144</td>\n",
       "      <td>181000</td>\n",
       "      <td>115</td>\n",
       "      <td>89</td>\n",
       "      <td>0</td>\n",
       "      <td>1.1</td>\n",
       "      <td>False</td>\n",
       "    </tr>\n",
       "    <tr>\n",
       "      <th>4</th>\n",
       "      <td>1</td>\n",
       "      <td>45</td>\n",
       "      <td>136</td>\n",
       "      <td>249000</td>\n",
       "      <td>66</td>\n",
       "      <td>90</td>\n",
       "      <td>1</td>\n",
       "      <td>0.8</td>\n",
       "      <td>False</td>\n",
       "    </tr>\n",
       "    <tr>\n",
       "      <th>5</th>\n",
       "      <td>1</td>\n",
       "      <td>35</td>\n",
       "      <td>136</td>\n",
       "      <td>255000</td>\n",
       "      <td>90</td>\n",
       "      <td>242</td>\n",
       "      <td>0</td>\n",
       "      <td>1.1</td>\n",
       "      <td>False</td>\n",
       "    </tr>\n",
       "    <tr>\n",
       "      <th>6</th>\n",
       "      <td>0</td>\n",
       "      <td>40</td>\n",
       "      <td>141</td>\n",
       "      <td>220000</td>\n",
       "      <td>1185</td>\n",
       "      <td>243</td>\n",
       "      <td>0</td>\n",
       "      <td>0.9</td>\n",
       "      <td>False</td>\n",
       "    </tr>\n",
       "    <tr>\n",
       "      <th>7</th>\n",
       "      <td>0</td>\n",
       "      <td>35</td>\n",
       "      <td>139</td>\n",
       "      <td>133000</td>\n",
       "      <td>320</td>\n",
       "      <td>291</td>\n",
       "      <td>0</td>\n",
       "      <td>1.4</td>\n",
       "      <td>False</td>\n",
       "    </tr>\n",
       "    <tr>\n",
       "      <th>8</th>\n",
       "      <td>0</td>\n",
       "      <td>30</td>\n",
       "      <td>132</td>\n",
       "      <td>329000</td>\n",
       "      <td>482</td>\n",
       "      <td>142</td>\n",
       "      <td>1</td>\n",
       "      <td>0.9</td>\n",
       "      <td>False</td>\n",
       "    </tr>\n",
       "    <tr>\n",
       "      <th>9</th>\n",
       "      <td>0</td>\n",
       "      <td>40</td>\n",
       "      <td>141</td>\n",
       "      <td>229000</td>\n",
       "      <td>84</td>\n",
       "      <td>143</td>\n",
       "      <td>0</td>\n",
       "      <td>0.9</td>\n",
       "      <td>False</td>\n",
       "    </tr>\n",
       "  </tbody>\n",
       "</table>\n",
       "</div>"
      ],
      "text/plain": [
       "   smoking  ejection_fraction  serum_sodium  platelets  \\\n",
       "0        1                 45           139     362000   \n",
       "1        0                 60           140     304000   \n",
       "2        0                 40           139     235000   \n",
       "3        0                 25           144     181000   \n",
       "4        1                 45           136     249000   \n",
       "5        1                 35           136     255000   \n",
       "6        0                 40           141     220000   \n",
       "7        0                 35           139     133000   \n",
       "8        0                 30           132     329000   \n",
       "9        0                 40           141     229000   \n",
       "\n",
       "   creatinine_phosphokinase  uniqueid  diabetes  serum_creatinine  \\\n",
       "0                       129       159         0               1.1   \n",
       "1                        68        87         1               0.8   \n",
       "2                        84        88         1               0.7   \n",
       "3                       115        89         0               1.1   \n",
       "4                        66        90         1               0.8   \n",
       "5                        90       242         0               1.1   \n",
       "6                      1185       243         0               0.9   \n",
       "7                       320       291         0               1.4   \n",
       "8                       482       142         1               0.9   \n",
       "9                        84       143         0               0.9   \n",
       "\n",
       "   almost_outlier  \n",
       "0           False  \n",
       "1           False  \n",
       "2           False  \n",
       "3           False  \n",
       "4           False  \n",
       "5           False  \n",
       "6           False  \n",
       "7           False  \n",
       "8           False  \n",
       "9           False  "
      ]
     },
     "execution_count": 83,
     "metadata": {},
     "output_type": "execute_result"
    }
   ],
   "source": [
    "-- Start writing your SQL query here \n",
    "\n",
    "SELECT * from base_metrics_patient LIMIT 10;"
   ]
  },
  {
   "cell_type": "code",
   "execution_count": 84,
   "id": "4ae1393b-c961-4918-a0eb-faf5c91b80db",
   "metadata": {
    "collapsed": false,
    "customType": "sql",
    "dataFrameVariableName": "df",
    "executionTime": 1984,
    "initial": false,
    "integrationId": "952de905-fbbf-4647-9f71-091f7b4458b0",
    "jupyter": {
     "outputs_hidden": false,
     "source_hidden": false
    },
    "lastSuccessfullyExecutedCode": "SELECT * from blood_metrics_df LIMIT 10;"
   },
   "outputs": [
    {
     "data": {
      "application/com.datacamp.data-table.v1+json": {
       "table": {
        "data": [
         {
          "anaemia": 0,
          "high_blood_pressure": 1,
          "index": 0,
          "uniqueid": 0
         },
         {
          "anaemia": 0,
          "high_blood_pressure": 0,
          "index": 1,
          "uniqueid": 1
         },
         {
          "anaemia": 0,
          "high_blood_pressure": 0,
          "index": 2,
          "uniqueid": 2
         },
         {
          "anaemia": 1,
          "high_blood_pressure": 0,
          "index": 3,
          "uniqueid": 3
         },
         {
          "anaemia": 1,
          "high_blood_pressure": 0,
          "index": 4,
          "uniqueid": 4
         },
         {
          "anaemia": 1,
          "high_blood_pressure": 1,
          "index": 5,
          "uniqueid": 5
         },
         {
          "anaemia": 1,
          "high_blood_pressure": 0,
          "index": 6,
          "uniqueid": 6
         },
         {
          "anaemia": 1,
          "high_blood_pressure": 0,
          "index": 7,
          "uniqueid": 7
         },
         {
          "anaemia": 0,
          "high_blood_pressure": 0,
          "index": 8,
          "uniqueid": 8
         },
         {
          "anaemia": 1,
          "high_blood_pressure": 1,
          "index": 9,
          "uniqueid": 9
         }
        ],
        "schema": {
         "fields": [
          {
           "name": "index",
           "type": "integer"
          },
          {
           "name": "uniqueid",
           "type": "integer"
          },
          {
           "name": "anaemia",
           "type": "integer"
          },
          {
           "name": "high_blood_pressure",
           "type": "integer"
          }
         ],
         "pandas_version": "1.4.0",
         "primaryKey": [
          "index"
         ]
        }
       },
       "total_rows": 10,
       "truncation_type": null
      },
      "text/html": [
       "<div>\n",
       "<style scoped>\n",
       "    .dataframe tbody tr th:only-of-type {\n",
       "        vertical-align: middle;\n",
       "    }\n",
       "\n",
       "    .dataframe tbody tr th {\n",
       "        vertical-align: top;\n",
       "    }\n",
       "\n",
       "    .dataframe thead th {\n",
       "        text-align: right;\n",
       "    }\n",
       "</style>\n",
       "<table border=\"1\" class=\"dataframe\">\n",
       "  <thead>\n",
       "    <tr style=\"text-align: right;\">\n",
       "      <th></th>\n",
       "      <th>uniqueid</th>\n",
       "      <th>anaemia</th>\n",
       "      <th>high_blood_pressure</th>\n",
       "    </tr>\n",
       "  </thead>\n",
       "  <tbody>\n",
       "    <tr>\n",
       "      <th>0</th>\n",
       "      <td>0</td>\n",
       "      <td>0</td>\n",
       "      <td>1</td>\n",
       "    </tr>\n",
       "    <tr>\n",
       "      <th>1</th>\n",
       "      <td>1</td>\n",
       "      <td>0</td>\n",
       "      <td>0</td>\n",
       "    </tr>\n",
       "    <tr>\n",
       "      <th>2</th>\n",
       "      <td>2</td>\n",
       "      <td>0</td>\n",
       "      <td>0</td>\n",
       "    </tr>\n",
       "    <tr>\n",
       "      <th>3</th>\n",
       "      <td>3</td>\n",
       "      <td>1</td>\n",
       "      <td>0</td>\n",
       "    </tr>\n",
       "    <tr>\n",
       "      <th>4</th>\n",
       "      <td>4</td>\n",
       "      <td>1</td>\n",
       "      <td>0</td>\n",
       "    </tr>\n",
       "    <tr>\n",
       "      <th>5</th>\n",
       "      <td>5</td>\n",
       "      <td>1</td>\n",
       "      <td>1</td>\n",
       "    </tr>\n",
       "    <tr>\n",
       "      <th>6</th>\n",
       "      <td>6</td>\n",
       "      <td>1</td>\n",
       "      <td>0</td>\n",
       "    </tr>\n",
       "    <tr>\n",
       "      <th>7</th>\n",
       "      <td>7</td>\n",
       "      <td>1</td>\n",
       "      <td>0</td>\n",
       "    </tr>\n",
       "    <tr>\n",
       "      <th>8</th>\n",
       "      <td>8</td>\n",
       "      <td>0</td>\n",
       "      <td>0</td>\n",
       "    </tr>\n",
       "    <tr>\n",
       "      <th>9</th>\n",
       "      <td>9</td>\n",
       "      <td>1</td>\n",
       "      <td>1</td>\n",
       "    </tr>\n",
       "  </tbody>\n",
       "</table>\n",
       "</div>"
      ],
      "text/plain": [
       "   uniqueid  anaemia  high_blood_pressure\n",
       "0         0        0                    1\n",
       "1         1        0                    0\n",
       "2         2        0                    0\n",
       "3         3        1                    0\n",
       "4         4        1                    0\n",
       "5         5        1                    1\n",
       "6         6        1                    0\n",
       "7         7        1                    0\n",
       "8         8        0                    0\n",
       "9         9        1                    1"
      ]
     },
     "execution_count": 84,
     "metadata": {},
     "output_type": "execute_result"
    }
   ],
   "source": [
    "SELECT * from blood_metrics_df LIMIT 10;"
   ]
  },
  {
   "cell_type": "code",
   "execution_count": 85,
   "id": "b8b1d941-df82-4e83-bd21-dcb559e60276",
   "metadata": {
    "customType": "sql",
    "dataFrameVariableName": "df",
    "executionTime": 2981,
    "initial": false,
    "integrationId": "952de905-fbbf-4647-9f71-091f7b4458b0",
    "lastSuccessfullyExecutedCode": "SELECT * from demographic_data LIMIT 10;"
   },
   "outputs": [
    {
     "data": {
      "application/com.datacamp.data-table.v1+json": {
       "table": {
        "data": [
         {
          "age": 58,
          "age_group": "50 - 70",
          "index": 0,
          "sex": 0,
          "uniqueid": 127
         },
         {
          "age": 61,
          "age_group": "50 - 70",
          "index": 1,
          "sex": 1,
          "uniqueid": 128
         },
         {
          "age": 53,
          "age_group": "50 - 70",
          "index": 2,
          "sex": 1,
          "uniqueid": 129
         },
         {
          "age": 53,
          "age_group": "50 - 70",
          "index": 3,
          "sex": 1,
          "uniqueid": 130
         },
         {
          "age": 60,
          "age_group": "50 - 70",
          "index": 4,
          "sex": 1,
          "uniqueid": 131
         },
         {
          "age": 46,
          "age_group": "10 - 50",
          "index": 5,
          "sex": 0,
          "uniqueid": 132
         },
         {
          "age": 63,
          "age_group": "50 - 70",
          "index": 6,
          "sex": 1,
          "uniqueid": 133
         },
         {
          "age": 81,
          "age_group": "80 - 120",
          "index": 7,
          "sex": 1,
          "uniqueid": 134
         },
         {
          "age": 75,
          "age_group": "70 - 80",
          "index": 8,
          "sex": 1,
          "uniqueid": 135
         },
         {
          "age": 65,
          "age_group": "50 - 70",
          "index": 9,
          "sex": 0,
          "uniqueid": 136
         }
        ],
        "schema": {
         "fields": [
          {
           "name": "index",
           "type": "integer"
          },
          {
           "name": "uniqueid",
           "type": "integer"
          },
          {
           "name": "age",
           "type": "integer"
          },
          {
           "name": "sex",
           "type": "integer"
          },
          {
           "name": "age_group",
           "type": "string"
          }
         ],
         "pandas_version": "1.4.0",
         "primaryKey": [
          "index"
         ]
        }
       },
       "total_rows": 10,
       "truncation_type": null
      },
      "text/html": [
       "<div>\n",
       "<style scoped>\n",
       "    .dataframe tbody tr th:only-of-type {\n",
       "        vertical-align: middle;\n",
       "    }\n",
       "\n",
       "    .dataframe tbody tr th {\n",
       "        vertical-align: top;\n",
       "    }\n",
       "\n",
       "    .dataframe thead th {\n",
       "        text-align: right;\n",
       "    }\n",
       "</style>\n",
       "<table border=\"1\" class=\"dataframe\">\n",
       "  <thead>\n",
       "    <tr style=\"text-align: right;\">\n",
       "      <th></th>\n",
       "      <th>uniqueid</th>\n",
       "      <th>age</th>\n",
       "      <th>sex</th>\n",
       "      <th>age_group</th>\n",
       "    </tr>\n",
       "  </thead>\n",
       "  <tbody>\n",
       "    <tr>\n",
       "      <th>0</th>\n",
       "      <td>127</td>\n",
       "      <td>58</td>\n",
       "      <td>0</td>\n",
       "      <td>50 - 70</td>\n",
       "    </tr>\n",
       "    <tr>\n",
       "      <th>1</th>\n",
       "      <td>128</td>\n",
       "      <td>61</td>\n",
       "      <td>1</td>\n",
       "      <td>50 - 70</td>\n",
       "    </tr>\n",
       "    <tr>\n",
       "      <th>2</th>\n",
       "      <td>129</td>\n",
       "      <td>53</td>\n",
       "      <td>1</td>\n",
       "      <td>50 - 70</td>\n",
       "    </tr>\n",
       "    <tr>\n",
       "      <th>3</th>\n",
       "      <td>130</td>\n",
       "      <td>53</td>\n",
       "      <td>1</td>\n",
       "      <td>50 - 70</td>\n",
       "    </tr>\n",
       "    <tr>\n",
       "      <th>4</th>\n",
       "      <td>131</td>\n",
       "      <td>60</td>\n",
       "      <td>1</td>\n",
       "      <td>50 - 70</td>\n",
       "    </tr>\n",
       "    <tr>\n",
       "      <th>5</th>\n",
       "      <td>132</td>\n",
       "      <td>46</td>\n",
       "      <td>0</td>\n",
       "      <td>10 - 50</td>\n",
       "    </tr>\n",
       "    <tr>\n",
       "      <th>6</th>\n",
       "      <td>133</td>\n",
       "      <td>63</td>\n",
       "      <td>1</td>\n",
       "      <td>50 - 70</td>\n",
       "    </tr>\n",
       "    <tr>\n",
       "      <th>7</th>\n",
       "      <td>134</td>\n",
       "      <td>81</td>\n",
       "      <td>1</td>\n",
       "      <td>80 - 120</td>\n",
       "    </tr>\n",
       "    <tr>\n",
       "      <th>8</th>\n",
       "      <td>135</td>\n",
       "      <td>75</td>\n",
       "      <td>1</td>\n",
       "      <td>70 - 80</td>\n",
       "    </tr>\n",
       "    <tr>\n",
       "      <th>9</th>\n",
       "      <td>136</td>\n",
       "      <td>65</td>\n",
       "      <td>0</td>\n",
       "      <td>50 - 70</td>\n",
       "    </tr>\n",
       "  </tbody>\n",
       "</table>\n",
       "</div>"
      ],
      "text/plain": [
       "   uniqueid  age  sex age_group\n",
       "0       127   58    0   50 - 70\n",
       "1       128   61    1   50 - 70\n",
       "2       129   53    1   50 - 70\n",
       "3       130   53    1   50 - 70\n",
       "4       131   60    1   50 - 70\n",
       "5       132   46    0   10 - 50\n",
       "6       133   63    1   50 - 70\n",
       "7       134   81    1  80 - 120\n",
       "8       135   75    1   70 - 80\n",
       "9       136   65    0   50 - 70"
      ]
     },
     "execution_count": 85,
     "metadata": {},
     "output_type": "execute_result"
    }
   ],
   "source": [
    "SELECT * from demographic_data LIMIT 10;"
   ]
  },
  {
   "cell_type": "code",
   "execution_count": 86,
   "id": "d101306f-e34c-44bf-8e0c-f1f61c033a19",
   "metadata": {
    "customType": "sql",
    "dataFrameVariableName": "df",
    "executionTime": 1623,
    "initial": false,
    "integrationId": "952de905-fbbf-4647-9f71-091f7b4458b0",
    "lastSuccessfullyExecutedCode": "SELECT * from follow_up_df LIMIT 10;"
   },
   "outputs": [
    {
     "data": {
      "application/com.datacamp.data-table.v1+json": {
       "table": {
        "data": [
         {
          "death_event": 1,
          "index": 0,
          "time": 4,
          "uniqueid": 0
         },
         {
          "death_event": 1,
          "index": 1,
          "time": 6,
          "uniqueid": 1
         },
         {
          "death_event": 1,
          "index": 2,
          "time": 7,
          "uniqueid": 2
         },
         {
          "death_event": 1,
          "index": 3,
          "time": 7,
          "uniqueid": 3
         },
         {
          "death_event": 1,
          "index": 4,
          "time": 8,
          "uniqueid": 4
         },
         {
          "death_event": 1,
          "index": 5,
          "time": 8,
          "uniqueid": 5
         },
         {
          "death_event": 1,
          "index": 6,
          "time": 10,
          "uniqueid": 6
         },
         {
          "death_event": 1,
          "index": 7,
          "time": 10,
          "uniqueid": 7
         },
         {
          "death_event": 1,
          "index": 8,
          "time": 10,
          "uniqueid": 8
         },
         {
          "death_event": 1,
          "index": 9,
          "time": 10,
          "uniqueid": 9
         }
        ],
        "schema": {
         "fields": [
          {
           "name": "index",
           "type": "integer"
          },
          {
           "name": "uniqueid",
           "type": "integer"
          },
          {
           "name": "time",
           "type": "integer"
          },
          {
           "name": "death_event",
           "type": "integer"
          }
         ],
         "pandas_version": "1.4.0",
         "primaryKey": [
          "index"
         ]
        }
       },
       "total_rows": 10,
       "truncation_type": null
      },
      "text/html": [
       "<div>\n",
       "<style scoped>\n",
       "    .dataframe tbody tr th:only-of-type {\n",
       "        vertical-align: middle;\n",
       "    }\n",
       "\n",
       "    .dataframe tbody tr th {\n",
       "        vertical-align: top;\n",
       "    }\n",
       "\n",
       "    .dataframe thead th {\n",
       "        text-align: right;\n",
       "    }\n",
       "</style>\n",
       "<table border=\"1\" class=\"dataframe\">\n",
       "  <thead>\n",
       "    <tr style=\"text-align: right;\">\n",
       "      <th></th>\n",
       "      <th>uniqueid</th>\n",
       "      <th>time</th>\n",
       "      <th>death_event</th>\n",
       "    </tr>\n",
       "  </thead>\n",
       "  <tbody>\n",
       "    <tr>\n",
       "      <th>0</th>\n",
       "      <td>0</td>\n",
       "      <td>4</td>\n",
       "      <td>1</td>\n",
       "    </tr>\n",
       "    <tr>\n",
       "      <th>1</th>\n",
       "      <td>1</td>\n",
       "      <td>6</td>\n",
       "      <td>1</td>\n",
       "    </tr>\n",
       "    <tr>\n",
       "      <th>2</th>\n",
       "      <td>2</td>\n",
       "      <td>7</td>\n",
       "      <td>1</td>\n",
       "    </tr>\n",
       "    <tr>\n",
       "      <th>3</th>\n",
       "      <td>3</td>\n",
       "      <td>7</td>\n",
       "      <td>1</td>\n",
       "    </tr>\n",
       "    <tr>\n",
       "      <th>4</th>\n",
       "      <td>4</td>\n",
       "      <td>8</td>\n",
       "      <td>1</td>\n",
       "    </tr>\n",
       "    <tr>\n",
       "      <th>5</th>\n",
       "      <td>5</td>\n",
       "      <td>8</td>\n",
       "      <td>1</td>\n",
       "    </tr>\n",
       "    <tr>\n",
       "      <th>6</th>\n",
       "      <td>6</td>\n",
       "      <td>10</td>\n",
       "      <td>1</td>\n",
       "    </tr>\n",
       "    <tr>\n",
       "      <th>7</th>\n",
       "      <td>7</td>\n",
       "      <td>10</td>\n",
       "      <td>1</td>\n",
       "    </tr>\n",
       "    <tr>\n",
       "      <th>8</th>\n",
       "      <td>8</td>\n",
       "      <td>10</td>\n",
       "      <td>1</td>\n",
       "    </tr>\n",
       "    <tr>\n",
       "      <th>9</th>\n",
       "      <td>9</td>\n",
       "      <td>10</td>\n",
       "      <td>1</td>\n",
       "    </tr>\n",
       "  </tbody>\n",
       "</table>\n",
       "</div>"
      ],
      "text/plain": [
       "   uniqueid  time  death_event\n",
       "0         0     4            1\n",
       "1         1     6            1\n",
       "2         2     7            1\n",
       "3         3     7            1\n",
       "4         4     8            1\n",
       "5         5     8            1\n",
       "6         6    10            1\n",
       "7         7    10            1\n",
       "8         8    10            1\n",
       "9         9    10            1"
      ]
     },
     "execution_count": 86,
     "metadata": {},
     "output_type": "execute_result"
    }
   ],
   "source": [
    "SELECT * from follow_up_df LIMIT 10;"
   ]
  },
  {
   "cell_type": "markdown",
   "id": "55ad59e9-6267-4286-bcd9-29e047c07e43",
   "metadata": {},
   "source": [
    "# Important notice\n",
    "\n",
    "I assumed that 1 **always** represents 'yes' and/or 'true'."
   ]
  },
  {
   "cell_type": "markdown",
   "id": "67047a90-2815-4b55-8148-f6a2cf722292",
   "metadata": {},
   "source": [
    "# SQL task 1 - Question\n",
    "How many death cases do we have in this dataset?\n",
    "\n",
    "## SQL task 1 - Answer\n",
    "96 out of 299 patients passed away during the follow-up period."
   ]
  },
  {
   "cell_type": "code",
   "execution_count": 87,
   "id": "16759bc7-7392-429d-a008-18d57754a869",
   "metadata": {
    "chartConfig": {
     "bar": {
      "hasRoundedCorners": true,
      "stacked": false
     },
     "type": "bar",
     "version": "v1",
     "x": {
      "field": "total_observations",
      "type": "integer"
     },
     "y": {
      "field": "death_event_count",
      "type": "integer"
     }
    },
    "customType": "sql",
    "dataFrameVariableName": "df",
    "executionTime": 2295,
    "initial": false,
    "integrationId": "952de905-fbbf-4647-9f71-091f7b4458b0",
    "lastSuccessfullyExecutedCode": "SELECT\n    SUM (CASE WHEN death_event = 1 THEN 1 END) as death_event_count,\n    COUNT(*) as total_observations\nFROM follow_up_df;",
    "visualizeDataframe": false
   },
   "outputs": [
    {
     "data": {
      "application/com.datacamp.data-table.v1+json": {
       "table": {
        "data": [
         {
          "death_event_count": 96,
          "index": 0,
          "total_observations": 299
         }
        ],
        "schema": {
         "fields": [
          {
           "name": "index",
           "type": "integer"
          },
          {
           "name": "death_event_count",
           "type": "integer"
          },
          {
           "name": "total_observations",
           "type": "integer"
          }
         ],
         "pandas_version": "1.4.0",
         "primaryKey": [
          "index"
         ]
        }
       },
       "total_rows": 1,
       "truncation_type": null
      },
      "text/html": [
       "<div>\n",
       "<style scoped>\n",
       "    .dataframe tbody tr th:only-of-type {\n",
       "        vertical-align: middle;\n",
       "    }\n",
       "\n",
       "    .dataframe tbody tr th {\n",
       "        vertical-align: top;\n",
       "    }\n",
       "\n",
       "    .dataframe thead th {\n",
       "        text-align: right;\n",
       "    }\n",
       "</style>\n",
       "<table border=\"1\" class=\"dataframe\">\n",
       "  <thead>\n",
       "    <tr style=\"text-align: right;\">\n",
       "      <th></th>\n",
       "      <th>death_event_count</th>\n",
       "      <th>total_observations</th>\n",
       "    </tr>\n",
       "  </thead>\n",
       "  <tbody>\n",
       "    <tr>\n",
       "      <th>0</th>\n",
       "      <td>96</td>\n",
       "      <td>299</td>\n",
       "    </tr>\n",
       "  </tbody>\n",
       "</table>\n",
       "</div>"
      ],
      "text/plain": [
       "   death_event_count  total_observations\n",
       "0                 96                 299"
      ]
     },
     "execution_count": 87,
     "metadata": {},
     "output_type": "execute_result"
    }
   ],
   "source": [
    "SELECT\n",
    "    SUM (CASE WHEN death_event = 1 THEN 1 END) as death_event_count,\n",
    "    COUNT(*) as total_observations\n",
    "FROM follow_up_df;"
   ]
  },
  {
   "cell_type": "markdown",
   "id": "2d4cb30a-ddb1-4dd6-886e-a47102da0819",
   "metadata": {},
   "source": [
    "# SQL task 2 - Question\n",
    "Per each sex (M, F), show the amount of “death” records in the data.\n",
    "\n",
    "## SQL task 2 - Answer\n",
    "Of the 96 deaths (see task 1), 34 are female (0=F), 64 are male (1=M)."
   ]
  },
  {
   "cell_type": "code",
   "execution_count": 88,
   "id": "6b809c9e-7759-4f2f-a456-574ffe603ce7",
   "metadata": {
    "customType": "sql",
    "dataFrameVariableName": "df",
    "executionTime": 2050,
    "initial": false,
    "integrationId": "952de905-fbbf-4647-9f71-091f7b4458b0",
    "lastSuccessfullyExecutedCode": "SELECT\n    d.sex,\n    SUM(f.death_event) as death_event_count,\n    COUNT(*) as total_observations\nFROM\n    demographic_data AS d\nJOIN \n    follow_up_df AS f\nON\n    d.uniqueid = f.uniqueid\nGROUP BY d.sex;"
   },
   "outputs": [
    {
     "data": {
      "application/com.datacamp.data-table.v1+json": {
       "table": {
        "data": [
         {
          "death_event_count": 34,
          "index": 0,
          "sex": 0,
          "total_observations": 105
         },
         {
          "death_event_count": 62,
          "index": 1,
          "sex": 1,
          "total_observations": 194
         }
        ],
        "schema": {
         "fields": [
          {
           "name": "index",
           "type": "integer"
          },
          {
           "name": "sex",
           "type": "integer"
          },
          {
           "name": "death_event_count",
           "type": "integer"
          },
          {
           "name": "total_observations",
           "type": "integer"
          }
         ],
         "pandas_version": "1.4.0",
         "primaryKey": [
          "index"
         ]
        }
       },
       "total_rows": 2,
       "truncation_type": null
      },
      "text/html": [
       "<div>\n",
       "<style scoped>\n",
       "    .dataframe tbody tr th:only-of-type {\n",
       "        vertical-align: middle;\n",
       "    }\n",
       "\n",
       "    .dataframe tbody tr th {\n",
       "        vertical-align: top;\n",
       "    }\n",
       "\n",
       "    .dataframe thead th {\n",
       "        text-align: right;\n",
       "    }\n",
       "</style>\n",
       "<table border=\"1\" class=\"dataframe\">\n",
       "  <thead>\n",
       "    <tr style=\"text-align: right;\">\n",
       "      <th></th>\n",
       "      <th>sex</th>\n",
       "      <th>death_event_count</th>\n",
       "      <th>total_observations</th>\n",
       "    </tr>\n",
       "  </thead>\n",
       "  <tbody>\n",
       "    <tr>\n",
       "      <th>0</th>\n",
       "      <td>0</td>\n",
       "      <td>34</td>\n",
       "      <td>105</td>\n",
       "    </tr>\n",
       "    <tr>\n",
       "      <th>1</th>\n",
       "      <td>1</td>\n",
       "      <td>62</td>\n",
       "      <td>194</td>\n",
       "    </tr>\n",
       "  </tbody>\n",
       "</table>\n",
       "</div>"
      ],
      "text/plain": [
       "   sex  death_event_count  total_observations\n",
       "0    0                 34                 105\n",
       "1    1                 62                 194"
      ]
     },
     "execution_count": 88,
     "metadata": {},
     "output_type": "execute_result"
    }
   ],
   "source": [
    "SELECT\n",
    "    d.sex,\n",
    "    SUM(f.death_event) as death_event_count,\n",
    "    COUNT(*) as total_observations\n",
    "FROM\n",
    "    demographic_data AS d\n",
    "JOIN \n",
    "    follow_up_df AS f\n",
    "ON\n",
    "    d.uniqueid = f.uniqueid\n",
    "GROUP BY d.sex;"
   ]
  },
  {
   "cell_type": "markdown",
   "id": "9ec1d116-25a8-423d-a9b1-b8a982b85a07",
   "metadata": {},
   "source": [
    "# SQL task 3 - Question\n",
    "Calculate the following statistics for serum_creatinine, per each anaemia category - Min, Max, Average, Range.\n",
    "\n",
    "## SQL task 3 - Answer\n",
    "See table below for statistics. In summary, serum creatinine is elevated in anemic patients. The reason behind this is that less red blood cells (anemia) results in reduced oxygen transport and subsequent muscle breakdown (due to anearobic metabolism), which increases serum creatinine levels."
   ]
  },
  {
   "cell_type": "code",
   "execution_count": 89,
   "id": "d717dcb7-5105-4f11-b54d-95f3966750c0",
   "metadata": {
    "customType": "sql",
    "dataFrameVariableName": "df",
    "executionTime": 1651,
    "initial": false,
    "integrationId": "952de905-fbbf-4647-9f71-091f7b4458b0",
    "lastSuccessfullyExecutedCode": "SELECT\n    b.anaemia,\n    MIN(p.serum_creatinine),\n    MAX(p.serum_creatinine),\n    AVG(p.serum_creatinine),\n    MAX(p.serum_creatinine) - MIN(p.serum_creatinine) AS range\nFROM\n    base_metrics_patient AS p\nJOIN \n    blood_metrics_df AS b\nON\n    p.uniqueid = b.uniqueid\nGROUP BY\n    b.anaemia;"
   },
   "outputs": [
    {
     "data": {
      "application/com.datacamp.data-table.v1+json": {
       "table": {
        "data": [
         {
          "anaemia": 0,
          "avg": 1.3469411765,
          "index": 0,
          "max": 6.8,
          "min": 0.5,
          "range": 6.3
         },
         {
          "anaemia": 1,
          "avg": 1.4557364341,
          "index": 1,
          "max": 9.4,
          "min": 0.6,
          "range": 8.8
         }
        ],
        "schema": {
         "fields": [
          {
           "name": "index",
           "type": "integer"
          },
          {
           "name": "anaemia",
           "type": "integer"
          },
          {
           "name": "min",
           "type": "number"
          },
          {
           "name": "max",
           "type": "number"
          },
          {
           "name": "avg",
           "type": "number"
          },
          {
           "name": "range",
           "type": "number"
          }
         ],
         "pandas_version": "1.4.0",
         "primaryKey": [
          "index"
         ]
        }
       },
       "total_rows": 2,
       "truncation_type": null
      },
      "text/html": [
       "<div>\n",
       "<style scoped>\n",
       "    .dataframe tbody tr th:only-of-type {\n",
       "        vertical-align: middle;\n",
       "    }\n",
       "\n",
       "    .dataframe tbody tr th {\n",
       "        vertical-align: top;\n",
       "    }\n",
       "\n",
       "    .dataframe thead th {\n",
       "        text-align: right;\n",
       "    }\n",
       "</style>\n",
       "<table border=\"1\" class=\"dataframe\">\n",
       "  <thead>\n",
       "    <tr style=\"text-align: right;\">\n",
       "      <th></th>\n",
       "      <th>anaemia</th>\n",
       "      <th>min</th>\n",
       "      <th>max</th>\n",
       "      <th>avg</th>\n",
       "      <th>range</th>\n",
       "    </tr>\n",
       "  </thead>\n",
       "  <tbody>\n",
       "    <tr>\n",
       "      <th>0</th>\n",
       "      <td>0</td>\n",
       "      <td>0.5</td>\n",
       "      <td>6.8</td>\n",
       "      <td>1.346941</td>\n",
       "      <td>6.3</td>\n",
       "    </tr>\n",
       "    <tr>\n",
       "      <th>1</th>\n",
       "      <td>1</td>\n",
       "      <td>0.6</td>\n",
       "      <td>9.4</td>\n",
       "      <td>1.455736</td>\n",
       "      <td>8.8</td>\n",
       "    </tr>\n",
       "  </tbody>\n",
       "</table>\n",
       "</div>"
      ],
      "text/plain": [
       "   anaemia  min  max       avg  range\n",
       "0        0  0.5  6.8  1.346941    6.3\n",
       "1        1  0.6  9.4  1.455736    8.8"
      ]
     },
     "execution_count": 89,
     "metadata": {},
     "output_type": "execute_result"
    }
   ],
   "source": [
    "SELECT\n",
    "    b.anaemia,\n",
    "    MIN(p.serum_creatinine),\n",
    "    MAX(p.serum_creatinine),\n",
    "    AVG(p.serum_creatinine),\n",
    "    MAX(p.serum_creatinine) - MIN(p.serum_creatinine) AS range\n",
    "FROM\n",
    "    base_metrics_patient AS p\n",
    "JOIN \n",
    "    blood_metrics_df AS b\n",
    "ON\n",
    "    p.uniqueid = b.uniqueid\n",
    "GROUP BY\n",
    "    b.anaemia;"
   ]
  },
  {
   "cell_type": "markdown",
   "id": "53a6e73f-99d0-47f4-a2d1-5455e330a27f",
   "metadata": {},
   "source": [
    "# SQL task 4 - Question\n",
    "Let’s define a new metric - almost_outlier. An “almost_outlier” is a value which its serum_creatinine is higher than the overall serum_creatinine average, by 1.5. How many “almost_outlier” do we have in our dataset?\n",
    "\n",
    "## SQL task 4 - Answer\n",
    "17 out of 299 patient have a serum creatine level higher than the average serum creatine + 1.5 mg/dL in their blood."
   ]
  },
  {
   "cell_type": "code",
   "execution_count": 90,
   "id": "9297e01a-2b7b-4425-9401-d56303024480",
   "metadata": {
    "customType": "sql",
    "dataFrameVariableName": "df",
    "executionTime": 1783,
    "initial": false,
    "integrationId": "952de905-fbbf-4647-9f71-091f7b4458b0",
    "lastSuccessfullyExecutedCode": "WITH sc_avg AS (\n    SELECT\n         AVG(serum_creatinine) AS sc_avg\n     FROM\n         base_metrics_patient)\n\nSELECT \n    SUM (CASE WHEN p.serum_creatinine > (sc_avg.sc_avg + 1.5) THEN 1 ELSE 0 END) AS almost_outlier\nFROM\n    base_metrics_patient AS p\nCROSS JOIN\n    sc_avg"
   },
   "outputs": [
    {
     "data": {
      "application/com.datacamp.data-table.v1+json": {
       "table": {
        "data": [
         {
          "almost_outlier": 17,
          "index": 0
         }
        ],
        "schema": {
         "fields": [
          {
           "name": "index",
           "type": "integer"
          },
          {
           "name": "almost_outlier",
           "type": "integer"
          }
         ],
         "pandas_version": "1.4.0",
         "primaryKey": [
          "index"
         ]
        }
       },
       "total_rows": 1,
       "truncation_type": null
      },
      "text/html": [
       "<div>\n",
       "<style scoped>\n",
       "    .dataframe tbody tr th:only-of-type {\n",
       "        vertical-align: middle;\n",
       "    }\n",
       "\n",
       "    .dataframe tbody tr th {\n",
       "        vertical-align: top;\n",
       "    }\n",
       "\n",
       "    .dataframe thead th {\n",
       "        text-align: right;\n",
       "    }\n",
       "</style>\n",
       "<table border=\"1\" class=\"dataframe\">\n",
       "  <thead>\n",
       "    <tr style=\"text-align: right;\">\n",
       "      <th></th>\n",
       "      <th>almost_outlier</th>\n",
       "    </tr>\n",
       "  </thead>\n",
       "  <tbody>\n",
       "    <tr>\n",
       "      <th>0</th>\n",
       "      <td>17</td>\n",
       "    </tr>\n",
       "  </tbody>\n",
       "</table>\n",
       "</div>"
      ],
      "text/plain": [
       "   almost_outlier\n",
       "0              17"
      ]
     },
     "execution_count": 90,
     "metadata": {},
     "output_type": "execute_result"
    }
   ],
   "source": [
    "WITH sc_avg AS (\n",
    "    SELECT\n",
    "         AVG(serum_creatinine) AS sc_avg\n",
    "     FROM\n",
    "         base_metrics_patient)\n",
    "\n",
    "SELECT \n",
    "    SUM (CASE WHEN p.serum_creatinine > (sc_avg.sc_avg + 1.5) THEN 1 ELSE 0 END) AS almost_outlier\n",
    "FROM\n",
    "    base_metrics_patient AS p\n",
    "CROSS JOIN\n",
    "    sc_avg"
   ]
  },
  {
   "cell_type": "markdown",
   "id": "1263a385-38cb-464e-be18-e6cde94d4a25",
   "metadata": {},
   "source": [
    "# SQL task 5 - Question\n",
    "Per each gender + smoker category, find out the min, max and mean of creatinine_phosphokinase (mcg/L).\n",
    "\n",
    "## SQL task 5 - Answer\n",
    "0: Female + Nonsmoker\n",
    "<br> 1: Male + Smoker\n",
    "<br> 2: Female + Nonsmoker\n",
    "<br> 3: Male + Nonsmoker"
   ]
  },
  {
   "cell_type": "code",
   "execution_count": 91,
   "id": "a2016cb5-dcd1-45ab-9c83-98fb93920671",
   "metadata": {
    "collapsed": false,
    "customType": "sql",
    "dataFrameVariableName": "df",
    "executionTime": 1659,
    "initial": false,
    "integrationId": "952de905-fbbf-4647-9f71-091f7b4458b0",
    "jupyter": {
     "outputs_hidden": false,
     "source_hidden": false
    },
    "lastSuccessfullyExecutedCode": "SELECT\n    d.sex,\n    p.smoking,\n    MIN(p.creatinine_phosphokinase),\n    MAX(p.creatinine_phosphokinase),\n    AVG(p.creatinine_phosphokinase)\nFROM\n    base_metrics_patient AS p\nJOIN \n    demographic_data AS d\nON\n    p.uniqueid = d.uniqueid\nGROUP BY\n    d.sex, p.smoking;"
   },
   "outputs": [
    {
     "data": {
      "application/com.datacamp.data-table.v1+json": {
       "table": {
        "data": [
         {
          "avg": 487.702970297,
          "index": 0,
          "max": 3964,
          "min": 52,
          "sex": 0,
          "smoking": 0
         },
         {
          "avg": 601.9565217391,
          "index": 1,
          "max": 5882,
          "min": 47,
          "sex": 1,
          "smoking": 1
         },
         {
          "avg": 201,
          "index": 2,
          "max": 328,
          "min": 92,
          "sex": 0,
          "smoking": 1
         },
         {
          "avg": 671.8431372549,
          "index": 3,
          "max": 7861,
          "min": 23,
          "sex": 1,
          "smoking": 0
         }
        ],
        "schema": {
         "fields": [
          {
           "name": "index",
           "type": "integer"
          },
          {
           "name": "sex",
           "type": "integer"
          },
          {
           "name": "smoking",
           "type": "integer"
          },
          {
           "name": "min",
           "type": "integer"
          },
          {
           "name": "max",
           "type": "integer"
          },
          {
           "name": "avg",
           "type": "number"
          }
         ],
         "pandas_version": "1.4.0",
         "primaryKey": [
          "index"
         ]
        }
       },
       "total_rows": 4,
       "truncation_type": null
      },
      "text/html": [
       "<div>\n",
       "<style scoped>\n",
       "    .dataframe tbody tr th:only-of-type {\n",
       "        vertical-align: middle;\n",
       "    }\n",
       "\n",
       "    .dataframe tbody tr th {\n",
       "        vertical-align: top;\n",
       "    }\n",
       "\n",
       "    .dataframe thead th {\n",
       "        text-align: right;\n",
       "    }\n",
       "</style>\n",
       "<table border=\"1\" class=\"dataframe\">\n",
       "  <thead>\n",
       "    <tr style=\"text-align: right;\">\n",
       "      <th></th>\n",
       "      <th>sex</th>\n",
       "      <th>smoking</th>\n",
       "      <th>min</th>\n",
       "      <th>max</th>\n",
       "      <th>avg</th>\n",
       "    </tr>\n",
       "  </thead>\n",
       "  <tbody>\n",
       "    <tr>\n",
       "      <th>0</th>\n",
       "      <td>0</td>\n",
       "      <td>0</td>\n",
       "      <td>52</td>\n",
       "      <td>3964</td>\n",
       "      <td>487.702970</td>\n",
       "    </tr>\n",
       "    <tr>\n",
       "      <th>1</th>\n",
       "      <td>1</td>\n",
       "      <td>1</td>\n",
       "      <td>47</td>\n",
       "      <td>5882</td>\n",
       "      <td>601.956522</td>\n",
       "    </tr>\n",
       "    <tr>\n",
       "      <th>2</th>\n",
       "      <td>0</td>\n",
       "      <td>1</td>\n",
       "      <td>92</td>\n",
       "      <td>328</td>\n",
       "      <td>201.000000</td>\n",
       "    </tr>\n",
       "    <tr>\n",
       "      <th>3</th>\n",
       "      <td>1</td>\n",
       "      <td>0</td>\n",
       "      <td>23</td>\n",
       "      <td>7861</td>\n",
       "      <td>671.843137</td>\n",
       "    </tr>\n",
       "  </tbody>\n",
       "</table>\n",
       "</div>"
      ],
      "text/plain": [
       "   sex  smoking  min   max         avg\n",
       "0    0        0   52  3964  487.702970\n",
       "1    1        1   47  5882  601.956522\n",
       "2    0        1   92   328  201.000000\n",
       "3    1        0   23  7861  671.843137"
      ]
     },
     "execution_count": 91,
     "metadata": {},
     "output_type": "execute_result"
    }
   ],
   "source": [
    "SELECT\n",
    "    d.sex,\n",
    "    p.smoking,\n",
    "    MIN(p.creatinine_phosphokinase),\n",
    "    MAX(p.creatinine_phosphokinase),\n",
    "    AVG(p.creatinine_phosphokinase)\n",
    "FROM\n",
    "    base_metrics_patient AS p\n",
    "JOIN \n",
    "    demographic_data AS d\n",
    "ON\n",
    "    p.uniqueid = d.uniqueid\n",
    "GROUP BY\n",
    "    d.sex, p.smoking;"
   ]
  },
  {
   "cell_type": "markdown",
   "id": "9f772067-c884-4cf9-89c6-cf07ae44c24f",
   "metadata": {},
   "source": [
    "# SQL task 6 - Question\n",
    "\n",
    "Out of persons in each group, what’s the % of smokers are there. Make sure to round the answer up to 4 decimal points\n",
    "how many patients with high_blood_pressure out there\n",
    "what is the avg. level of serum_sodium. Make sure to round the answer up to 4 decimal points\n",
    "\n",
    "## SQL task 6 - Answer\n",
    "The percentage of smokers is the lowest (+/- 27%) in the youngest and oldest age group, and the highest (+/- 35%) for the middle two age groups. Around 33% suffers from high blood pressure. Serum sodium is unequivocally around 136 mEq/L, which is considered low but within bounds."
   ]
  },
  {
   "cell_type": "markdown",
   "id": "34ef2dac-82ba-4c06-8b97-6b788b71ee60",
   "metadata": {},
   "source": [
    "\n",
    "Cell converted to Markdown, because I couldn't figure out how to disable a cell like in Jupyter\n",
    "\n",
    "-- Add the age_group column to the demographic_data table\n",
    "\n",
    "ALTER TABLE demographic_data\n",
    "ADD age_group text;\n",
    "\n",
    "-- Update the age_group column with the values from the CASE expression\n",
    "\n",
    "UPDATE demographic_data\n",
    "SET age_group = \n",
    "    CASE\n",
    "        WHEN age > 10 AND age <= 50 THEN '10 - 50'\n",
    "        WHEN age > 50 AND age <= 70 THEN '50 - 70'\n",
    "        WHEN age > 70 AND age <= 80 THEN '70 - 80'\n",
    "        WHEN age > 80 AND age <= 120 THEN '80 - 120'\n",
    "        ELSE 'Invalid age'\n",
    "    END;"
   ]
  },
  {
   "cell_type": "code",
   "execution_count": 92,
   "id": "adbf33b9-1940-4f72-ba3f-b9698111e449",
   "metadata": {
    "customType": "sql",
    "dataFrameVariableName": "df",
    "executionTime": 1540,
    "initial": false,
    "integrationId": "952de905-fbbf-4647-9f71-091f7b4458b0",
    "lastSuccessfullyExecutedCode": "SELECT \n    d.age_group,\n    ROUND(100.0 * SUM(CASE WHEN p.smoking = 1 THEN 1 ELSE 0 END) / COUNT(*), 4) AS percentage_smoker,\n    COUNT(CASE WHEN b.high_blood_pressure = 1 THEN 1 ELSE NULL END) as high_blood_pressure_count,\n    ROUND(AVG(p.serum_sodium), 4) as avg_serum_sodium\nFROM\n    demographic_data AS d\nJOIN\n    base_metrics_patient AS p\nON\n    d.uniqueid = p.uniqueid\nJOIN\n    blood_metrics_df AS b\nON\n    p.uniqueid = b.uniqueid\nGROUP BY \n    d.age_group\nORDER BY\n    d.age_group"
   },
   "outputs": [
    {
     "data": {
      "application/com.datacamp.data-table.v1+json": {
       "table": {
        "data": [
         {
          "age_group": "10 - 50",
          "avg_serum_sodium": 136.3243,
          "high_blood_pressure_count": 24,
          "index": 0,
          "percentage_smoker": 27.027
         },
         {
          "age_group": "50 - 70",
          "avg_serum_sodium": 136.9306,
          "high_blood_pressure_count": 58,
          "index": 1,
          "percentage_smoker": 34.104
         },
         {
          "age_group": "70 - 80",
          "avg_serum_sodium": 136.2353,
          "high_blood_pressure_count": 19,
          "index": 2,
          "percentage_smoker": 35.2941
         },
         {
          "age_group": "80 - 120",
          "avg_serum_sodium": 135.6667,
          "high_blood_pressure_count": 4,
          "index": 3,
          "percentage_smoker": 27.7778
         }
        ],
        "schema": {
         "fields": [
          {
           "name": "index",
           "type": "integer"
          },
          {
           "name": "age_group",
           "type": "string"
          },
          {
           "name": "percentage_smoker",
           "type": "number"
          },
          {
           "name": "high_blood_pressure_count",
           "type": "integer"
          },
          {
           "name": "avg_serum_sodium",
           "type": "number"
          }
         ],
         "pandas_version": "1.4.0",
         "primaryKey": [
          "index"
         ]
        }
       },
       "total_rows": 4,
       "truncation_type": null
      },
      "text/html": [
       "<div>\n",
       "<style scoped>\n",
       "    .dataframe tbody tr th:only-of-type {\n",
       "        vertical-align: middle;\n",
       "    }\n",
       "\n",
       "    .dataframe tbody tr th {\n",
       "        vertical-align: top;\n",
       "    }\n",
       "\n",
       "    .dataframe thead th {\n",
       "        text-align: right;\n",
       "    }\n",
       "</style>\n",
       "<table border=\"1\" class=\"dataframe\">\n",
       "  <thead>\n",
       "    <tr style=\"text-align: right;\">\n",
       "      <th></th>\n",
       "      <th>age_group</th>\n",
       "      <th>percentage_smoker</th>\n",
       "      <th>high_blood_pressure_count</th>\n",
       "      <th>avg_serum_sodium</th>\n",
       "    </tr>\n",
       "  </thead>\n",
       "  <tbody>\n",
       "    <tr>\n",
       "      <th>0</th>\n",
       "      <td>10 - 50</td>\n",
       "      <td>27.0270</td>\n",
       "      <td>24</td>\n",
       "      <td>136.3243</td>\n",
       "    </tr>\n",
       "    <tr>\n",
       "      <th>1</th>\n",
       "      <td>50 - 70</td>\n",
       "      <td>34.1040</td>\n",
       "      <td>58</td>\n",
       "      <td>136.9306</td>\n",
       "    </tr>\n",
       "    <tr>\n",
       "      <th>2</th>\n",
       "      <td>70 - 80</td>\n",
       "      <td>35.2941</td>\n",
       "      <td>19</td>\n",
       "      <td>136.2353</td>\n",
       "    </tr>\n",
       "    <tr>\n",
       "      <th>3</th>\n",
       "      <td>80 - 120</td>\n",
       "      <td>27.7778</td>\n",
       "      <td>4</td>\n",
       "      <td>135.6667</td>\n",
       "    </tr>\n",
       "  </tbody>\n",
       "</table>\n",
       "</div>"
      ],
      "text/plain": [
       "  age_group  percentage_smoker  high_blood_pressure_count  avg_serum_sodium\n",
       "0   10 - 50            27.0270                         24          136.3243\n",
       "1   50 - 70            34.1040                         58          136.9306\n",
       "2   70 - 80            35.2941                         19          136.2353\n",
       "3  80 - 120            27.7778                          4          135.6667"
      ]
     },
     "execution_count": 92,
     "metadata": {},
     "output_type": "execute_result"
    }
   ],
   "source": [
    "SELECT \n",
    "    d.age_group,\n",
    "    ROUND(100.0 * SUM(CASE WHEN p.smoking = 1 THEN 1 ELSE 0 END) / COUNT(*), 4) AS percentage_smoker,\n",
    "    COUNT(CASE WHEN b.high_blood_pressure = 1 THEN 1 ELSE NULL END) as high_blood_pressure_count,\n",
    "    ROUND(AVG(p.serum_sodium), 4) as avg_serum_sodium\n",
    "FROM\n",
    "    demographic_data AS d\n",
    "JOIN\n",
    "    base_metrics_patient AS p\n",
    "ON\n",
    "    d.uniqueid = p.uniqueid\n",
    "JOIN\n",
    "    blood_metrics_df AS b\n",
    "ON\n",
    "    p.uniqueid = b.uniqueid\n",
    "GROUP BY \n",
    "    d.age_group\n",
    "ORDER BY\n",
    "    d.age_group"
   ]
  },
  {
   "cell_type": "markdown",
   "id": "ac3181a1-cae6-4036-aa05-d6103fa370b4",
   "metadata": {},
   "source": [
    "# SQL task 7 - Question\n",
    "\n",
    "Using the age_group column from above, some hospitals are interested to know who are the top 10 patient ID with the highest serum_creatinine. Help them find that information. Meaning - for each age_group, who are the top 10 patient IDs with the highest serum_creatinine?\n",
    "\n",
    "## SQL task 7 - Answer\n",
    "In the first column results are partitioned by age group (chronologically), in the next column the rank, subsequently results per age group are ordered by the serum creatinine level，and finally the unique ID of the patient.\n",
    "\n",
    "Source: https://www.youtube.com/watch?v=HYeZKS9F2b0 (How to Add a Row Number to Your SQL Query Using row_number and partition by)"
   ]
  },
  {
   "cell_type": "code",
   "execution_count": 93,
   "id": "958f689a-b3c5-4d4e-8a23-803d2d1b110d",
   "metadata": {
    "customType": "sql",
    "dataFrameVariableName": "df",
    "executionTime": 1914,
    "initial": false,
    "integrationId": "952de905-fbbf-4647-9f71-091f7b4458b0",
    "lastSuccessfullyExecutedCode": "WITH patient_rank AS (\n    SELECT\n        d.age_group,\n        ROW_NUMBER() OVER (PARTITION BY d.age_group ORDER BY p.serum_creatinine DESC) AS rank,\n        p.serum_creatinine,\n        p.uniqueid\n    FROM \n        demographic_data AS d\n    JOIN\n        base_metrics_patient AS p\n    ON\n        d.uniqueid = p.uniqueid)\n\nSELECT\n    age_group,\n    rank,\n    serum_creatinine,\n    uniqueid\nFROM\n    patient_rank\nWHERE \n   rank <= 10\nORDER BY\n    age_group,\n    rank;"
   },
   "outputs": [
    {
     "data": {
      "application/com.datacamp.data-table.v1+json": {
       "table": {
        "data": [
         {
          "age_group": "10 - 50",
          "index": 0,
          "rank": 1,
          "serum_creatinine": 3.8,
          "uniqueid": 282
         },
         {
          "age_group": "10 - 50",
          "index": 1,
          "rank": 2,
          "serum_creatinine": 2.3,
          "uniqueid": 61
         },
         {
          "age_group": "10 - 50",
          "index": 2,
          "rank": 3,
          "serum_creatinine": 2.1,
          "uniqueid": 126
         },
         {
          "age_group": "10 - 50",
          "index": 3,
          "rank": 4,
          "serum_creatinine": 1.9,
          "uniqueid": 45
         },
         {
          "age_group": "10 - 50",
          "index": 4,
          "rank": 5,
          "serum_creatinine": 1.9,
          "uniqueid": 3
         },
         {
          "age_group": "10 - 50",
          "index": 5,
          "rank": 6,
          "serum_creatinine": 1.9,
          "uniqueid": 19
         },
         {
          "age_group": "10 - 50",
          "index": 6,
          "rank": 7,
          "serum_creatinine": 1.6,
          "uniqueid": 298
         },
         {
          "age_group": "10 - 50",
          "index": 7,
          "rank": 8,
          "serum_creatinine": 1.6,
          "uniqueid": 194
         },
         {
          "age_group": "10 - 50",
          "index": 8,
          "rank": 9,
          "serum_creatinine": 1.6,
          "uniqueid": 270
         },
         {
          "age_group": "10 - 50",
          "index": 9,
          "rank": 10,
          "serum_creatinine": 1.6,
          "uniqueid": 112
         },
         {
          "age_group": "50 - 70",
          "index": 10,
          "rank": 1,
          "serum_creatinine": 9,
          "uniqueid": 217
         },
         {
          "age_group": "50 - 70",
          "index": 11,
          "rank": 2,
          "serum_creatinine": 6.8,
          "uniqueid": 52
         },
         {
          "age_group": "50 - 70",
          "index": 12,
          "rank": 3,
          "serum_creatinine": 6.1,
          "uniqueid": 131
         },
         {
          "age_group": "50 - 70",
          "index": 13,
          "rank": 4,
          "serum_creatinine": 5.8,
          "uniqueid": 28
         },
         {
          "age_group": "50 - 70",
          "index": 14,
          "rank": 5,
          "serum_creatinine": 5,
          "uniqueid": 228
         },
         {
          "age_group": "50 - 70",
          "index": 15,
          "rank": 6,
          "serum_creatinine": 3.7,
          "uniqueid": 124
         },
         {
          "age_group": "50 - 70",
          "index": 16,
          "rank": 7,
          "serum_creatinine": 3.5,
          "uniqueid": 35
         },
         {
          "age_group": "50 - 70",
          "index": 17,
          "rank": 8,
          "serum_creatinine": 3.5,
          "uniqueid": 203
         },
         {
          "age_group": "50 - 70",
          "index": 18,
          "rank": 9,
          "serum_creatinine": 3.4,
          "uniqueid": 129
         },
         {
          "age_group": "50 - 70",
          "index": 19,
          "rank": 10,
          "serum_creatinine": 3,
          "uniqueid": 39
         },
         {
          "age_group": "70 - 80",
          "index": 20,
          "rank": 1,
          "serum_creatinine": 9.4,
          "uniqueid": 9
         },
         {
          "age_group": "70 - 80",
          "index": 21,
          "rank": 2,
          "serum_creatinine": 4.4,
          "uniqueid": 48
         },
         {
          "age_group": "70 - 80",
          "index": 22,
          "rank": 3,
          "serum_creatinine": 4,
          "uniqueid": 10
         },
         {
          "age_group": "70 - 80",
          "index": 23,
          "rank": 4,
          "serum_creatinine": 2.5,
          "uniqueid": 183
         },
         {
          "age_group": "70 - 80",
          "index": 24,
          "rank": 5,
          "serum_creatinine": 2.5,
          "uniqueid": 150
         },
         {
          "age_group": "70 - 80",
          "index": 25,
          "rank": 6,
          "serum_creatinine": 2.1,
          "uniqueid": 190
         },
         {
          "age_group": "70 - 80",
          "index": 26,
          "rank": 7,
          "serum_creatinine": 1.9,
          "uniqueid": 0
         },
         {
          "age_group": "70 - 80",
          "index": 27,
          "rank": 8,
          "serum_creatinine": 1.9,
          "uniqueid": 25
         },
         {
          "age_group": "70 - 80",
          "index": 28,
          "rank": 9,
          "serum_creatinine": 1.83,
          "uniqueid": 24
         },
         {
          "age_group": "70 - 80",
          "index": 29,
          "rank": 10,
          "serum_creatinine": 1.83,
          "uniqueid": 148
         },
         {
          "age_group": "80 - 120",
          "index": 30,
          "rank": 1,
          "serum_creatinine": 3.2,
          "uniqueid": 117
         },
         {
          "age_group": "80 - 120",
          "index": 31,
          "rank": 2,
          "serum_creatinine": 3,
          "uniqueid": 31
         },
         {
          "age_group": "80 - 120",
          "index": 32,
          "rank": 3,
          "serum_creatinine": 2.1,
          "uniqueid": 5
         },
         {
          "age_group": "80 - 120",
          "index": 33,
          "rank": 4,
          "serum_creatinine": 2,
          "uniqueid": 55
         },
         {
          "age_group": "80 - 120",
          "index": 34,
          "rank": 5,
          "serum_creatinine": 1.83,
          "uniqueid": 119
         },
         {
          "age_group": "80 - 120",
          "index": 35,
          "rank": 6,
          "serum_creatinine": 1.83,
          "uniqueid": 30
         },
         {
          "age_group": "80 - 120",
          "index": 36,
          "rank": 7,
          "serum_creatinine": 1.3,
          "uniqueid": 15
         },
         {
          "age_group": "80 - 120",
          "index": 37,
          "rank": 8,
          "serum_creatinine": 1.3,
          "uniqueid": 158
         },
         {
          "age_group": "80 - 120",
          "index": 38,
          "rank": 9,
          "serum_creatinine": 1.2,
          "uniqueid": 110
         },
         {
          "age_group": "80 - 120",
          "index": 39,
          "rank": 10,
          "serum_creatinine": 1.2,
          "uniqueid": 29
         }
        ],
        "schema": {
         "fields": [
          {
           "name": "index",
           "type": "integer"
          },
          {
           "name": "age_group",
           "type": "string"
          },
          {
           "name": "rank",
           "type": "integer"
          },
          {
           "name": "serum_creatinine",
           "type": "number"
          },
          {
           "name": "uniqueid",
           "type": "integer"
          }
         ],
         "pandas_version": "1.4.0",
         "primaryKey": [
          "index"
         ]
        }
       },
       "total_rows": 40,
       "truncation_type": null
      },
      "text/html": [
       "<div>\n",
       "<style scoped>\n",
       "    .dataframe tbody tr th:only-of-type {\n",
       "        vertical-align: middle;\n",
       "    }\n",
       "\n",
       "    .dataframe tbody tr th {\n",
       "        vertical-align: top;\n",
       "    }\n",
       "\n",
       "    .dataframe thead th {\n",
       "        text-align: right;\n",
       "    }\n",
       "</style>\n",
       "<table border=\"1\" class=\"dataframe\">\n",
       "  <thead>\n",
       "    <tr style=\"text-align: right;\">\n",
       "      <th></th>\n",
       "      <th>age_group</th>\n",
       "      <th>rank</th>\n",
       "      <th>serum_creatinine</th>\n",
       "      <th>uniqueid</th>\n",
       "    </tr>\n",
       "  </thead>\n",
       "  <tbody>\n",
       "    <tr>\n",
       "      <th>0</th>\n",
       "      <td>10 - 50</td>\n",
       "      <td>1</td>\n",
       "      <td>3.80</td>\n",
       "      <td>282</td>\n",
       "    </tr>\n",
       "    <tr>\n",
       "      <th>1</th>\n",
       "      <td>10 - 50</td>\n",
       "      <td>2</td>\n",
       "      <td>2.30</td>\n",
       "      <td>61</td>\n",
       "    </tr>\n",
       "    <tr>\n",
       "      <th>2</th>\n",
       "      <td>10 - 50</td>\n",
       "      <td>3</td>\n",
       "      <td>2.10</td>\n",
       "      <td>126</td>\n",
       "    </tr>\n",
       "    <tr>\n",
       "      <th>3</th>\n",
       "      <td>10 - 50</td>\n",
       "      <td>4</td>\n",
       "      <td>1.90</td>\n",
       "      <td>45</td>\n",
       "    </tr>\n",
       "    <tr>\n",
       "      <th>4</th>\n",
       "      <td>10 - 50</td>\n",
       "      <td>5</td>\n",
       "      <td>1.90</td>\n",
       "      <td>3</td>\n",
       "    </tr>\n",
       "    <tr>\n",
       "      <th>5</th>\n",
       "      <td>10 - 50</td>\n",
       "      <td>6</td>\n",
       "      <td>1.90</td>\n",
       "      <td>19</td>\n",
       "    </tr>\n",
       "    <tr>\n",
       "      <th>6</th>\n",
       "      <td>10 - 50</td>\n",
       "      <td>7</td>\n",
       "      <td>1.60</td>\n",
       "      <td>298</td>\n",
       "    </tr>\n",
       "    <tr>\n",
       "      <th>7</th>\n",
       "      <td>10 - 50</td>\n",
       "      <td>8</td>\n",
       "      <td>1.60</td>\n",
       "      <td>194</td>\n",
       "    </tr>\n",
       "    <tr>\n",
       "      <th>8</th>\n",
       "      <td>10 - 50</td>\n",
       "      <td>9</td>\n",
       "      <td>1.60</td>\n",
       "      <td>270</td>\n",
       "    </tr>\n",
       "    <tr>\n",
       "      <th>9</th>\n",
       "      <td>10 - 50</td>\n",
       "      <td>10</td>\n",
       "      <td>1.60</td>\n",
       "      <td>112</td>\n",
       "    </tr>\n",
       "    <tr>\n",
       "      <th>10</th>\n",
       "      <td>50 - 70</td>\n",
       "      <td>1</td>\n",
       "      <td>9.00</td>\n",
       "      <td>217</td>\n",
       "    </tr>\n",
       "    <tr>\n",
       "      <th>11</th>\n",
       "      <td>50 - 70</td>\n",
       "      <td>2</td>\n",
       "      <td>6.80</td>\n",
       "      <td>52</td>\n",
       "    </tr>\n",
       "    <tr>\n",
       "      <th>12</th>\n",
       "      <td>50 - 70</td>\n",
       "      <td>3</td>\n",
       "      <td>6.10</td>\n",
       "      <td>131</td>\n",
       "    </tr>\n",
       "    <tr>\n",
       "      <th>13</th>\n",
       "      <td>50 - 70</td>\n",
       "      <td>4</td>\n",
       "      <td>5.80</td>\n",
       "      <td>28</td>\n",
       "    </tr>\n",
       "    <tr>\n",
       "      <th>14</th>\n",
       "      <td>50 - 70</td>\n",
       "      <td>5</td>\n",
       "      <td>5.00</td>\n",
       "      <td>228</td>\n",
       "    </tr>\n",
       "    <tr>\n",
       "      <th>15</th>\n",
       "      <td>50 - 70</td>\n",
       "      <td>6</td>\n",
       "      <td>3.70</td>\n",
       "      <td>124</td>\n",
       "    </tr>\n",
       "    <tr>\n",
       "      <th>16</th>\n",
       "      <td>50 - 70</td>\n",
       "      <td>7</td>\n",
       "      <td>3.50</td>\n",
       "      <td>35</td>\n",
       "    </tr>\n",
       "    <tr>\n",
       "      <th>17</th>\n",
       "      <td>50 - 70</td>\n",
       "      <td>8</td>\n",
       "      <td>3.50</td>\n",
       "      <td>203</td>\n",
       "    </tr>\n",
       "    <tr>\n",
       "      <th>18</th>\n",
       "      <td>50 - 70</td>\n",
       "      <td>9</td>\n",
       "      <td>3.40</td>\n",
       "      <td>129</td>\n",
       "    </tr>\n",
       "    <tr>\n",
       "      <th>19</th>\n",
       "      <td>50 - 70</td>\n",
       "      <td>10</td>\n",
       "      <td>3.00</td>\n",
       "      <td>39</td>\n",
       "    </tr>\n",
       "    <tr>\n",
       "      <th>20</th>\n",
       "      <td>70 - 80</td>\n",
       "      <td>1</td>\n",
       "      <td>9.40</td>\n",
       "      <td>9</td>\n",
       "    </tr>\n",
       "    <tr>\n",
       "      <th>21</th>\n",
       "      <td>70 - 80</td>\n",
       "      <td>2</td>\n",
       "      <td>4.40</td>\n",
       "      <td>48</td>\n",
       "    </tr>\n",
       "    <tr>\n",
       "      <th>22</th>\n",
       "      <td>70 - 80</td>\n",
       "      <td>3</td>\n",
       "      <td>4.00</td>\n",
       "      <td>10</td>\n",
       "    </tr>\n",
       "    <tr>\n",
       "      <th>23</th>\n",
       "      <td>70 - 80</td>\n",
       "      <td>4</td>\n",
       "      <td>2.50</td>\n",
       "      <td>183</td>\n",
       "    </tr>\n",
       "    <tr>\n",
       "      <th>24</th>\n",
       "      <td>70 - 80</td>\n",
       "      <td>5</td>\n",
       "      <td>2.50</td>\n",
       "      <td>150</td>\n",
       "    </tr>\n",
       "    <tr>\n",
       "      <th>25</th>\n",
       "      <td>70 - 80</td>\n",
       "      <td>6</td>\n",
       "      <td>2.10</td>\n",
       "      <td>190</td>\n",
       "    </tr>\n",
       "    <tr>\n",
       "      <th>26</th>\n",
       "      <td>70 - 80</td>\n",
       "      <td>7</td>\n",
       "      <td>1.90</td>\n",
       "      <td>0</td>\n",
       "    </tr>\n",
       "    <tr>\n",
       "      <th>27</th>\n",
       "      <td>70 - 80</td>\n",
       "      <td>8</td>\n",
       "      <td>1.90</td>\n",
       "      <td>25</td>\n",
       "    </tr>\n",
       "    <tr>\n",
       "      <th>28</th>\n",
       "      <td>70 - 80</td>\n",
       "      <td>9</td>\n",
       "      <td>1.83</td>\n",
       "      <td>24</td>\n",
       "    </tr>\n",
       "    <tr>\n",
       "      <th>29</th>\n",
       "      <td>70 - 80</td>\n",
       "      <td>10</td>\n",
       "      <td>1.83</td>\n",
       "      <td>148</td>\n",
       "    </tr>\n",
       "    <tr>\n",
       "      <th>30</th>\n",
       "      <td>80 - 120</td>\n",
       "      <td>1</td>\n",
       "      <td>3.20</td>\n",
       "      <td>117</td>\n",
       "    </tr>\n",
       "    <tr>\n",
       "      <th>31</th>\n",
       "      <td>80 - 120</td>\n",
       "      <td>2</td>\n",
       "      <td>3.00</td>\n",
       "      <td>31</td>\n",
       "    </tr>\n",
       "    <tr>\n",
       "      <th>32</th>\n",
       "      <td>80 - 120</td>\n",
       "      <td>3</td>\n",
       "      <td>2.10</td>\n",
       "      <td>5</td>\n",
       "    </tr>\n",
       "    <tr>\n",
       "      <th>33</th>\n",
       "      <td>80 - 120</td>\n",
       "      <td>4</td>\n",
       "      <td>2.00</td>\n",
       "      <td>55</td>\n",
       "    </tr>\n",
       "    <tr>\n",
       "      <th>34</th>\n",
       "      <td>80 - 120</td>\n",
       "      <td>5</td>\n",
       "      <td>1.83</td>\n",
       "      <td>119</td>\n",
       "    </tr>\n",
       "    <tr>\n",
       "      <th>35</th>\n",
       "      <td>80 - 120</td>\n",
       "      <td>6</td>\n",
       "      <td>1.83</td>\n",
       "      <td>30</td>\n",
       "    </tr>\n",
       "    <tr>\n",
       "      <th>36</th>\n",
       "      <td>80 - 120</td>\n",
       "      <td>7</td>\n",
       "      <td>1.30</td>\n",
       "      <td>15</td>\n",
       "    </tr>\n",
       "    <tr>\n",
       "      <th>37</th>\n",
       "      <td>80 - 120</td>\n",
       "      <td>8</td>\n",
       "      <td>1.30</td>\n",
       "      <td>158</td>\n",
       "    </tr>\n",
       "    <tr>\n",
       "      <th>38</th>\n",
       "      <td>80 - 120</td>\n",
       "      <td>9</td>\n",
       "      <td>1.20</td>\n",
       "      <td>110</td>\n",
       "    </tr>\n",
       "    <tr>\n",
       "      <th>39</th>\n",
       "      <td>80 - 120</td>\n",
       "      <td>10</td>\n",
       "      <td>1.20</td>\n",
       "      <td>29</td>\n",
       "    </tr>\n",
       "  </tbody>\n",
       "</table>\n",
       "</div>"
      ],
      "text/plain": [
       "   age_group  rank  serum_creatinine  uniqueid\n",
       "0    10 - 50     1              3.80       282\n",
       "1    10 - 50     2              2.30        61\n",
       "2    10 - 50     3              2.10       126\n",
       "3    10 - 50     4              1.90        45\n",
       "4    10 - 50     5              1.90         3\n",
       "5    10 - 50     6              1.90        19\n",
       "6    10 - 50     7              1.60       298\n",
       "7    10 - 50     8              1.60       194\n",
       "8    10 - 50     9              1.60       270\n",
       "9    10 - 50    10              1.60       112\n",
       "10   50 - 70     1              9.00       217\n",
       "11   50 - 70     2              6.80        52\n",
       "12   50 - 70     3              6.10       131\n",
       "13   50 - 70     4              5.80        28\n",
       "14   50 - 70     5              5.00       228\n",
       "15   50 - 70     6              3.70       124\n",
       "16   50 - 70     7              3.50        35\n",
       "17   50 - 70     8              3.50       203\n",
       "18   50 - 70     9              3.40       129\n",
       "19   50 - 70    10              3.00        39\n",
       "20   70 - 80     1              9.40         9\n",
       "21   70 - 80     2              4.40        48\n",
       "22   70 - 80     3              4.00        10\n",
       "23   70 - 80     4              2.50       183\n",
       "24   70 - 80     5              2.50       150\n",
       "25   70 - 80     6              2.10       190\n",
       "26   70 - 80     7              1.90         0\n",
       "27   70 - 80     8              1.90        25\n",
       "28   70 - 80     9              1.83        24\n",
       "29   70 - 80    10              1.83       148\n",
       "30  80 - 120     1              3.20       117\n",
       "31  80 - 120     2              3.00        31\n",
       "32  80 - 120     3              2.10         5\n",
       "33  80 - 120     4              2.00        55\n",
       "34  80 - 120     5              1.83       119\n",
       "35  80 - 120     6              1.83        30\n",
       "36  80 - 120     7              1.30        15\n",
       "37  80 - 120     8              1.30       158\n",
       "38  80 - 120     9              1.20       110\n",
       "39  80 - 120    10              1.20        29"
      ]
     },
     "execution_count": 93,
     "metadata": {},
     "output_type": "execute_result"
    }
   ],
   "source": [
    "WITH patient_rank AS (\n",
    "    SELECT\n",
    "        d.age_group,\n",
    "        ROW_NUMBER() OVER (PARTITION BY d.age_group ORDER BY p.serum_creatinine DESC) AS rank,\n",
    "        p.serum_creatinine,\n",
    "        p.uniqueid\n",
    "    FROM \n",
    "        demographic_data AS d\n",
    "    JOIN\n",
    "        base_metrics_patient AS p\n",
    "    ON\n",
    "        d.uniqueid = p.uniqueid)\n",
    "\n",
    "SELECT\n",
    "    age_group,\n",
    "    rank,\n",
    "    serum_creatinine,\n",
    "    uniqueid\n",
    "FROM\n",
    "    patient_rank\n",
    "WHERE \n",
    "   rank <= 10\n",
    "ORDER BY\n",
    "    age_group,\n",
    "    rank;"
   ]
  },
  {
   "cell_type": "markdown",
   "id": "87f34473-85c8-4cb5-8549-7e26468cc7f4",
   "metadata": {},
   "source": [
    "# SQL task 8 - Question\n",
    "\n",
    "Let’s create a new variable called “general_serum”, composed of a multiplication between serum_sodium and serum_creatinine, and divided by 100 (a_multiply_b / 100). Once created, per each smoking + diabetes level (boolean variable), some hospitals would like to know the patient IDs with the lowest level of that new metric. As such, please generate a table of smoking + diabetes, as well as the bottom 5 patient IDs, with the lowest level of “general_serum”.\n",
    "\n",
    "## SQL task 8 - Answer\n",
    "In the first two columns are all possible combinations of smoking and diabetes (Boolean) grouped together, the third column displays the rank of a specific patient within that cohort, fourth the serum level of the patient with that specific rank, and in the last column is the primary key of this table, which identifies the patient."
   ]
  },
  {
   "cell_type": "code",
   "execution_count": 94,
   "id": "a2c571c0-f9cc-45df-ab0f-df5370fc13c0",
   "metadata": {
    "customType": "sql",
    "dataFrameVariableName": "df",
    "executionTime": 1689,
    "initial": false,
    "integrationId": "952de905-fbbf-4647-9f71-091f7b4458b0",
    "lastSuccessfullyExecutedCode": "WITH patient_rank AS (\n    SELECT\n        p.smoking,\n        p.diabetes,\n        ROW_NUMBER() OVER (PARTITION BY p.smoking, p.diabetes ORDER BY (p.serum_sodium * p.serum_creatinine / 100)) AS rank,\n        (p.serum_sodium * p.serum_creatinine / 100) AS general_serum,\n        p.uniqueid\n    FROM\n        base_metrics_patient AS p)\n\nSELECT\n    smoking,\n    diabetes,\n    rank,\n    general_serum,\n    uniqueid\nFROM\n    patient_rank\nWHERE \n    rank <= 5\nORDER BY\n    smoking,\n    diabetes,\n    general_serum;"
   },
   "outputs": [
    {
     "data": {
      "application/com.datacamp.data-table.v1+json": {
       "table": {
        "data": [
         {
          "diabetes": 0,
          "general_serum": 0.695,
          "index": 0,
          "rank": 1,
          "smoking": 0,
          "uniqueid": 250
         },
         {
          "diabetes": 0,
          "general_serum": 0.804,
          "index": 1,
          "rank": 2,
          "smoking": 0,
          "uniqueid": 186
         },
         {
          "diabetes": 0,
          "general_serum": 0.931,
          "index": 2,
          "rank": 3,
          "smoking": 0,
          "uniqueid": 261
         },
         {
          "diabetes": 0,
          "general_serum": 0.959,
          "index": 3,
          "rank": 4,
          "smoking": 0,
          "uniqueid": 200
         },
         {
          "diabetes": 0,
          "general_serum": 0.98,
          "index": 4,
          "rank": 5,
          "smoking": 0,
          "uniqueid": 273
         },
         {
          "diabetes": 1,
          "general_serum": 0.91,
          "index": 5,
          "rank": 1,
          "smoking": 0,
          "uniqueid": 192
         },
         {
          "diabetes": 1,
          "general_serum": 0.952,
          "index": 6,
          "rank": 2,
          "smoking": 0,
          "uniqueid": 116
         },
         {
          "diabetes": 1,
          "general_serum": 0.952,
          "index": 7,
          "rank": 3,
          "smoking": 0,
          "uniqueid": 278
         },
         {
          "diabetes": 1,
          "general_serum": 0.973,
          "index": 8,
          "rank": 4,
          "smoking": 0,
          "uniqueid": 88
         },
         {
          "diabetes": 1,
          "general_serum": 0.98,
          "index": 9,
          "rank": 5,
          "smoking": 0,
          "uniqueid": 219
         },
         {
          "diabetes": 0,
          "general_serum": 0.828,
          "index": 10,
          "rank": 1,
          "smoking": 1,
          "uniqueid": 57
         },
         {
          "diabetes": 0,
          "general_serum": 0.931,
          "index": 11,
          "rank": 2,
          "smoking": 1,
          "uniqueid": 166
         },
         {
          "diabetes": 0,
          "general_serum": 0.945,
          "index": 12,
          "rank": 3,
          "smoking": 1,
          "uniqueid": 259
         },
         {
          "diabetes": 0,
          "general_serum": 0.952,
          "index": 13,
          "rank": 4,
          "smoking": 1,
          "uniqueid": 128
         },
         {
          "diabetes": 0,
          "general_serum": 0.952,
          "index": 14,
          "rank": 5,
          "smoking": 1,
          "uniqueid": 146
         },
         {
          "diabetes": 1,
          "general_serum": 0.786,
          "index": 15,
          "rank": 1,
          "smoking": 1,
          "uniqueid": 78
         },
         {
          "diabetes": 1,
          "general_serum": 0.828,
          "index": 16,
          "rank": 2,
          "smoking": 1,
          "uniqueid": 47
         },
         {
          "diabetes": 1,
          "general_serum": 1.088,
          "index": 17,
          "rank": 3,
          "smoking": 1,
          "uniqueid": 90
         },
         {
          "diabetes": 1,
          "general_serum": 1.224,
          "index": 18,
          "rank": 4,
          "smoking": 1,
          "uniqueid": 293
         },
         {
          "diabetes": 1,
          "general_serum": 1.233,
          "index": 19,
          "rank": 5,
          "smoking": 1,
          "uniqueid": 174
         }
        ],
        "schema": {
         "fields": [
          {
           "name": "index",
           "type": "integer"
          },
          {
           "name": "smoking",
           "type": "integer"
          },
          {
           "name": "diabetes",
           "type": "integer"
          },
          {
           "name": "rank",
           "type": "integer"
          },
          {
           "name": "general_serum",
           "type": "number"
          },
          {
           "name": "uniqueid",
           "type": "integer"
          }
         ],
         "pandas_version": "1.4.0",
         "primaryKey": [
          "index"
         ]
        }
       },
       "total_rows": 20,
       "truncation_type": null
      },
      "text/html": [
       "<div>\n",
       "<style scoped>\n",
       "    .dataframe tbody tr th:only-of-type {\n",
       "        vertical-align: middle;\n",
       "    }\n",
       "\n",
       "    .dataframe tbody tr th {\n",
       "        vertical-align: top;\n",
       "    }\n",
       "\n",
       "    .dataframe thead th {\n",
       "        text-align: right;\n",
       "    }\n",
       "</style>\n",
       "<table border=\"1\" class=\"dataframe\">\n",
       "  <thead>\n",
       "    <tr style=\"text-align: right;\">\n",
       "      <th></th>\n",
       "      <th>smoking</th>\n",
       "      <th>diabetes</th>\n",
       "      <th>rank</th>\n",
       "      <th>general_serum</th>\n",
       "      <th>uniqueid</th>\n",
       "    </tr>\n",
       "  </thead>\n",
       "  <tbody>\n",
       "    <tr>\n",
       "      <th>0</th>\n",
       "      <td>0</td>\n",
       "      <td>0</td>\n",
       "      <td>1</td>\n",
       "      <td>0.695</td>\n",
       "      <td>250</td>\n",
       "    </tr>\n",
       "    <tr>\n",
       "      <th>1</th>\n",
       "      <td>0</td>\n",
       "      <td>0</td>\n",
       "      <td>2</td>\n",
       "      <td>0.804</td>\n",
       "      <td>186</td>\n",
       "    </tr>\n",
       "    <tr>\n",
       "      <th>2</th>\n",
       "      <td>0</td>\n",
       "      <td>0</td>\n",
       "      <td>3</td>\n",
       "      <td>0.931</td>\n",
       "      <td>261</td>\n",
       "    </tr>\n",
       "    <tr>\n",
       "      <th>3</th>\n",
       "      <td>0</td>\n",
       "      <td>0</td>\n",
       "      <td>4</td>\n",
       "      <td>0.959</td>\n",
       "      <td>200</td>\n",
       "    </tr>\n",
       "    <tr>\n",
       "      <th>4</th>\n",
       "      <td>0</td>\n",
       "      <td>0</td>\n",
       "      <td>5</td>\n",
       "      <td>0.980</td>\n",
       "      <td>273</td>\n",
       "    </tr>\n",
       "    <tr>\n",
       "      <th>5</th>\n",
       "      <td>0</td>\n",
       "      <td>1</td>\n",
       "      <td>1</td>\n",
       "      <td>0.910</td>\n",
       "      <td>192</td>\n",
       "    </tr>\n",
       "    <tr>\n",
       "      <th>6</th>\n",
       "      <td>0</td>\n",
       "      <td>1</td>\n",
       "      <td>2</td>\n",
       "      <td>0.952</td>\n",
       "      <td>116</td>\n",
       "    </tr>\n",
       "    <tr>\n",
       "      <th>7</th>\n",
       "      <td>0</td>\n",
       "      <td>1</td>\n",
       "      <td>3</td>\n",
       "      <td>0.952</td>\n",
       "      <td>278</td>\n",
       "    </tr>\n",
       "    <tr>\n",
       "      <th>8</th>\n",
       "      <td>0</td>\n",
       "      <td>1</td>\n",
       "      <td>4</td>\n",
       "      <td>0.973</td>\n",
       "      <td>88</td>\n",
       "    </tr>\n",
       "    <tr>\n",
       "      <th>9</th>\n",
       "      <td>0</td>\n",
       "      <td>1</td>\n",
       "      <td>5</td>\n",
       "      <td>0.980</td>\n",
       "      <td>219</td>\n",
       "    </tr>\n",
       "    <tr>\n",
       "      <th>10</th>\n",
       "      <td>1</td>\n",
       "      <td>0</td>\n",
       "      <td>1</td>\n",
       "      <td>0.828</td>\n",
       "      <td>57</td>\n",
       "    </tr>\n",
       "    <tr>\n",
       "      <th>11</th>\n",
       "      <td>1</td>\n",
       "      <td>0</td>\n",
       "      <td>2</td>\n",
       "      <td>0.931</td>\n",
       "      <td>166</td>\n",
       "    </tr>\n",
       "    <tr>\n",
       "      <th>12</th>\n",
       "      <td>1</td>\n",
       "      <td>0</td>\n",
       "      <td>3</td>\n",
       "      <td>0.945</td>\n",
       "      <td>259</td>\n",
       "    </tr>\n",
       "    <tr>\n",
       "      <th>13</th>\n",
       "      <td>1</td>\n",
       "      <td>0</td>\n",
       "      <td>4</td>\n",
       "      <td>0.952</td>\n",
       "      <td>128</td>\n",
       "    </tr>\n",
       "    <tr>\n",
       "      <th>14</th>\n",
       "      <td>1</td>\n",
       "      <td>0</td>\n",
       "      <td>5</td>\n",
       "      <td>0.952</td>\n",
       "      <td>146</td>\n",
       "    </tr>\n",
       "    <tr>\n",
       "      <th>15</th>\n",
       "      <td>1</td>\n",
       "      <td>1</td>\n",
       "      <td>1</td>\n",
       "      <td>0.786</td>\n",
       "      <td>78</td>\n",
       "    </tr>\n",
       "    <tr>\n",
       "      <th>16</th>\n",
       "      <td>1</td>\n",
       "      <td>1</td>\n",
       "      <td>2</td>\n",
       "      <td>0.828</td>\n",
       "      <td>47</td>\n",
       "    </tr>\n",
       "    <tr>\n",
       "      <th>17</th>\n",
       "      <td>1</td>\n",
       "      <td>1</td>\n",
       "      <td>3</td>\n",
       "      <td>1.088</td>\n",
       "      <td>90</td>\n",
       "    </tr>\n",
       "    <tr>\n",
       "      <th>18</th>\n",
       "      <td>1</td>\n",
       "      <td>1</td>\n",
       "      <td>4</td>\n",
       "      <td>1.224</td>\n",
       "      <td>293</td>\n",
       "    </tr>\n",
       "    <tr>\n",
       "      <th>19</th>\n",
       "      <td>1</td>\n",
       "      <td>1</td>\n",
       "      <td>5</td>\n",
       "      <td>1.233</td>\n",
       "      <td>174</td>\n",
       "    </tr>\n",
       "  </tbody>\n",
       "</table>\n",
       "</div>"
      ],
      "text/plain": [
       "    smoking  diabetes  rank  general_serum  uniqueid\n",
       "0         0         0     1          0.695       250\n",
       "1         0         0     2          0.804       186\n",
       "2         0         0     3          0.931       261\n",
       "3         0         0     4          0.959       200\n",
       "4         0         0     5          0.980       273\n",
       "5         0         1     1          0.910       192\n",
       "6         0         1     2          0.952       116\n",
       "7         0         1     3          0.952       278\n",
       "8         0         1     4          0.973        88\n",
       "9         0         1     5          0.980       219\n",
       "10        1         0     1          0.828        57\n",
       "11        1         0     2          0.931       166\n",
       "12        1         0     3          0.945       259\n",
       "13        1         0     4          0.952       128\n",
       "14        1         0     5          0.952       146\n",
       "15        1         1     1          0.786        78\n",
       "16        1         1     2          0.828        47\n",
       "17        1         1     3          1.088        90\n",
       "18        1         1     4          1.224       293\n",
       "19        1         1     5          1.233       174"
      ]
     },
     "execution_count": 94,
     "metadata": {},
     "output_type": "execute_result"
    }
   ],
   "source": [
    "WITH patient_rank AS (\n",
    "    SELECT\n",
    "        p.smoking,\n",
    "        p.diabetes,\n",
    "        ROW_NUMBER() OVER (PARTITION BY p.smoking, p.diabetes ORDER BY (p.serum_sodium * p.serum_creatinine / 100)) AS rank,\n",
    "        (p.serum_sodium * p.serum_creatinine / 100) AS general_serum,\n",
    "        p.uniqueid\n",
    "    FROM\n",
    "        base_metrics_patient AS p)\n",
    "\n",
    "SELECT\n",
    "    smoking,\n",
    "    diabetes,\n",
    "    rank,\n",
    "    general_serum,\n",
    "    uniqueid\n",
    "FROM\n",
    "    patient_rank\n",
    "WHERE \n",
    "    rank <= 5\n",
    "ORDER BY\n",
    "    smoking,\n",
    "    diabetes,\n",
    "    general_serum;"
   ]
  },
  {
   "cell_type": "code",
   "execution_count": 95,
   "id": "769c9946-d59a-41fd-9b05-6a4593852f6e",
   "metadata": {
    "customType": "sql",
    "dataFrameVariableName": "df",
    "executionTime": 1822,
    "initial": false,
    "integrationId": "952de905-fbbf-4647-9f71-091f7b4458b0",
    "lastSuccessfullyExecutedCode": "SELECT\n        p.uniqueid,\n        p.smoking,\n        p.diabetes,\n        (p.serum_sodium * p.serum_creatinine / 100) AS general_serum\n    FROM\n        base_metrics_patient AS p"
   },
   "outputs": [
    {
     "data": {
      "application/com.datacamp.data-table.v1+json": {
       "table": {
        "data": [
         {
          "diabetes": 0,
          "general_serum": 1.529,
          "index": 0,
          "smoking": 1,
          "uniqueid": 159
         },
         {
          "diabetes": 1,
          "general_serum": 1.12,
          "index": 1,
          "smoking": 0,
          "uniqueid": 87
         },
         {
          "diabetes": 1,
          "general_serum": 0.973,
          "index": 2,
          "smoking": 0,
          "uniqueid": 88
         },
         {
          "diabetes": 0,
          "general_serum": 1.584,
          "index": 3,
          "smoking": 0,
          "uniqueid": 89
         },
         {
          "diabetes": 1,
          "general_serum": 1.088,
          "index": 4,
          "smoking": 1,
          "uniqueid": 90
         },
         {
          "diabetes": 0,
          "general_serum": 1.496,
          "index": 5,
          "smoking": 1,
          "uniqueid": 242
         },
         {
          "diabetes": 0,
          "general_serum": 1.269,
          "index": 6,
          "smoking": 0,
          "uniqueid": 243
         },
         {
          "diabetes": 0,
          "general_serum": 1.946,
          "index": 7,
          "smoking": 0,
          "uniqueid": 291
         },
         {
          "diabetes": 1,
          "general_serum": 1.188,
          "index": 8,
          "smoking": 0,
          "uniqueid": 142
         },
         {
          "diabetes": 0,
          "general_serum": 1.269,
          "index": 9,
          "smoking": 0,
          "uniqueid": 143
         },
         {
          "diabetes": 0,
          "general_serum": 2.363,
          "index": 10,
          "smoking": 1,
          "uniqueid": 144
         },
         {
          "diabetes": 0,
          "general_serum": 0.987,
          "index": 11,
          "smoking": 1,
          "uniqueid": 145
         },
         {
          "diabetes": 0,
          "general_serum": 0.952,
          "index": 12,
          "smoking": 1,
          "uniqueid": 146
         },
         {
          "diabetes": 0,
          "general_serum": 1.37,
          "index": 13,
          "smoking": 0,
          "uniqueid": 147
         },
         {
          "diabetes": 0,
          "general_serum": 2.4522,
          "index": 14,
          "smoking": 0,
          "uniqueid": 148
         },
         {
          "diabetes": 0,
          "general_serum": 1.224,
          "index": 15,
          "smoking": 0,
          "uniqueid": 149
         },
         {
          "diabetes": 0,
          "general_serum": 3.375,
          "index": 16,
          "smoking": 0,
          "uniqueid": 150
         },
         {
          "diabetes": 1,
          "general_serum": 1.251,
          "index": 17,
          "smoking": 0,
          "uniqueid": 151
         },
         {
          "diabetes": 0,
          "general_serum": 1.206,
          "index": 18,
          "smoking": 1,
          "uniqueid": 152
         },
         {
          "diabetes": 1,
          "general_serum": 2.412,
          "index": 19,
          "smoking": 0,
          "uniqueid": 244
         },
         {
          "diabetes": 1,
          "general_serum": 1.918,
          "index": 20,
          "smoking": 0,
          "uniqueid": 245
         },
         {
          "diabetes": 0,
          "general_serum": 1.518,
          "index": 21,
          "smoking": 0,
          "uniqueid": 246
         },
         {
          "diabetes": 0,
          "general_serum": 3.24,
          "index": 22,
          "smoking": 0,
          "uniqueid": 247
         },
         {
          "diabetes": 0,
          "general_serum": 1.42,
          "index": 23,
          "smoking": 1,
          "uniqueid": 248
         },
         {
          "diabetes": 1,
          "general_serum": 1.56,
          "index": 24,
          "smoking": 0,
          "uniqueid": 249
         },
         {
          "diabetes": 0,
          "general_serum": 1.474,
          "index": 25,
          "smoking": 1,
          "uniqueid": 231
         },
         {
          "diabetes": 0,
          "general_serum": 1.233,
          "index": 26,
          "smoking": 0,
          "uniqueid": 232
         },
         {
          "diabetes": 0,
          "general_serum": 1.32,
          "index": 27,
          "smoking": 1,
          "uniqueid": 72
         },
         {
          "diabetes": 1,
          "general_serum": 1.781,
          "index": 28,
          "smoking": 1,
          "uniqueid": 73
         },
         {
          "diabetes": 0,
          "general_serum": 1.608,
          "index": 29,
          "smoking": 1,
          "uniqueid": 74
         },
         {
          "diabetes": 0,
          "general_serum": 0.973,
          "index": 30,
          "smoking": 1,
          "uniqueid": 75
         },
         {
          "diabetes": 0,
          "general_serum": 1.33,
          "index": 31,
          "smoking": 0,
          "uniqueid": 252
         },
         {
          "diabetes": 1,
          "general_serum": 1.584,
          "index": 32,
          "smoking": 0,
          "uniqueid": 253
         },
         {
          "diabetes": 0,
          "general_serum": 1.39,
          "index": 33,
          "smoking": 0,
          "uniqueid": 254
         },
         {
          "diabetes": 1,
          "general_serum": 1.42,
          "index": 34,
          "smoking": 1,
          "uniqueid": 255
         },
         {
          "diabetes": 0,
          "general_serum": 2.363,
          "index": 35,
          "smoking": 0,
          "uniqueid": 256
         },
         {
          "diabetes": 0,
          "general_serum": 1.064,
          "index": 36,
          "smoking": 0,
          "uniqueid": 169
         },
         {
          "diabetes": 1,
          "general_serum": 2.04,
          "index": 37,
          "smoking": 1,
          "uniqueid": 170
         },
         {
          "diabetes": 0,
          "general_serum": 1.26,
          "index": 38,
          "smoking": 1,
          "uniqueid": 171
         },
         {
          "diabetes": 0,
          "general_serum": 1.595,
          "index": 39,
          "smoking": 1,
          "uniqueid": 172
         },
         {
          "diabetes": 0,
          "general_serum": 1.112,
          "index": 40,
          "smoking": 0,
          "uniqueid": 173
         },
         {
          "diabetes": 1,
          "general_serum": 1.233,
          "index": 41,
          "smoking": 1,
          "uniqueid": 174
         },
         {
          "diabetes": 0,
          "general_serum": 1.38,
          "index": 42,
          "smoking": 1,
          "uniqueid": 175
         },
         {
          "diabetes": 0,
          "general_serum": 1.35,
          "index": 43,
          "smoking": 1,
          "uniqueid": 176
         },
         {
          "diabetes": 0,
          "general_serum": 1.4,
          "index": 44,
          "smoking": 0,
          "uniqueid": 177
         },
         {
          "diabetes": 1,
          "general_serum": 1.74,
          "index": 45,
          "smoking": 0,
          "uniqueid": 178
         },
         {
          "diabetes": 0,
          "general_serum": 0.98,
          "index": 46,
          "smoking": 1,
          "uniqueid": 179
         },
         {
          "diabetes": 1,
          "general_serum": 1.224,
          "index": 47,
          "smoking": 0,
          "uniqueid": 180
         },
         {
          "diabetes": 1,
          "general_serum": 1.36,
          "index": 48,
          "smoking": 1,
          "uniqueid": 181
         },
         {
          "diabetes": 1,
          "general_serum": 1.632,
          "index": 49,
          "smoking": 1,
          "uniqueid": 182
         },
         {
          "diabetes": 0,
          "general_serum": 3.35,
          "index": 50,
          "smoking": 0,
          "uniqueid": 183
         },
         {
          "diabetes": 0,
          "general_serum": 1.644,
          "index": 51,
          "smoking": 1,
          "uniqueid": 184
         },
         {
          "diabetes": 1,
          "general_serum": 2.04,
          "index": 52,
          "smoking": 0,
          "uniqueid": 185
         },
         {
          "diabetes": 0,
          "general_serum": 0.804,
          "index": 53,
          "smoking": 0,
          "uniqueid": 186
         },
         {
          "diabetes": 1,
          "general_serum": 3.024,
          "index": 54,
          "smoking": 0,
          "uniqueid": 187
         },
         {
          "diabetes": 1,
          "general_serum": 1.36,
          "index": 55,
          "smoking": 0,
          "uniqueid": 188
         },
         {
          "diabetes": 0,
          "general_serum": 1.26,
          "index": 56,
          "smoking": 0,
          "uniqueid": 189
         },
         {
          "diabetes": 1,
          "general_serum": 2.814,
          "index": 57,
          "smoking": 0,
          "uniqueid": 190
         },
         {
          "diabetes": 0,
          "general_serum": 2.025,
          "index": 58,
          "smoking": 0,
          "uniqueid": 191
         },
         {
          "diabetes": 1,
          "general_serum": 0.91,
          "index": 59,
          "smoking": 0,
          "uniqueid": 192
         },
         {
          "diabetes": 1,
          "general_serum": 1.6756,
          "index": 60,
          "smoking": 1,
          "uniqueid": 193
         },
         {
          "diabetes": 0,
          "general_serum": 2.16,
          "index": 61,
          "smoking": 0,
          "uniqueid": 194
         },
         {
          "diabetes": 0,
          "general_serum": 2.61,
          "index": 62,
          "smoking": 0,
          "uniqueid": 195
         },
         {
          "diabetes": 1,
          "general_serum": 1.34,
          "index": 63,
          "smoking": 0,
          "uniqueid": 43
         },
         {
          "diabetes": 1,
          "general_serum": 1.846,
          "index": 64,
          "smoking": 1,
          "uniqueid": 109
         },
         {
          "diabetes": 0,
          "general_serum": 1.584,
          "index": 65,
          "smoking": 1,
          "uniqueid": 110
         },
         {
          "diabetes": 1,
          "general_serum": 2.38,
          "index": 66,
          "smoking": 0,
          "uniqueid": 267
         },
         {
          "diabetes": 1,
          "general_serum": 1.26,
          "index": 67,
          "smoking": 0,
          "uniqueid": 268
         },
         {
          "diabetes": 1,
          "general_serum": 1.32,
          "index": 68,
          "smoking": 0,
          "uniqueid": 269
         },
         {
          "diabetes": 1,
          "general_serum": 2.08,
          "index": 69,
          "smoking": 1,
          "uniqueid": 270
         },
         {
          "diabetes": 1,
          "general_serum": 1.206,
          "index": 70,
          "smoking": 0,
          "uniqueid": 271
         },
         {
          "diabetes": 0,
          "general_serum": 1.596,
          "index": 71,
          "smoking": 0,
          "uniqueid": 272
         },
         {
          "diabetes": 0,
          "general_serum": 0.98,
          "index": 72,
          "smoking": 0,
          "uniqueid": 273
         },
         {
          "diabetes": 1,
          "general_serum": 1.37,
          "index": 73,
          "smoking": 1,
          "uniqueid": 274
         },
         {
          "diabetes": 0,
          "general_serum": 1.6166,
          "index": 74,
          "smoking": 0,
          "uniqueid": 64
         },
         {
          "diabetes": 0,
          "general_serum": 1.112,
          "index": 75,
          "smoking": 1,
          "uniqueid": 161
         },
         {
          "diabetes": 0,
          "general_serum": 1.62,
          "index": 76,
          "smoking": 1,
          "uniqueid": 111
         },
         {
          "diabetes": 1,
          "general_serum": 2.176,
          "index": 77,
          "smoking": 0,
          "uniqueid": 112
         },
         {
          "diabetes": 0,
          "general_serum": 1.781,
          "index": 78,
          "smoking": 0,
          "uniqueid": 113
         },
         {
          "diabetes": 1,
          "general_serum": 1.512,
          "index": 79,
          "smoking": 0,
          "uniqueid": 114
         },
         {
          "diabetes": 1,
          "general_serum": 1.4,
          "index": 80,
          "smoking": 0,
          "uniqueid": 263
         },
         {
          "diabetes": 1,
          "general_serum": 1.692,
          "index": 81,
          "smoking": 0,
          "uniqueid": 264
         },
         {
          "diabetes": 0,
          "general_serum": 1.26,
          "index": 82,
          "smoking": 1,
          "uniqueid": 265
         },
         {
          "diabetes": 0,
          "general_serum": 2.4522,
          "index": 83,
          "smoking": 1,
          "uniqueid": 266
         },
         {
          "diabetes": 0,
          "general_serum": 1.12,
          "index": 84,
          "smoking": 1,
          "uniqueid": 76
         },
         {
          "diabetes": 1,
          "general_serum": 1.68,
          "index": 85,
          "smoking": 0,
          "uniqueid": 77
         },
         {
          "diabetes": 1,
          "general_serum": 0.786,
          "index": 86,
          "smoking": 1,
          "uniqueid": 78
         },
         {
          "diabetes": 0,
          "general_serum": 2.47,
          "index": 87,
          "smoking": 0,
          "uniqueid": 0
         },
         {
          "diabetes": 0,
          "general_serum": 1.496,
          "index": 88,
          "smoking": 0,
          "uniqueid": 1
         },
         {
          "diabetes": 0,
          "general_serum": 1.677,
          "index": 89,
          "smoking": 1,
          "uniqueid": 2
         },
         {
          "diabetes": 0,
          "general_serum": 2.603,
          "index": 90,
          "smoking": 0,
          "uniqueid": 3
         },
         {
          "diabetes": 1,
          "general_serum": 3.132,
          "index": 91,
          "smoking": 0,
          "uniqueid": 4
         },
         {
          "diabetes": 0,
          "general_serum": 2.772,
          "index": 92,
          "smoking": 1,
          "uniqueid": 5
         },
         {
          "diabetes": 0,
          "general_serum": 1.644,
          "index": 93,
          "smoking": 0,
          "uniqueid": 6
         },
         {
          "diabetes": 1,
          "general_serum": 1.441,
          "index": 94,
          "smoking": 1,
          "uniqueid": 7
         },
         {
          "diabetes": 0,
          "general_serum": 2.07,
          "index": 95,
          "smoking": 0,
          "uniqueid": 8
         },
         {
          "diabetes": 0,
          "general_serum": 12.502,
          "index": 96,
          "smoking": 1,
          "uniqueid": 9
         },
         {
          "diabetes": 0,
          "general_serum": 5.24,
          "index": 97,
          "smoking": 1,
          "uniqueid": 10
         },
         {
          "diabetes": 0,
          "general_serum": 3.683,
          "index": 98,
          "smoking": 1,
          "uniqueid": 65
         },
         {
          "diabetes": 0,
          "general_serum": 1.507,
          "index": 99,
          "smoking": 0,
          "uniqueid": 12
         },
         {
          "diabetes": 0,
          "general_serum": 1.507,
          "index": 100,
          "smoking": 0,
          "uniqueid": 13
         },
         {
          "diabetes": 0,
          "general_serum": 7.772,
          "index": 101,
          "smoking": 0,
          "uniqueid": 28
         },
         {
          "diabetes": 1,
          "general_serum": 1.584,
          "index": 102,
          "smoking": 1,
          "uniqueid": 29
         },
         {
          "diabetes": 1,
          "general_serum": 2.4522,
          "index": 103,
          "smoking": 0,
          "uniqueid": 30
         },
         {
          "diabetes": 0,
          "general_serum": 3.96,
          "index": 104,
          "smoking": 0,
          "uniqueid": 31
         },
         {
          "diabetes": 1,
          "general_serum": 1.28,
          "index": 105,
          "smoking": 0,
          "uniqueid": 32
         },
         {
          "diabetes": 0,
          "general_serum": 1.507,
          "index": 106,
          "smoking": 0,
          "uniqueid": 235
         },
         {
          "diabetes": 0,
          "general_serum": 1.628,
          "index": 107,
          "smoking": 0,
          "uniqueid": 236
         },
         {
          "diabetes": 0,
          "general_serum": 1.584,
          "index": 108,
          "smoking": 0,
          "uniqueid": 237
         },
         {
          "diabetes": 1,
          "general_serum": 1.36,
          "index": 109,
          "smoking": 0,
          "uniqueid": 238
         },
         {
          "diabetes": 0,
          "general_serum": 1.6166,
          "index": 110,
          "smoking": 1,
          "uniqueid": 239
         },
         {
          "diabetes": 1,
          "general_serum": 1.807,
          "index": 111,
          "smoking": 0,
          "uniqueid": 240
         },
         {
          "diabetes": 1,
          "general_serum": 1.768,
          "index": 112,
          "smoking": 1,
          "uniqueid": 241
         },
         {
          "diabetes": 1,
          "general_serum": 1.08,
          "index": 113,
          "smoking": 0,
          "uniqueid": 258
         },
         {
          "diabetes": 1,
          "general_serum": 1.656,
          "index": 114,
          "smoking": 0,
          "uniqueid": 33
         },
         {
          "diabetes": 1,
          "general_serum": 1.4,
          "index": 115,
          "smoking": 0,
          "uniqueid": 34
         },
         {
          "diabetes": 1,
          "general_serum": 4.69,
          "index": 116,
          "smoking": 0,
          "uniqueid": 35
         },
         {
          "diabetes": 1,
          "general_serum": 1.34,
          "index": 117,
          "smoking": 0,
          "uniqueid": 36
         },
         {
          "diabetes": 1,
          "general_serum": 1.45,
          "index": 118,
          "smoking": 0,
          "uniqueid": 37
         },
         {
          "diabetes": 0,
          "general_serum": 1.608,
          "index": 119,
          "smoking": 0,
          "uniqueid": 160
         },
         {
          "diabetes": 1,
          "general_serum": 2.299,
          "index": 120,
          "smoking": 0,
          "uniqueid": 19
         },
         {
          "diabetes": 1,
          "general_serum": 1.128,
          "index": 121,
          "smoking": 0,
          "uniqueid": 290
         },
         {
          "diabetes": 0,
          "general_serum": 1.781,
          "index": 122,
          "smoking": 0,
          "uniqueid": 20
         },
         {
          "diabetes": 1,
          "general_serum": 2.176,
          "index": 123,
          "smoking": 0,
          "uniqueid": 21
         },
         {
          "diabetes": 0,
          "general_serum": 1.26,
          "index": 124,
          "smoking": 1,
          "uniqueid": 22
         },
         {
          "diabetes": 1,
          "general_serum": 1.08,
          "index": 125,
          "smoking": 0,
          "uniqueid": 23
         },
         {
          "diabetes": 0,
          "general_serum": 1.26,
          "index": 126,
          "smoking": 1,
          "uniqueid": 11
         },
         {
          "diabetes": 1,
          "general_serum": 1.32,
          "index": 127,
          "smoking": 0,
          "uniqueid": 287
         },
         {
          "diabetes": 1,
          "general_serum": 1.562,
          "index": 128,
          "smoking": 0,
          "uniqueid": 288
         },
         {
          "diabetes": 0,
          "general_serum": 1.296,
          "index": 129,
          "smoking": 0,
          "uniqueid": 289
         },
         {
          "diabetes": 0,
          "general_serum": 1.233,
          "index": 130,
          "smoking": 1,
          "uniqueid": 162
         },
         {
          "diabetes": 1,
          "general_serum": 1.278,
          "index": 131,
          "smoking": 0,
          "uniqueid": 163
         },
         {
          "diabetes": 1,
          "general_serum": 1.529,
          "index": 132,
          "smoking": 0,
          "uniqueid": 164
         },
         {
          "diabetes": 1,
          "general_serum": 1.755,
          "index": 133,
          "smoking": 0,
          "uniqueid": 165
         },
         {
          "diabetes": 0,
          "general_serum": 0.931,
          "index": 134,
          "smoking": 1,
          "uniqueid": 166
         },
         {
          "diabetes": 1,
          "general_serum": 3.216,
          "index": 135,
          "smoking": 0,
          "uniqueid": 167
         },
         {
          "diabetes": 1,
          "general_serum": 1.38,
          "index": 136,
          "smoking": 0,
          "uniqueid": 168
         },
         {
          "diabetes": 0,
          "general_serum": 2.394,
          "index": 137,
          "smoking": 0,
          "uniqueid": 83
         },
         {
          "diabetes": 1,
          "general_serum": 1.41,
          "index": 138,
          "smoking": 0,
          "uniqueid": 84
         },
         {
          "diabetes": 0,
          "general_serum": 0.98,
          "index": 139,
          "smoking": 0,
          "uniqueid": 85
         },
         {
          "diabetes": 0,
          "general_serum": 1.507,
          "index": 140,
          "smoking": 0,
          "uniqueid": 86
         },
         {
          "diabetes": 0,
          "general_serum": 1.39,
          "index": 141,
          "smoking": 0,
          "uniqueid": 115
         },
         {
          "diabetes": 1,
          "general_serum": 0.952,
          "index": 142,
          "smoking": 0,
          "uniqueid": 116
         },
         {
          "diabetes": 0,
          "general_serum": 4.416,
          "index": 143,
          "smoking": 0,
          "uniqueid": 117
         },
         {
          "diabetes": 1,
          "general_serum": 1.26,
          "index": 144,
          "smoking": 0,
          "uniqueid": 118
         },
         {
          "diabetes": 0,
          "general_serum": 0.828,
          "index": 145,
          "smoking": 1,
          "uniqueid": 57
         },
         {
          "diabetes": 1,
          "general_serum": 0.994,
          "index": 146,
          "smoking": 0,
          "uniqueid": 94
         },
         {
          "diabetes": 0,
          "general_serum": 1.41,
          "index": 147,
          "smoking": 0,
          "uniqueid": 95
         },
         {
          "diabetes": 1,
          "general_serum": 1.742,
          "index": 148,
          "smoking": 0,
          "uniqueid": 96
         },
         {
          "diabetes": 0,
          "general_serum": 1.496,
          "index": 149,
          "smoking": 0,
          "uniqueid": 97
         },
         {
          "diabetes": 1,
          "general_serum": 1.644,
          "index": 150,
          "smoking": 0,
          "uniqueid": 98
         },
         {
          "diabetes": 1,
          "general_serum": 1.54,
          "index": 151,
          "smoking": 0,
          "uniqueid": 99
         },
         {
          "diabetes": 0,
          "general_serum": 1.551,
          "index": 152,
          "smoking": 0,
          "uniqueid": 100
         },
         {
          "diabetes": 0,
          "general_serum": 1.6166,
          "index": 153,
          "smoking": 0,
          "uniqueid": 101
         },
         {
          "diabetes": 0,
          "general_serum": 1.584,
          "index": 154,
          "smoking": 1,
          "uniqueid": 102
         },
         {
          "diabetes": 0,
          "general_serum": 1.4,
          "index": 155,
          "smoking": 1,
          "uniqueid": 103
         },
         {
          "diabetes": 0,
          "general_serum": 3.289,
          "index": 156,
          "smoking": 0,
          "uniqueid": 104
         },
         {
          "diabetes": 0,
          "general_serum": 2.346,
          "index": 157,
          "smoking": 1,
          "uniqueid": 105
         },
         {
          "diabetes": 0,
          "general_serum": 1.781,
          "index": 158,
          "smoking": 0,
          "uniqueid": 106
         },
         {
          "diabetes": 1,
          "general_serum": 1.242,
          "index": 159,
          "smoking": 0,
          "uniqueid": 107
         },
         {
          "diabetes": 0,
          "general_serum": 1.463,
          "index": 160,
          "smoking": 1,
          "uniqueid": 108
         },
         {
          "diabetes": 0,
          "general_serum": 1.38,
          "index": 161,
          "smoking": 0,
          "uniqueid": 14
         },
         {
          "diabetes": 1,
          "general_serum": 2.4522,
          "index": 162,
          "smoking": 0,
          "uniqueid": 24
         },
         {
          "diabetes": 1,
          "general_serum": 2.736,
          "index": 163,
          "smoking": 1,
          "uniqueid": 25
         },
         {
          "diabetes": 0,
          "general_serum": 1.38,
          "index": 164,
          "smoking": 0,
          "uniqueid": 26
         },
         {
          "diabetes": 0,
          "general_serum": 1.768,
          "index": 165,
          "smoking": 0,
          "uniqueid": 15
         },
         {
          "diabetes": 0,
          "general_serum": 1.26,
          "index": 166,
          "smoking": 0,
          "uniqueid": 16
         },
         {
          "diabetes": 0,
          "general_serum": 1.016,
          "index": 167,
          "smoking": 0,
          "uniqueid": 17
         },
         {
          "diabetes": 0,
          "general_serum": 1.4,
          "index": 168,
          "smoking": 0,
          "uniqueid": 18
         },
         {
          "diabetes": 0,
          "general_serum": 1.755,
          "index": 169,
          "smoking": 0,
          "uniqueid": 125
         },
         {
          "diabetes": 1,
          "general_serum": 2.604,
          "index": 170,
          "smoking": 0,
          "uniqueid": 126
         },
         {
          "diabetes": 1,
          "general_serum": 1.096,
          "index": 171,
          "smoking": 0,
          "uniqueid": 127
         },
         {
          "diabetes": 0,
          "general_serum": 1.26,
          "index": 172,
          "smoking": 0,
          "uniqueid": 79
         },
         {
          "diabetes": 0,
          "general_serum": 2.312,
          "index": 173,
          "smoking": 0,
          "uniqueid": 80
         },
         {
          "diabetes": 0,
          "general_serum": 1.6166,
          "index": 174,
          "smoking": 1,
          "uniqueid": 81
         },
         {
          "diabetes": 1,
          "general_serum": 3.3,
          "index": 175,
          "smoking": 0,
          "uniqueid": 82
         },
         {
          "diabetes": 0,
          "general_serum": 1.088,
          "index": 176,
          "smoking": 0,
          "uniqueid": 154
         },
         {
          "diabetes": 1,
          "general_serum": 2.38,
          "index": 177,
          "smoking": 0,
          "uniqueid": 155
         },
         {
          "diabetes": 0,
          "general_serum": 1.904,
          "index": 178,
          "smoking": 0,
          "uniqueid": 156
         },
         {
          "diabetes": 0,
          "general_serum": 1.36,
          "index": 179,
          "smoking": 1,
          "uniqueid": 157
         },
         {
          "diabetes": 0,
          "general_serum": 1.742,
          "index": 180,
          "smoking": 0,
          "uniqueid": 158
         },
         {
          "diabetes": 0,
          "general_serum": 0.695,
          "index": 181,
          "smoking": 0,
          "uniqueid": 250
         },
         {
          "diabetes": 1,
          "general_serum": 1.144,
          "index": 182,
          "smoking": 0,
          "uniqueid": 251
         },
         {
          "diabetes": 0,
          "general_serum": 0.952,
          "index": 183,
          "smoking": 1,
          "uniqueid": 128
         },
         {
          "diabetes": 1,
          "general_serum": 4.93,
          "index": 184,
          "smoking": 0,
          "uniqueid": 129
         },
         {
          "diabetes": 0,
          "general_serum": 0.966,
          "index": 185,
          "smoking": 1,
          "uniqueid": 130
         },
         {
          "diabetes": 1,
          "general_serum": 7.991,
          "index": 186,
          "smoking": 0,
          "uniqueid": 131
         },
         {
          "diabetes": 0,
          "general_serum": 1.6166,
          "index": 187,
          "smoking": 0,
          "uniqueid": 132
         },
         {
          "diabetes": 0,
          "general_serum": 1.885,
          "index": 188,
          "smoking": 1,
          "uniqueid": 133
         },
         {
          "diabetes": 0,
          "general_serum": 1.6166,
          "index": 189,
          "smoking": 1,
          "uniqueid": 134
         },
         {
          "diabetes": 0,
          "general_serum": 1.6166,
          "index": 190,
          "smoking": 0,
          "uniqueid": 135
         },
         {
          "diabetes": 1,
          "general_serum": 1.233,
          "index": 191,
          "smoking": 0,
          "uniqueid": 136
         },
         {
          "diabetes": 0,
          "general_serum": 2.73,
          "index": 192,
          "smoking": 0,
          "uniqueid": 137
         },
         {
          "diabetes": 1,
          "general_serum": 1.36,
          "index": 193,
          "smoking": 0,
          "uniqueid": 138
         },
         {
          "diabetes": 0,
          "general_serum": 1.104,
          "index": 194,
          "smoking": 0,
          "uniqueid": 139
         },
         {
          "diabetes": 0,
          "general_serum": 1.474,
          "index": 195,
          "smoking": 0,
          "uniqueid": 140
         },
         {
          "diabetes": 0,
          "general_serum": 1.26,
          "index": 196,
          "smoking": 0,
          "uniqueid": 141
         },
         {
          "diabetes": 1,
          "general_serum": 1.6166,
          "index": 197,
          "smoking": 1,
          "uniqueid": 153
         },
         {
          "diabetes": 0,
          "general_serum": 1.496,
          "index": 198,
          "smoking": 1,
          "uniqueid": 58
         },
         {
          "diabetes": 1,
          "general_serum": 1.768,
          "index": 199,
          "smoking": 1,
          "uniqueid": 27
         },
         {
          "diabetes": 0,
          "general_serum": 1.128,
          "index": 200,
          "smoking": 0,
          "uniqueid": 284
         },
         {
          "diabetes": 1,
          "general_serum": 1.62,
          "index": 201,
          "smoking": 0,
          "uniqueid": 285
         },
         {
          "diabetes": 0,
          "general_serum": 4.958,
          "index": 202,
          "smoking": 0,
          "uniqueid": 124
         },
         {
          "diabetes": 1,
          "general_serum": 1.768,
          "index": 203,
          "smoking": 0,
          "uniqueid": 66
         },
         {
          "diabetes": 0,
          "general_serum": 1.4,
          "index": 204,
          "smoking": 1,
          "uniqueid": 67
         },
         {
          "diabetes": 0,
          "general_serum": 1.704,
          "index": 205,
          "smoking": 0,
          "uniqueid": 68
         },
         {
          "diabetes": 1,
          "general_serum": 2.4705,
          "index": 206,
          "smoking": 0,
          "uniqueid": 69
         },
         {
          "diabetes": 0,
          "general_serum": 1.12,
          "index": 207,
          "smoking": 1,
          "uniqueid": 70
         },
         {
          "diabetes": 1,
          "general_serum": 1.251,
          "index": 208,
          "smoking": 1,
          "uniqueid": 71
         },
         {
          "diabetes": 0,
          "general_serum": 1.918,
          "index": 209,
          "smoking": 1,
          "uniqueid": 233
         },
         {
          "diabetes": 0,
          "general_serum": 1.507,
          "index": 210,
          "smoking": 1,
          "uniqueid": 234
         },
         {
          "diabetes": 1,
          "general_serum": 1.6166,
          "index": 211,
          "smoking": 0,
          "uniqueid": 196
         },
         {
          "diabetes": 0,
          "general_serum": 1.104,
          "index": 212,
          "smoking": 0,
          "uniqueid": 197
         },
         {
          "diabetes": 1,
          "general_serum": 1.34,
          "index": 213,
          "smoking": 0,
          "uniqueid": 198
         },
         {
          "diabetes": 0,
          "general_serum": 0.945,
          "index": 214,
          "smoking": 1,
          "uniqueid": 259
         },
         {
          "diabetes": 0,
          "general_serum": 1.38,
          "index": 215,
          "smoking": 0,
          "uniqueid": 260
         },
         {
          "diabetes": 0,
          "general_serum": 0.931,
          "index": 216,
          "smoking": 0,
          "uniqueid": 261
         },
         {
          "diabetes": 1,
          "general_serum": 1.806,
          "index": 217,
          "smoking": 0,
          "uniqueid": 262
         },
         {
          "diabetes": 1,
          "general_serum": 3.151,
          "index": 218,
          "smoking": 0,
          "uniqueid": 38
         },
         {
          "diabetes": 1,
          "general_serum": 4.26,
          "index": 219,
          "smoking": 0,
          "uniqueid": 39
         },
         {
          "diabetes": 0,
          "general_serum": 2.4522,
          "index": 220,
          "smoking": 1,
          "uniqueid": 40
         },
         {
          "diabetes": 1,
          "general_serum": 1.632,
          "index": 221,
          "smoking": 1,
          "uniqueid": 41
         },
         {
          "diabetes": 1,
          "general_serum": 1.668,
          "index": 222,
          "smoking": 1,
          "uniqueid": 42
         },
         {
          "diabetes": 0,
          "general_serum": 2.4522,
          "index": 223,
          "smoking": 0,
          "uniqueid": 119
         },
         {
          "diabetes": 0,
          "general_serum": 2.025,
          "index": 224,
          "smoking": 1,
          "uniqueid": 120
         },
         {
          "diabetes": 1,
          "general_serum": 1.36,
          "index": 225,
          "smoking": 0,
          "uniqueid": 121
         },
         {
          "diabetes": 1,
          "general_serum": 1.05,
          "index": 226,
          "smoking": 0,
          "uniqueid": 122
         },
         {
          "diabetes": 0,
          "general_serum": 1.305,
          "index": 227,
          "smoking": 0,
          "uniqueid": 123
         },
         {
          "diabetes": 1,
          "general_serum": 1.562,
          "index": 228,
          "smoking": 0,
          "uniqueid": 44
         },
         {
          "diabetes": 1,
          "general_serum": 2.565,
          "index": 229,
          "smoking": 1,
          "uniqueid": 45
         },
         {
          "diabetes": 0,
          "general_serum": 1.17,
          "index": 230,
          "smoking": 0,
          "uniqueid": 46
         },
         {
          "diabetes": 1,
          "general_serum": 0.828,
          "index": 231,
          "smoking": 1,
          "uniqueid": 47
         },
         {
          "diabetes": 0,
          "general_serum": 5.852,
          "index": 232,
          "smoking": 0,
          "uniqueid": 48
         },
         {
          "diabetes": 0,
          "general_serum": 1.4,
          "index": 233,
          "smoking": 0,
          "uniqueid": 49
         },
         {
          "diabetes": 0,
          "general_serum": 1.38,
          "index": 234,
          "smoking": 0,
          "uniqueid": 50
         },
         {
          "diabetes": 0,
          "general_serum": 1.946,
          "index": 235,
          "smoking": 0,
          "uniqueid": 51
         },
         {
          "diabetes": 1,
          "general_serum": 9.928,
          "index": 236,
          "smoking": 0,
          "uniqueid": 52
         },
         {
          "diabetes": 1,
          "general_serum": 1.34,
          "index": 237,
          "smoking": 0,
          "uniqueid": 53
         },
         {
          "diabetes": 1,
          "general_serum": 2.904,
          "index": 238,
          "smoking": 1,
          "uniqueid": 54
         },
         {
          "diabetes": 0,
          "general_serum": 2.64,
          "index": 239,
          "smoking": 0,
          "uniqueid": 55
         },
         {
          "diabetes": 0,
          "general_serum": 3.726,
          "index": 240,
          "smoking": 1,
          "uniqueid": 56
         },
         {
          "diabetes": 1,
          "general_serum": 2.034,
          "index": 241,
          "smoking": 1,
          "uniqueid": 199
         },
         {
          "diabetes": 0,
          "general_serum": 0.959,
          "index": 242,
          "smoking": 0,
          "uniqueid": 200
         },
         {
          "diabetes": 1,
          "general_serum": 1.36,
          "index": 243,
          "smoking": 0,
          "uniqueid": 201
         },
         {
          "diabetes": 0,
          "general_serum": 1.242,
          "index": 244,
          "smoking": 0,
          "uniqueid": 202
         },
         {
          "diabetes": 0,
          "general_serum": 4.76,
          "index": 245,
          "smoking": 1,
          "uniqueid": 203
         },
         {
          "diabetes": 0,
          "general_serum": 0.959,
          "index": 246,
          "smoking": 1,
          "uniqueid": 204
         },
         {
          "diabetes": 1,
          "general_serum": 1.36,
          "index": 247,
          "smoking": 0,
          "uniqueid": 205
         },
         {
          "diabetes": 0,
          "general_serum": 1.128,
          "index": 248,
          "smoking": 0,
          "uniqueid": 206
         },
         {
          "diabetes": 0,
          "general_serum": 1.224,
          "index": 249,
          "smoking": 0,
          "uniqueid": 207
         },
         {
          "diabetes": 1,
          "general_serum": 1.41,
          "index": 250,
          "smoking": 0,
          "uniqueid": 208
         },
         {
          "diabetes": 1,
          "general_serum": 1.04,
          "index": 251,
          "smoking": 0,
          "uniqueid": 209
         },
         {
          "diabetes": 1,
          "general_serum": 1.36,
          "index": 252,
          "smoking": 1,
          "uniqueid": 210
         },
         {
          "diabetes": 0,
          "general_serum": 1.12,
          "index": 253,
          "smoking": 1,
          "uniqueid": 211
         },
         {
          "diabetes": 0,
          "general_serum": 1.932,
          "index": 254,
          "smoking": 1,
          "uniqueid": 212
         },
         {
          "diabetes": 1,
          "general_serum": 2.08,
          "index": 255,
          "smoking": 0,
          "uniqueid": 213
         },
         {
          "diabetes": 0,
          "general_serum": 1.072,
          "index": 256,
          "smoking": 0,
          "uniqueid": 214
         },
         {
          "diabetes": 0,
          "general_serum": 1.742,
          "index": 257,
          "smoking": 0,
          "uniqueid": 215
         },
         {
          "diabetes": 0,
          "general_serum": 1.269,
          "index": 258,
          "smoking": 0,
          "uniqueid": 216
         },
         {
          "diabetes": 0,
          "general_serum": 12.33,
          "index": 259,
          "smoking": 0,
          "uniqueid": 217
         },
         {
          "diabetes": 1,
          "general_serum": 1.474,
          "index": 260,
          "smoking": 0,
          "uniqueid": 218
         },
         {
          "diabetes": 1,
          "general_serum": 0.98,
          "index": 261,
          "smoking": 0,
          "uniqueid": 219
         },
         {
          "diabetes": 0,
          "general_serum": 2.4522,
          "index": 262,
          "smoking": 0,
          "uniqueid": 220
         },
         {
          "diabetes": 0,
          "general_serum": 1.595,
          "index": 263,
          "smoking": 1,
          "uniqueid": 221
         },
         {
          "diabetes": 0,
          "general_serum": 1.529,
          "index": 264,
          "smoking": 1,
          "uniqueid": 222
         },
         {
          "diabetes": 0,
          "general_serum": 1.072,
          "index": 265,
          "smoking": 0,
          "uniqueid": 223
         },
         {
          "diabetes": 1,
          "general_serum": 1.38,
          "index": 266,
          "smoking": 0,
          "uniqueid": 224
         },
         {
          "diabetes": 1,
          "general_serum": 1.75,
          "index": 267,
          "smoking": 0,
          "uniqueid": 225
         },
         {
          "diabetes": 0,
          "general_serum": 1.716,
          "index": 268,
          "smoking": 1,
          "uniqueid": 226
         },
         {
          "diabetes": 0,
          "general_serum": 1.4,
          "index": 269,
          "smoking": 0,
          "uniqueid": 227
         },
         {
          "diabetes": 0,
          "general_serum": 6.5,
          "index": 270,
          "smoking": 0,
          "uniqueid": 228
         },
         {
          "diabetes": 0,
          "general_serum": 1.608,
          "index": 271,
          "smoking": 0,
          "uniqueid": 229
         },
         {
          "diabetes": 0,
          "general_serum": 2.159,
          "index": 272,
          "smoking": 0,
          "uniqueid": 230
         },
         {
          "diabetes": 0,
          "general_serum": 2.176,
          "index": 273,
          "smoking": 1,
          "uniqueid": 298
         },
         {
          "diabetes": 1,
          "general_serum": 1.4,
          "index": 274,
          "smoking": 1,
          "uniqueid": 292
         },
         {
          "diabetes": 1,
          "general_serum": 1.224,
          "index": 275,
          "smoking": 1,
          "uniqueid": 293
         },
         {
          "diabetes": 1,
          "general_serum": 1.573,
          "index": 276,
          "smoking": 1,
          "uniqueid": 294
         },
         {
          "diabetes": 0,
          "general_serum": 1.668,
          "index": 277,
          "smoking": 0,
          "uniqueid": 295
         },
         {
          "diabetes": 1,
          "general_serum": 1.104,
          "index": 278,
          "smoking": 0,
          "uniqueid": 296
         },
         {
          "diabetes": 0,
          "general_serum": 1.96,
          "index": 279,
          "smoking": 1,
          "uniqueid": 297
         },
         {
          "diabetes": 1,
          "general_serum": 1.768,
          "index": 280,
          "smoking": 1,
          "uniqueid": 59
         },
         {
          "diabetes": 1,
          "general_serum": 1.39,
          "index": 281,
          "smoking": 0,
          "uniqueid": 60
         },
         {
          "diabetes": 0,
          "general_serum": 3.013,
          "index": 282,
          "smoking": 0,
          "uniqueid": 61
         },
         {
          "diabetes": 0,
          "general_serum": 1.529,
          "index": 283,
          "smoking": 1,
          "uniqueid": 62
         },
         {
          "diabetes": 0,
          "general_serum": 1.45,
          "index": 284,
          "smoking": 0,
          "uniqueid": 63
         },
         {
          "diabetes": 1,
          "general_serum": 1.33,
          "index": 285,
          "smoking": 0,
          "uniqueid": 91
         },
         {
          "diabetes": 0,
          "general_serum": 1.6166,
          "index": 286,
          "smoking": 0,
          "uniqueid": 92
         },
         {
          "diabetes": 0,
          "general_serum": 2.295,
          "index": 287,
          "smoking": 0,
          "uniqueid": 93
         },
         {
          "diabetes": 1,
          "general_serum": 1.39,
          "index": 288,
          "smoking": 0,
          "uniqueid": 257
         },
         {
          "diabetes": 0,
          "general_serum": 1.096,
          "index": 289,
          "smoking": 0,
          "uniqueid": 275
         },
         {
          "diabetes": 0,
          "general_serum": 1.562,
          "index": 290,
          "smoking": 0,
          "uniqueid": 276
         },
         {
          "diabetes": 1,
          "general_serum": 1.54,
          "index": 291,
          "smoking": 0,
          "uniqueid": 277
         },
         {
          "diabetes": 1,
          "general_serum": 0.952,
          "index": 292,
          "smoking": 0,
          "uniqueid": 278
         },
         {
          "diabetes": 1,
          "general_serum": 1.768,
          "index": 293,
          "smoking": 0,
          "uniqueid": 279
         },
         {
          "diabetes": 1,
          "general_serum": 1.37,
          "index": 294,
          "smoking": 0,
          "uniqueid": 280
         },
         {
          "diabetes": 0,
          "general_serum": 3.672,
          "index": 295,
          "smoking": 1,
          "uniqueid": 281
         },
         {
          "diabetes": 0,
          "general_serum": 4.864,
          "index": 296,
          "smoking": 1,
          "uniqueid": 282
         },
         {
          "diabetes": 0,
          "general_serum": 1.518,
          "index": 297,
          "smoking": 1,
          "uniqueid": 283
         },
         {
          "diabetes": 0,
          "general_serum": 2.38,
          "index": 298,
          "smoking": 0,
          "uniqueid": 286
         }
        ],
        "schema": {
         "fields": [
          {
           "name": "index",
           "type": "integer"
          },
          {
           "name": "uniqueid",
           "type": "integer"
          },
          {
           "name": "smoking",
           "type": "integer"
          },
          {
           "name": "diabetes",
           "type": "integer"
          },
          {
           "name": "general_serum",
           "type": "number"
          }
         ],
         "pandas_version": "1.4.0",
         "primaryKey": [
          "index"
         ]
        }
       },
       "total_rows": 299,
       "truncation_type": null
      },
      "text/html": [
       "<div>\n",
       "<style scoped>\n",
       "    .dataframe tbody tr th:only-of-type {\n",
       "        vertical-align: middle;\n",
       "    }\n",
       "\n",
       "    .dataframe tbody tr th {\n",
       "        vertical-align: top;\n",
       "    }\n",
       "\n",
       "    .dataframe thead th {\n",
       "        text-align: right;\n",
       "    }\n",
       "</style>\n",
       "<table border=\"1\" class=\"dataframe\">\n",
       "  <thead>\n",
       "    <tr style=\"text-align: right;\">\n",
       "      <th></th>\n",
       "      <th>uniqueid</th>\n",
       "      <th>smoking</th>\n",
       "      <th>diabetes</th>\n",
       "      <th>general_serum</th>\n",
       "    </tr>\n",
       "  </thead>\n",
       "  <tbody>\n",
       "    <tr>\n",
       "      <th>0</th>\n",
       "      <td>159</td>\n",
       "      <td>1</td>\n",
       "      <td>0</td>\n",
       "      <td>1.529</td>\n",
       "    </tr>\n",
       "    <tr>\n",
       "      <th>1</th>\n",
       "      <td>87</td>\n",
       "      <td>0</td>\n",
       "      <td>1</td>\n",
       "      <td>1.120</td>\n",
       "    </tr>\n",
       "    <tr>\n",
       "      <th>2</th>\n",
       "      <td>88</td>\n",
       "      <td>0</td>\n",
       "      <td>1</td>\n",
       "      <td>0.973</td>\n",
       "    </tr>\n",
       "    <tr>\n",
       "      <th>3</th>\n",
       "      <td>89</td>\n",
       "      <td>0</td>\n",
       "      <td>0</td>\n",
       "      <td>1.584</td>\n",
       "    </tr>\n",
       "    <tr>\n",
       "      <th>4</th>\n",
       "      <td>90</td>\n",
       "      <td>1</td>\n",
       "      <td>1</td>\n",
       "      <td>1.088</td>\n",
       "    </tr>\n",
       "    <tr>\n",
       "      <th>...</th>\n",
       "      <td>...</td>\n",
       "      <td>...</td>\n",
       "      <td>...</td>\n",
       "      <td>...</td>\n",
       "    </tr>\n",
       "    <tr>\n",
       "      <th>294</th>\n",
       "      <td>280</td>\n",
       "      <td>0</td>\n",
       "      <td>1</td>\n",
       "      <td>1.370</td>\n",
       "    </tr>\n",
       "    <tr>\n",
       "      <th>295</th>\n",
       "      <td>281</td>\n",
       "      <td>1</td>\n",
       "      <td>0</td>\n",
       "      <td>3.672</td>\n",
       "    </tr>\n",
       "    <tr>\n",
       "      <th>296</th>\n",
       "      <td>282</td>\n",
       "      <td>1</td>\n",
       "      <td>0</td>\n",
       "      <td>4.864</td>\n",
       "    </tr>\n",
       "    <tr>\n",
       "      <th>297</th>\n",
       "      <td>283</td>\n",
       "      <td>1</td>\n",
       "      <td>0</td>\n",
       "      <td>1.518</td>\n",
       "    </tr>\n",
       "    <tr>\n",
       "      <th>298</th>\n",
       "      <td>286</td>\n",
       "      <td>0</td>\n",
       "      <td>0</td>\n",
       "      <td>2.380</td>\n",
       "    </tr>\n",
       "  </tbody>\n",
       "</table>\n",
       "<p>299 rows × 4 columns</p>\n",
       "</div>"
      ],
      "text/plain": [
       "     uniqueid  smoking  diabetes  general_serum\n",
       "0         159        1         0          1.529\n",
       "1          87        0         1          1.120\n",
       "2          88        0         1          0.973\n",
       "3          89        0         0          1.584\n",
       "4          90        1         1          1.088\n",
       "..        ...      ...       ...            ...\n",
       "294       280        0         1          1.370\n",
       "295       281        1         0          3.672\n",
       "296       282        1         0          4.864\n",
       "297       283        1         0          1.518\n",
       "298       286        0         0          2.380\n",
       "\n",
       "[299 rows x 4 columns]"
      ]
     },
     "execution_count": 95,
     "metadata": {},
     "output_type": "execute_result"
    }
   ],
   "source": [
    "SELECT\n",
    "        p.uniqueid,\n",
    "        p.smoking,\n",
    "        p.diabetes,\n",
    "        (p.serum_sodium * p.serum_creatinine / 100) AS general_serum\n",
    "    FROM\n",
    "        base_metrics_patient AS p"
   ]
  },
  {
   "cell_type": "markdown",
   "id": "076d2b9c-ff0d-4123-b6c5-4cd8dbe9ac96",
   "metadata": {},
   "source": [
    "## Tableau tasks\n",
    "\n",
    "This Tableau task lets you be creative with the way you build your dashboard and only gives guidance on the types of visualisations you should use.\n",
    "\n",
    "Create a dashboard that will contain at least 5 out of the 8 requirements defined below:\n",
    "\n",
    "1. **~~At least 2 KPIs~~** as Big Ass Numbers. Choose the metrics on your own that will fit with the rest of your analysis. Examples of metrics:\n",
    "    - % of patients that died\n",
    "    - % of smokers out of patients that died\n",
    "    - % of smokers out of patients that died older than 70 y/o\n",
    "    - etc.\n",
    "2. **~~A Bar Chart~~**, for example, comparing one or more patient characteristics and the corresponding amount of patients who died or didn’t die, smoker or non-smokers, diabetic or not diabetic. \n",
    "3. **~~A Bar Chart using Quick Table Calculation~~**, for example, for each combination of patient characteristics comparing the % of smokers and non-smokers, patients that die or didn’t die, etc.\n",
    "4. **~~A Highlight Table (Heatmap)~~**, for example, between age group and smoking flag, where each cell corresponds to either absolute or % of Total patients. By building two such heatmaps you can compare the “distribution” for patients that die and didn’t die.\n",
    "5. **~~A Top N list of patient IDs~~** based on a chosen metric (creatine levels, sodium levels, etc.) including various Context Filters (age, smoker, etc.). \n",
    "6. **~~A Top N list of patient segments~~** by the % of deaths. For example, out of all non-diabetic smokers with high blood pressure, what percentage of patients died? Sort the segments by this percentage descendingly and allow for selecting Top N, if relevant, or keep the full list, if you see fit.\n",
    "7. **~~At least 1 parameter~~** that allows dashboard user to interact with the dashboard.\n",
    "8. At least **~~1 more visualization of your choice~~** adding value to your analysis."
   ]
  },
  {
   "cell_type": "markdown",
   "id": "a7a5e88a-fe42-45d9-a726-bc910bd51595",
   "metadata": {},
   "source": [
    "# KPI'S\n",
    "\n",
    "- √ % of people with high blood pressure that died during the follow-up.\n",
    "- √ Amount of smokers that died during the follow-up per age group.\n",
    "- √ % of diabetic patients that died during the follow-up categorized by gender."
   ]
  },
  {
   "cell_type": "markdown",
   "id": "511abd31-17a0-4355-b5d2-a8597a861f63",
   "metadata": {},
   "source": [
    "![Masterschool capstone project (heart failure dataset)](Masterschool%20capstone%20project%20(heart%20failure%20dataset).png)\n",
    "\n",
    "[Masterschool capstone project (heart failure dataset)](https://public.tableau.com/views/Masterschoolcapstone/Capstonedashboard?:language=en-US&:display_count=n&:origin=viz_share_link)"
   ]
  },
  {
   "cell_type": "markdown",
   "id": "4da09d52-6cf1-4c09-9717-be28ceafd8ec",
   "metadata": {},
   "source": [
    "_For_ deep dive analysis and EDA follow the guidelines on project [Page](https://cms.master.school/final-project-jan23)"
   ]
  },
  {
   "cell_type": "markdown",
   "id": "ac33cffa-470d-4ac1-a84f-e8f0f6ce1642",
   "metadata": {},
   "source": [
    "# 1 Setup"
   ]
  },
  {
   "cell_type": "code",
   "execution_count": 96,
   "id": "b2e001ce-e143-4a9b-9185-1e747164f414",
   "metadata": {
    "executionTime": 0,
    "lastSuccessfullyExecutedCode": "# Libraries required for this notebook to run\nimport numpy as np\nimport pandas as pd\nimport matplotlib.pyplot as plt\nimport seaborn as sns\n\npd.set_option('display.max_columns', 500)\npd.set_option('max_colwidth', 800)"
   },
   "outputs": [],
   "source": [
    "# Libraries required for this notebook to run\n",
    "import numpy as np\n",
    "import pandas as pd\n",
    "import matplotlib.pyplot as plt\n",
    "import seaborn as sns\n",
    "\n",
    "pd.set_option('display.max_columns', 500)\n",
    "pd.set_option('max_colwidth', 800)"
   ]
  },
  {
   "cell_type": "code",
   "execution_count": 97,
   "id": "07240fc4-0b8e-4cff-9c4b-6dd2ee9b4941",
   "metadata": {
    "executionTime": 0,
    "lastSuccessfullyExecutedCode": "# Read the data into a pandas dataframe\nbase_metrics_patient_df = pd.read_csv(\"base_metrics_patient.csv\")\nblood_metrics_df = pd.read_csv(\"blood_metrics_df.csv\")\ndemographic_df = pd.read_csv(\"demographic_data_health.csv\")\nfollow_up_df = pd.read_csv(\"follow_up_df.csv\")"
   },
   "outputs": [],
   "source": [
    "# Read the data into a pandas dataframe\n",
    "base_metrics_patient_df = pd.read_csv(\"base_metrics_patient.csv\")\n",
    "blood_metrics_df = pd.read_csv(\"blood_metrics_df.csv\")\n",
    "demographic_df = pd.read_csv(\"demographic_data_health.csv\")\n",
    "follow_up_df = pd.read_csv(\"follow_up_df.csv\")"
   ]
  },
  {
   "cell_type": "code",
   "execution_count": 98,
   "id": "97b52e07-4c51-4049-b618-d6bda1d54963",
   "metadata": {
    "executionTime": 0,
    "lastSuccessfullyExecutedCode": "# Cleaning operation required to succesfully combine seperate dataframes into a single dataframe\nblood_metrics_df.rename(columns = {'unqiueID':'uniqueID'}, inplace = True)"
   },
   "outputs": [],
   "source": [
    "# Cleaning operation required to succesfully combine seperate dataframes into a single dataframe\n",
    "blood_metrics_df.rename(columns = {'unqiueID':'uniqueID'}, inplace = True)"
   ]
  },
  {
   "cell_type": "code",
   "execution_count": 99,
   "id": "fc44bf47-188f-4143-b679-33d329966040",
   "metadata": {
    "executionTime": 0,
    "lastSuccessfullyExecutedCode": "# Merge dataframes\nmerged_df = base_metrics_patient_df.merge(blood_metrics_df, on='uniqueID').merge(demographic_df, on='uniqueID').merge(follow_up_df, on='uniqueID')"
   },
   "outputs": [],
   "source": [
    "# Merge dataframes\n",
    "merged_df = base_metrics_patient_df.merge(blood_metrics_df, on='uniqueID').merge(demographic_df, on='uniqueID').merge(follow_up_df, on='uniqueID')"
   ]
  },
  {
   "cell_type": "code",
   "execution_count": 100,
   "id": "924244f7-a7b8-43d6-a3e7-9aec012a20ec",
   "metadata": {
    "executionTime": 0,
    "lastSuccessfullyExecutedCode": "# Create a copy of the combined dataframe; run again to restore dataframe\ndf = merged_df.copy()"
   },
   "outputs": [],
   "source": [
    "# Create a copy of the combined dataframe; run again to restore dataframe\n",
    "df = merged_df.copy()"
   ]
  },
  {
   "cell_type": "markdown",
   "id": "bef47b13-e711-487a-acaa-48d2d778bfc8",
   "metadata": {},
   "source": [
    "# 2 Assessment"
   ]
  },
  {
   "cell_type": "code",
   "execution_count": 101,
   "id": "affcec56-5b3f-4b04-925a-613af7011385",
   "metadata": {
    "executionTime": 86,
    "lastSuccessfullyExecutedCode": "df.duplicated().sum()"
   },
   "outputs": [
    {
     "data": {
      "text/plain": [
       "0"
      ]
     },
     "execution_count": 101,
     "metadata": {},
     "output_type": "execute_result"
    }
   ],
   "source": [
    "df.duplicated().sum()"
   ]
  },
  {
   "cell_type": "code",
   "execution_count": 102,
   "id": "8e27f048-769c-416b-be63-277f422f0360",
   "metadata": {
    "executionTime": 239,
    "lastSuccessfullyExecutedCode": "df.shape"
   },
   "outputs": [
    {
     "data": {
      "text/plain": [
       "(299, 14)"
      ]
     },
     "execution_count": 102,
     "metadata": {},
     "output_type": "execute_result"
    }
   ],
   "source": [
    "df.shape"
   ]
  },
  {
   "cell_type": "code",
   "execution_count": 103,
   "id": "f6436552-8021-4567-bb68-a162c777b6ae",
   "metadata": {
    "executionTime": 123,
    "lastSuccessfullyExecutedCode": "df.columns"
   },
   "outputs": [
    {
     "data": {
      "text/plain": [
       "Index(['smoking', 'ejection_fraction', 'serum_sodium', 'platelets',\n",
       "       'creatinine_phosphokinase', 'uniqueID', 'diabetes', 'serum_creatinine',\n",
       "       'anaemia', 'high_blood_pressure', 'age', 'sex', 'time', 'DEATH_EVENT'],\n",
       "      dtype='object')"
      ]
     },
     "execution_count": 103,
     "metadata": {},
     "output_type": "execute_result"
    }
   ],
   "source": [
    "df.columns"
   ]
  },
  {
   "cell_type": "code",
   "execution_count": 104,
   "id": "cbc3a57b-f601-463e-9f9c-cd1f5ddcecb5",
   "metadata": {
    "executionTime": 108,
    "lastSuccessfullyExecutedCode": "df.info()"
   },
   "outputs": [
    {
     "name": "stdout",
     "output_type": "stream",
     "text": [
      "<class 'pandas.core.frame.DataFrame'>\n",
      "Int64Index: 299 entries, 0 to 298\n",
      "Data columns (total 14 columns):\n",
      " #   Column                    Non-Null Count  Dtype  \n",
      "---  ------                    --------------  -----  \n",
      " 0   smoking                   299 non-null    int64  \n",
      " 1   ejection_fraction         299 non-null    int64  \n",
      " 2   serum_sodium              299 non-null    int64  \n",
      " 3   platelets                 299 non-null    float64\n",
      " 4   creatinine_phosphokinase  299 non-null    int64  \n",
      " 5   uniqueID                  299 non-null    int64  \n",
      " 6   diabetes                  299 non-null    int64  \n",
      " 7   serum_creatinine          299 non-null    float64\n",
      " 8   anaemia                   299 non-null    int64  \n",
      " 9   high_blood_pressure       299 non-null    int64  \n",
      " 10  age                       299 non-null    float64\n",
      " 11  sex                       299 non-null    int64  \n",
      " 12  time                      299 non-null    int64  \n",
      " 13  DEATH_EVENT               299 non-null    int64  \n",
      "dtypes: float64(3), int64(11)\n",
      "memory usage: 35.0 KB\n"
     ]
    }
   ],
   "source": [
    "df.info()"
   ]
  },
  {
   "cell_type": "code",
   "execution_count": 105,
   "id": "ea2298c2-8fdf-4689-b410-7d9ce70d376e",
   "metadata": {
    "executionTime": 128,
    "lastSuccessfullyExecutedCode": "df.head()"
   },
   "outputs": [
    {
     "data": {
      "application/com.datacamp.data-table.v1+json": {
       "table": {
        "data": [
         {
          "DEATH_EVENT": 1,
          "age": 75,
          "anaemia": 0,
          "creatinine_phosphokinase": 582,
          "diabetes": 0,
          "ejection_fraction": 20,
          "high_blood_pressure": 1,
          "index": 0,
          "platelets": 265000,
          "serum_creatinine": 1.9,
          "serum_sodium": 130,
          "sex": 1,
          "smoking": 0,
          "time": 4,
          "uniqueID": 0
         },
         {
          "DEATH_EVENT": 1,
          "age": 55,
          "anaemia": 0,
          "creatinine_phosphokinase": 7861,
          "diabetes": 0,
          "ejection_fraction": 38,
          "high_blood_pressure": 0,
          "index": 1,
          "platelets": 263358.03,
          "serum_creatinine": 1.1,
          "serum_sodium": 136,
          "sex": 1,
          "smoking": 0,
          "time": 6,
          "uniqueID": 1
         },
         {
          "DEATH_EVENT": 1,
          "age": 65,
          "anaemia": 0,
          "creatinine_phosphokinase": 146,
          "diabetes": 0,
          "ejection_fraction": 20,
          "high_blood_pressure": 0,
          "index": 2,
          "platelets": 162000,
          "serum_creatinine": 1.3,
          "serum_sodium": 129,
          "sex": 1,
          "smoking": 1,
          "time": 7,
          "uniqueID": 2
         },
         {
          "DEATH_EVENT": 1,
          "age": 50,
          "anaemia": 1,
          "creatinine_phosphokinase": 111,
          "diabetes": 0,
          "ejection_fraction": 20,
          "high_blood_pressure": 0,
          "index": 3,
          "platelets": 210000,
          "serum_creatinine": 1.9,
          "serum_sodium": 137,
          "sex": 1,
          "smoking": 0,
          "time": 7,
          "uniqueID": 3
         },
         {
          "DEATH_EVENT": 1,
          "age": 65,
          "anaemia": 1,
          "creatinine_phosphokinase": 160,
          "diabetes": 1,
          "ejection_fraction": 20,
          "high_blood_pressure": 0,
          "index": 4,
          "platelets": 327000,
          "serum_creatinine": 2.7,
          "serum_sodium": 116,
          "sex": 0,
          "smoking": 0,
          "time": 8,
          "uniqueID": 4
         }
        ],
        "schema": {
         "fields": [
          {
           "name": "index",
           "type": "integer"
          },
          {
           "name": "smoking",
           "type": "integer"
          },
          {
           "name": "ejection_fraction",
           "type": "integer"
          },
          {
           "name": "serum_sodium",
           "type": "integer"
          },
          {
           "name": "platelets",
           "type": "number"
          },
          {
           "name": "creatinine_phosphokinase",
           "type": "integer"
          },
          {
           "name": "uniqueID",
           "type": "integer"
          },
          {
           "name": "diabetes",
           "type": "integer"
          },
          {
           "name": "serum_creatinine",
           "type": "number"
          },
          {
           "name": "anaemia",
           "type": "integer"
          },
          {
           "name": "high_blood_pressure",
           "type": "integer"
          },
          {
           "name": "age",
           "type": "number"
          },
          {
           "name": "sex",
           "type": "integer"
          },
          {
           "name": "time",
           "type": "integer"
          },
          {
           "name": "DEATH_EVENT",
           "type": "integer"
          }
         ],
         "pandas_version": "1.4.0",
         "primaryKey": [
          "index"
         ]
        }
       },
       "total_rows": 5,
       "truncation_type": null
      },
      "text/html": [
       "<div>\n",
       "<style scoped>\n",
       "    .dataframe tbody tr th:only-of-type {\n",
       "        vertical-align: middle;\n",
       "    }\n",
       "\n",
       "    .dataframe tbody tr th {\n",
       "        vertical-align: top;\n",
       "    }\n",
       "\n",
       "    .dataframe thead th {\n",
       "        text-align: right;\n",
       "    }\n",
       "</style>\n",
       "<table border=\"1\" class=\"dataframe\">\n",
       "  <thead>\n",
       "    <tr style=\"text-align: right;\">\n",
       "      <th></th>\n",
       "      <th>smoking</th>\n",
       "      <th>ejection_fraction</th>\n",
       "      <th>serum_sodium</th>\n",
       "      <th>platelets</th>\n",
       "      <th>creatinine_phosphokinase</th>\n",
       "      <th>uniqueID</th>\n",
       "      <th>diabetes</th>\n",
       "      <th>serum_creatinine</th>\n",
       "      <th>anaemia</th>\n",
       "      <th>high_blood_pressure</th>\n",
       "      <th>age</th>\n",
       "      <th>sex</th>\n",
       "      <th>time</th>\n",
       "      <th>DEATH_EVENT</th>\n",
       "    </tr>\n",
       "  </thead>\n",
       "  <tbody>\n",
       "    <tr>\n",
       "      <th>0</th>\n",
       "      <td>0</td>\n",
       "      <td>20</td>\n",
       "      <td>130</td>\n",
       "      <td>265000.00</td>\n",
       "      <td>582</td>\n",
       "      <td>0</td>\n",
       "      <td>0</td>\n",
       "      <td>1.9</td>\n",
       "      <td>0</td>\n",
       "      <td>1</td>\n",
       "      <td>75.0</td>\n",
       "      <td>1</td>\n",
       "      <td>4</td>\n",
       "      <td>1</td>\n",
       "    </tr>\n",
       "    <tr>\n",
       "      <th>1</th>\n",
       "      <td>0</td>\n",
       "      <td>38</td>\n",
       "      <td>136</td>\n",
       "      <td>263358.03</td>\n",
       "      <td>7861</td>\n",
       "      <td>1</td>\n",
       "      <td>0</td>\n",
       "      <td>1.1</td>\n",
       "      <td>0</td>\n",
       "      <td>0</td>\n",
       "      <td>55.0</td>\n",
       "      <td>1</td>\n",
       "      <td>6</td>\n",
       "      <td>1</td>\n",
       "    </tr>\n",
       "    <tr>\n",
       "      <th>2</th>\n",
       "      <td>1</td>\n",
       "      <td>20</td>\n",
       "      <td>129</td>\n",
       "      <td>162000.00</td>\n",
       "      <td>146</td>\n",
       "      <td>2</td>\n",
       "      <td>0</td>\n",
       "      <td>1.3</td>\n",
       "      <td>0</td>\n",
       "      <td>0</td>\n",
       "      <td>65.0</td>\n",
       "      <td>1</td>\n",
       "      <td>7</td>\n",
       "      <td>1</td>\n",
       "    </tr>\n",
       "    <tr>\n",
       "      <th>3</th>\n",
       "      <td>0</td>\n",
       "      <td>20</td>\n",
       "      <td>137</td>\n",
       "      <td>210000.00</td>\n",
       "      <td>111</td>\n",
       "      <td>3</td>\n",
       "      <td>0</td>\n",
       "      <td>1.9</td>\n",
       "      <td>1</td>\n",
       "      <td>0</td>\n",
       "      <td>50.0</td>\n",
       "      <td>1</td>\n",
       "      <td>7</td>\n",
       "      <td>1</td>\n",
       "    </tr>\n",
       "    <tr>\n",
       "      <th>4</th>\n",
       "      <td>0</td>\n",
       "      <td>20</td>\n",
       "      <td>116</td>\n",
       "      <td>327000.00</td>\n",
       "      <td>160</td>\n",
       "      <td>4</td>\n",
       "      <td>1</td>\n",
       "      <td>2.7</td>\n",
       "      <td>1</td>\n",
       "      <td>0</td>\n",
       "      <td>65.0</td>\n",
       "      <td>0</td>\n",
       "      <td>8</td>\n",
       "      <td>1</td>\n",
       "    </tr>\n",
       "  </tbody>\n",
       "</table>\n",
       "</div>"
      ],
      "text/plain": [
       "   smoking  ejection_fraction  serum_sodium  platelets  \\\n",
       "0        0                 20           130  265000.00   \n",
       "1        0                 38           136  263358.03   \n",
       "2        1                 20           129  162000.00   \n",
       "3        0                 20           137  210000.00   \n",
       "4        0                 20           116  327000.00   \n",
       "\n",
       "   creatinine_phosphokinase  uniqueID  diabetes  serum_creatinine  anaemia  \\\n",
       "0                       582         0         0               1.9        0   \n",
       "1                      7861         1         0               1.1        0   \n",
       "2                       146         2         0               1.3        0   \n",
       "3                       111         3         0               1.9        1   \n",
       "4                       160         4         1               2.7        1   \n",
       "\n",
       "   high_blood_pressure   age  sex  time  DEATH_EVENT  \n",
       "0                    1  75.0    1     4            1  \n",
       "1                    0  55.0    1     6            1  \n",
       "2                    0  65.0    1     7            1  \n",
       "3                    0  50.0    1     7            1  \n",
       "4                    0  65.0    0     8            1  "
      ]
     },
     "execution_count": 105,
     "metadata": {},
     "output_type": "execute_result"
    }
   ],
   "source": [
    "df.head()"
   ]
  },
  {
   "cell_type": "code",
   "execution_count": 106,
   "id": "3fbc425b-cc3e-4480-b439-eae0f3563a09",
   "metadata": {
    "executionTime": 126,
    "lastSuccessfullyExecutedCode": "df.tail()"
   },
   "outputs": [
    {
     "data": {
      "application/com.datacamp.data-table.v1+json": {
       "table": {
        "data": [
         {
          "DEATH_EVENT": 0,
          "age": 62,
          "anaemia": 0,
          "creatinine_phosphokinase": 61,
          "diabetes": 1,
          "ejection_fraction": 38,
          "high_blood_pressure": 1,
          "index": 294,
          "platelets": 155000,
          "serum_creatinine": 1.1,
          "serum_sodium": 143,
          "sex": 1,
          "smoking": 1,
          "time": 270,
          "uniqueID": 294
         },
         {
          "DEATH_EVENT": 0,
          "age": 55,
          "anaemia": 0,
          "creatinine_phosphokinase": 1820,
          "diabetes": 0,
          "ejection_fraction": 38,
          "high_blood_pressure": 0,
          "index": 295,
          "platelets": 270000,
          "serum_creatinine": 1.2,
          "serum_sodium": 139,
          "sex": 0,
          "smoking": 0,
          "time": 271,
          "uniqueID": 295
         },
         {
          "DEATH_EVENT": 0,
          "age": 45,
          "anaemia": 0,
          "creatinine_phosphokinase": 2060,
          "diabetes": 1,
          "ejection_fraction": 60,
          "high_blood_pressure": 0,
          "index": 296,
          "platelets": 742000,
          "serum_creatinine": 0.8,
          "serum_sodium": 138,
          "sex": 0,
          "smoking": 0,
          "time": 278,
          "uniqueID": 296
         },
         {
          "DEATH_EVENT": 0,
          "age": 45,
          "anaemia": 0,
          "creatinine_phosphokinase": 2413,
          "diabetes": 0,
          "ejection_fraction": 38,
          "high_blood_pressure": 0,
          "index": 297,
          "platelets": 140000,
          "serum_creatinine": 1.4,
          "serum_sodium": 140,
          "sex": 1,
          "smoking": 1,
          "time": 280,
          "uniqueID": 297
         },
         {
          "DEATH_EVENT": 0,
          "age": 50,
          "anaemia": 0,
          "creatinine_phosphokinase": 196,
          "diabetes": 0,
          "ejection_fraction": 45,
          "high_blood_pressure": 0,
          "index": 298,
          "platelets": 395000,
          "serum_creatinine": 1.6,
          "serum_sodium": 136,
          "sex": 1,
          "smoking": 1,
          "time": 285,
          "uniqueID": 298
         }
        ],
        "schema": {
         "fields": [
          {
           "name": "index",
           "type": "integer"
          },
          {
           "name": "smoking",
           "type": "integer"
          },
          {
           "name": "ejection_fraction",
           "type": "integer"
          },
          {
           "name": "serum_sodium",
           "type": "integer"
          },
          {
           "name": "platelets",
           "type": "number"
          },
          {
           "name": "creatinine_phosphokinase",
           "type": "integer"
          },
          {
           "name": "uniqueID",
           "type": "integer"
          },
          {
           "name": "diabetes",
           "type": "integer"
          },
          {
           "name": "serum_creatinine",
           "type": "number"
          },
          {
           "name": "anaemia",
           "type": "integer"
          },
          {
           "name": "high_blood_pressure",
           "type": "integer"
          },
          {
           "name": "age",
           "type": "number"
          },
          {
           "name": "sex",
           "type": "integer"
          },
          {
           "name": "time",
           "type": "integer"
          },
          {
           "name": "DEATH_EVENT",
           "type": "integer"
          }
         ],
         "pandas_version": "1.4.0",
         "primaryKey": [
          "index"
         ]
        }
       },
       "total_rows": 5,
       "truncation_type": null
      },
      "text/html": [
       "<div>\n",
       "<style scoped>\n",
       "    .dataframe tbody tr th:only-of-type {\n",
       "        vertical-align: middle;\n",
       "    }\n",
       "\n",
       "    .dataframe tbody tr th {\n",
       "        vertical-align: top;\n",
       "    }\n",
       "\n",
       "    .dataframe thead th {\n",
       "        text-align: right;\n",
       "    }\n",
       "</style>\n",
       "<table border=\"1\" class=\"dataframe\">\n",
       "  <thead>\n",
       "    <tr style=\"text-align: right;\">\n",
       "      <th></th>\n",
       "      <th>smoking</th>\n",
       "      <th>ejection_fraction</th>\n",
       "      <th>serum_sodium</th>\n",
       "      <th>platelets</th>\n",
       "      <th>creatinine_phosphokinase</th>\n",
       "      <th>uniqueID</th>\n",
       "      <th>diabetes</th>\n",
       "      <th>serum_creatinine</th>\n",
       "      <th>anaemia</th>\n",
       "      <th>high_blood_pressure</th>\n",
       "      <th>age</th>\n",
       "      <th>sex</th>\n",
       "      <th>time</th>\n",
       "      <th>DEATH_EVENT</th>\n",
       "    </tr>\n",
       "  </thead>\n",
       "  <tbody>\n",
       "    <tr>\n",
       "      <th>294</th>\n",
       "      <td>1</td>\n",
       "      <td>38</td>\n",
       "      <td>143</td>\n",
       "      <td>155000.0</td>\n",
       "      <td>61</td>\n",
       "      <td>294</td>\n",
       "      <td>1</td>\n",
       "      <td>1.1</td>\n",
       "      <td>0</td>\n",
       "      <td>1</td>\n",
       "      <td>62.0</td>\n",
       "      <td>1</td>\n",
       "      <td>270</td>\n",
       "      <td>0</td>\n",
       "    </tr>\n",
       "    <tr>\n",
       "      <th>295</th>\n",
       "      <td>0</td>\n",
       "      <td>38</td>\n",
       "      <td>139</td>\n",
       "      <td>270000.0</td>\n",
       "      <td>1820</td>\n",
       "      <td>295</td>\n",
       "      <td>0</td>\n",
       "      <td>1.2</td>\n",
       "      <td>0</td>\n",
       "      <td>0</td>\n",
       "      <td>55.0</td>\n",
       "      <td>0</td>\n",
       "      <td>271</td>\n",
       "      <td>0</td>\n",
       "    </tr>\n",
       "    <tr>\n",
       "      <th>296</th>\n",
       "      <td>0</td>\n",
       "      <td>60</td>\n",
       "      <td>138</td>\n",
       "      <td>742000.0</td>\n",
       "      <td>2060</td>\n",
       "      <td>296</td>\n",
       "      <td>1</td>\n",
       "      <td>0.8</td>\n",
       "      <td>0</td>\n",
       "      <td>0</td>\n",
       "      <td>45.0</td>\n",
       "      <td>0</td>\n",
       "      <td>278</td>\n",
       "      <td>0</td>\n",
       "    </tr>\n",
       "    <tr>\n",
       "      <th>297</th>\n",
       "      <td>1</td>\n",
       "      <td>38</td>\n",
       "      <td>140</td>\n",
       "      <td>140000.0</td>\n",
       "      <td>2413</td>\n",
       "      <td>297</td>\n",
       "      <td>0</td>\n",
       "      <td>1.4</td>\n",
       "      <td>0</td>\n",
       "      <td>0</td>\n",
       "      <td>45.0</td>\n",
       "      <td>1</td>\n",
       "      <td>280</td>\n",
       "      <td>0</td>\n",
       "    </tr>\n",
       "    <tr>\n",
       "      <th>298</th>\n",
       "      <td>1</td>\n",
       "      <td>45</td>\n",
       "      <td>136</td>\n",
       "      <td>395000.0</td>\n",
       "      <td>196</td>\n",
       "      <td>298</td>\n",
       "      <td>0</td>\n",
       "      <td>1.6</td>\n",
       "      <td>0</td>\n",
       "      <td>0</td>\n",
       "      <td>50.0</td>\n",
       "      <td>1</td>\n",
       "      <td>285</td>\n",
       "      <td>0</td>\n",
       "    </tr>\n",
       "  </tbody>\n",
       "</table>\n",
       "</div>"
      ],
      "text/plain": [
       "     smoking  ejection_fraction  serum_sodium  platelets  \\\n",
       "294        1                 38           143   155000.0   \n",
       "295        0                 38           139   270000.0   \n",
       "296        0                 60           138   742000.0   \n",
       "297        1                 38           140   140000.0   \n",
       "298        1                 45           136   395000.0   \n",
       "\n",
       "     creatinine_phosphokinase  uniqueID  diabetes  serum_creatinine  anaemia  \\\n",
       "294                        61       294         1               1.1        0   \n",
       "295                      1820       295         0               1.2        0   \n",
       "296                      2060       296         1               0.8        0   \n",
       "297                      2413       297         0               1.4        0   \n",
       "298                       196       298         0               1.6        0   \n",
       "\n",
       "     high_blood_pressure   age  sex  time  DEATH_EVENT  \n",
       "294                    1  62.0    1   270            0  \n",
       "295                    0  55.0    0   271            0  \n",
       "296                    0  45.0    0   278            0  \n",
       "297                    0  45.0    1   280            0  \n",
       "298                    0  50.0    1   285            0  "
      ]
     },
     "execution_count": 106,
     "metadata": {},
     "output_type": "execute_result"
    }
   ],
   "source": [
    "df.tail()"
   ]
  },
  {
   "cell_type": "code",
   "execution_count": 107,
   "id": "85d4f088-dfa2-4057-b329-8c5d0d0f30a6",
   "metadata": {
    "executionTime": 117,
    "lastSuccessfullyExecutedCode": "df.isnull().sum().sort_values(ascending=False)"
   },
   "outputs": [
    {
     "data": {
      "text/plain": [
       "smoking                     0\n",
       "ejection_fraction           0\n",
       "serum_sodium                0\n",
       "platelets                   0\n",
       "creatinine_phosphokinase    0\n",
       "uniqueID                    0\n",
       "diabetes                    0\n",
       "serum_creatinine            0\n",
       "anaemia                     0\n",
       "high_blood_pressure         0\n",
       "age                         0\n",
       "sex                         0\n",
       "time                        0\n",
       "DEATH_EVENT                 0\n",
       "dtype: int64"
      ]
     },
     "execution_count": 107,
     "metadata": {},
     "output_type": "execute_result"
    }
   ],
   "source": [
    "df.isnull().sum().sort_values(ascending=False)"
   ]
  },
  {
   "cell_type": "code",
   "execution_count": 108,
   "id": "b2fa8ab7-101d-4833-8d95-3f421b26ea8c",
   "metadata": {
    "executionTime": 120,
    "lastSuccessfullyExecutedCode": "df.describe()"
   },
   "outputs": [
    {
     "data": {
      "application/com.datacamp.data-table.v1+json": {
       "table": {
        "data": [
         {
          "DEATH_EVENT": 299,
          "age": 299,
          "anaemia": 299,
          "creatinine_phosphokinase": 299,
          "diabetes": 299,
          "ejection_fraction": 299,
          "high_blood_pressure": 299,
          "index": "count",
          "platelets": 299,
          "serum_creatinine": 299,
          "serum_sodium": 299,
          "sex": 299,
          "smoking": 299,
          "time": 299,
          "uniqueID": 299
         },
         {
          "DEATH_EVENT": 0.3210702341,
          "age": 60.8338929766,
          "anaemia": 0.4314381271,
          "creatinine_phosphokinase": 581.8394648829,
          "diabetes": 0.4180602007,
          "ejection_fraction": 38.0836120401,
          "high_blood_pressure": 0.3511705686,
          "index": "mean",
          "platelets": 263358.029264214,
          "serum_creatinine": 1.3938795987,
          "serum_sodium": 136.6254180602,
          "sex": 0.6488294314,
          "smoking": 0.3210702341,
          "time": 130.2608695652,
          "uniqueID": 149
         },
         {
          "DEATH_EVENT": 0.4676704281,
          "age": 11.894809074,
          "anaemia": 0.4961072681,
          "creatinine_phosphokinase": 970.2878807124,
          "diabetes": 0.4940670651,
          "ejection_fraction": 11.834840741,
          "high_blood_pressure": 0.4781363791,
          "index": "std",
          "platelets": 97804.2368685983,
          "serum_creatinine": 1.0345100641,
          "serum_sodium": 4.4124772839,
          "sex": 0.4781363791,
          "smoking": 0.4676704281,
          "time": 77.6142079503,
          "uniqueID": 86.458082329
         },
         {
          "DEATH_EVENT": 0,
          "age": 40,
          "anaemia": 0,
          "creatinine_phosphokinase": 23,
          "diabetes": 0,
          "ejection_fraction": 14,
          "high_blood_pressure": 0,
          "index": "min",
          "platelets": 25100,
          "serum_creatinine": 0.5,
          "serum_sodium": 113,
          "sex": 0,
          "smoking": 0,
          "time": 4,
          "uniqueID": 0
         },
         {
          "DEATH_EVENT": 0,
          "age": 51,
          "anaemia": 0,
          "creatinine_phosphokinase": 116.5,
          "diabetes": 0,
          "ejection_fraction": 30,
          "high_blood_pressure": 0,
          "index": "25%",
          "platelets": 212500,
          "serum_creatinine": 0.9,
          "serum_sodium": 134,
          "sex": 0,
          "smoking": 0,
          "time": 73,
          "uniqueID": 74.5
         },
         {
          "DEATH_EVENT": 0,
          "age": 60,
          "anaemia": 0,
          "creatinine_phosphokinase": 250,
          "diabetes": 0,
          "ejection_fraction": 38,
          "high_blood_pressure": 0,
          "index": "50%",
          "platelets": 262000,
          "serum_creatinine": 1.1,
          "serum_sodium": 137,
          "sex": 1,
          "smoking": 0,
          "time": 115,
          "uniqueID": 149
         },
         {
          "DEATH_EVENT": 1,
          "age": 70,
          "anaemia": 1,
          "creatinine_phosphokinase": 582,
          "diabetes": 1,
          "ejection_fraction": 45,
          "high_blood_pressure": 1,
          "index": "75%",
          "platelets": 303500,
          "serum_creatinine": 1.4,
          "serum_sodium": 140,
          "sex": 1,
          "smoking": 1,
          "time": 203,
          "uniqueID": 223.5
         },
         {
          "DEATH_EVENT": 1,
          "age": 95,
          "anaemia": 1,
          "creatinine_phosphokinase": 7861,
          "diabetes": 1,
          "ejection_fraction": 80,
          "high_blood_pressure": 1,
          "index": "max",
          "platelets": 850000,
          "serum_creatinine": 9.4,
          "serum_sodium": 148,
          "sex": 1,
          "smoking": 1,
          "time": 285,
          "uniqueID": 298
         }
        ],
        "schema": {
         "fields": [
          {
           "name": "index",
           "type": "string"
          },
          {
           "name": "smoking",
           "type": "number"
          },
          {
           "name": "ejection_fraction",
           "type": "number"
          },
          {
           "name": "serum_sodium",
           "type": "number"
          },
          {
           "name": "platelets",
           "type": "number"
          },
          {
           "name": "creatinine_phosphokinase",
           "type": "number"
          },
          {
           "name": "uniqueID",
           "type": "number"
          },
          {
           "name": "diabetes",
           "type": "number"
          },
          {
           "name": "serum_creatinine",
           "type": "number"
          },
          {
           "name": "anaemia",
           "type": "number"
          },
          {
           "name": "high_blood_pressure",
           "type": "number"
          },
          {
           "name": "age",
           "type": "number"
          },
          {
           "name": "sex",
           "type": "number"
          },
          {
           "name": "time",
           "type": "number"
          },
          {
           "name": "DEATH_EVENT",
           "type": "number"
          }
         ],
         "pandas_version": "1.4.0",
         "primaryKey": [
          "index"
         ]
        }
       },
       "total_rows": 8,
       "truncation_type": null
      },
      "text/html": [
       "<div>\n",
       "<style scoped>\n",
       "    .dataframe tbody tr th:only-of-type {\n",
       "        vertical-align: middle;\n",
       "    }\n",
       "\n",
       "    .dataframe tbody tr th {\n",
       "        vertical-align: top;\n",
       "    }\n",
       "\n",
       "    .dataframe thead th {\n",
       "        text-align: right;\n",
       "    }\n",
       "</style>\n",
       "<table border=\"1\" class=\"dataframe\">\n",
       "  <thead>\n",
       "    <tr style=\"text-align: right;\">\n",
       "      <th></th>\n",
       "      <th>smoking</th>\n",
       "      <th>ejection_fraction</th>\n",
       "      <th>serum_sodium</th>\n",
       "      <th>platelets</th>\n",
       "      <th>creatinine_phosphokinase</th>\n",
       "      <th>uniqueID</th>\n",
       "      <th>diabetes</th>\n",
       "      <th>serum_creatinine</th>\n",
       "      <th>anaemia</th>\n",
       "      <th>high_blood_pressure</th>\n",
       "      <th>age</th>\n",
       "      <th>sex</th>\n",
       "      <th>time</th>\n",
       "      <th>DEATH_EVENT</th>\n",
       "    </tr>\n",
       "  </thead>\n",
       "  <tbody>\n",
       "    <tr>\n",
       "      <th>count</th>\n",
       "      <td>299.00000</td>\n",
       "      <td>299.000000</td>\n",
       "      <td>299.000000</td>\n",
       "      <td>299.000000</td>\n",
       "      <td>299.000000</td>\n",
       "      <td>299.000000</td>\n",
       "      <td>299.000000</td>\n",
       "      <td>299.00000</td>\n",
       "      <td>299.000000</td>\n",
       "      <td>299.000000</td>\n",
       "      <td>299.000000</td>\n",
       "      <td>299.000000</td>\n",
       "      <td>299.000000</td>\n",
       "      <td>299.00000</td>\n",
       "    </tr>\n",
       "    <tr>\n",
       "      <th>mean</th>\n",
       "      <td>0.32107</td>\n",
       "      <td>38.083612</td>\n",
       "      <td>136.625418</td>\n",
       "      <td>263358.029264</td>\n",
       "      <td>581.839465</td>\n",
       "      <td>149.000000</td>\n",
       "      <td>0.418060</td>\n",
       "      <td>1.39388</td>\n",
       "      <td>0.431438</td>\n",
       "      <td>0.351171</td>\n",
       "      <td>60.833893</td>\n",
       "      <td>0.648829</td>\n",
       "      <td>130.260870</td>\n",
       "      <td>0.32107</td>\n",
       "    </tr>\n",
       "    <tr>\n",
       "      <th>std</th>\n",
       "      <td>0.46767</td>\n",
       "      <td>11.834841</td>\n",
       "      <td>4.412477</td>\n",
       "      <td>97804.236869</td>\n",
       "      <td>970.287881</td>\n",
       "      <td>86.458082</td>\n",
       "      <td>0.494067</td>\n",
       "      <td>1.03451</td>\n",
       "      <td>0.496107</td>\n",
       "      <td>0.478136</td>\n",
       "      <td>11.894809</td>\n",
       "      <td>0.478136</td>\n",
       "      <td>77.614208</td>\n",
       "      <td>0.46767</td>\n",
       "    </tr>\n",
       "    <tr>\n",
       "      <th>min</th>\n",
       "      <td>0.00000</td>\n",
       "      <td>14.000000</td>\n",
       "      <td>113.000000</td>\n",
       "      <td>25100.000000</td>\n",
       "      <td>23.000000</td>\n",
       "      <td>0.000000</td>\n",
       "      <td>0.000000</td>\n",
       "      <td>0.50000</td>\n",
       "      <td>0.000000</td>\n",
       "      <td>0.000000</td>\n",
       "      <td>40.000000</td>\n",
       "      <td>0.000000</td>\n",
       "      <td>4.000000</td>\n",
       "      <td>0.00000</td>\n",
       "    </tr>\n",
       "    <tr>\n",
       "      <th>25%</th>\n",
       "      <td>0.00000</td>\n",
       "      <td>30.000000</td>\n",
       "      <td>134.000000</td>\n",
       "      <td>212500.000000</td>\n",
       "      <td>116.500000</td>\n",
       "      <td>74.500000</td>\n",
       "      <td>0.000000</td>\n",
       "      <td>0.90000</td>\n",
       "      <td>0.000000</td>\n",
       "      <td>0.000000</td>\n",
       "      <td>51.000000</td>\n",
       "      <td>0.000000</td>\n",
       "      <td>73.000000</td>\n",
       "      <td>0.00000</td>\n",
       "    </tr>\n",
       "    <tr>\n",
       "      <th>50%</th>\n",
       "      <td>0.00000</td>\n",
       "      <td>38.000000</td>\n",
       "      <td>137.000000</td>\n",
       "      <td>262000.000000</td>\n",
       "      <td>250.000000</td>\n",
       "      <td>149.000000</td>\n",
       "      <td>0.000000</td>\n",
       "      <td>1.10000</td>\n",
       "      <td>0.000000</td>\n",
       "      <td>0.000000</td>\n",
       "      <td>60.000000</td>\n",
       "      <td>1.000000</td>\n",
       "      <td>115.000000</td>\n",
       "      <td>0.00000</td>\n",
       "    </tr>\n",
       "    <tr>\n",
       "      <th>75%</th>\n",
       "      <td>1.00000</td>\n",
       "      <td>45.000000</td>\n",
       "      <td>140.000000</td>\n",
       "      <td>303500.000000</td>\n",
       "      <td>582.000000</td>\n",
       "      <td>223.500000</td>\n",
       "      <td>1.000000</td>\n",
       "      <td>1.40000</td>\n",
       "      <td>1.000000</td>\n",
       "      <td>1.000000</td>\n",
       "      <td>70.000000</td>\n",
       "      <td>1.000000</td>\n",
       "      <td>203.000000</td>\n",
       "      <td>1.00000</td>\n",
       "    </tr>\n",
       "    <tr>\n",
       "      <th>max</th>\n",
       "      <td>1.00000</td>\n",
       "      <td>80.000000</td>\n",
       "      <td>148.000000</td>\n",
       "      <td>850000.000000</td>\n",
       "      <td>7861.000000</td>\n",
       "      <td>298.000000</td>\n",
       "      <td>1.000000</td>\n",
       "      <td>9.40000</td>\n",
       "      <td>1.000000</td>\n",
       "      <td>1.000000</td>\n",
       "      <td>95.000000</td>\n",
       "      <td>1.000000</td>\n",
       "      <td>285.000000</td>\n",
       "      <td>1.00000</td>\n",
       "    </tr>\n",
       "  </tbody>\n",
       "</table>\n",
       "</div>"
      ],
      "text/plain": [
       "         smoking  ejection_fraction  serum_sodium      platelets  \\\n",
       "count  299.00000         299.000000    299.000000     299.000000   \n",
       "mean     0.32107          38.083612    136.625418  263358.029264   \n",
       "std      0.46767          11.834841      4.412477   97804.236869   \n",
       "min      0.00000          14.000000    113.000000   25100.000000   \n",
       "25%      0.00000          30.000000    134.000000  212500.000000   \n",
       "50%      0.00000          38.000000    137.000000  262000.000000   \n",
       "75%      1.00000          45.000000    140.000000  303500.000000   \n",
       "max      1.00000          80.000000    148.000000  850000.000000   \n",
       "\n",
       "       creatinine_phosphokinase    uniqueID    diabetes  serum_creatinine  \\\n",
       "count                299.000000  299.000000  299.000000         299.00000   \n",
       "mean                 581.839465  149.000000    0.418060           1.39388   \n",
       "std                  970.287881   86.458082    0.494067           1.03451   \n",
       "min                   23.000000    0.000000    0.000000           0.50000   \n",
       "25%                  116.500000   74.500000    0.000000           0.90000   \n",
       "50%                  250.000000  149.000000    0.000000           1.10000   \n",
       "75%                  582.000000  223.500000    1.000000           1.40000   \n",
       "max                 7861.000000  298.000000    1.000000           9.40000   \n",
       "\n",
       "          anaemia  high_blood_pressure         age         sex        time  \\\n",
       "count  299.000000           299.000000  299.000000  299.000000  299.000000   \n",
       "mean     0.431438             0.351171   60.833893    0.648829  130.260870   \n",
       "std      0.496107             0.478136   11.894809    0.478136   77.614208   \n",
       "min      0.000000             0.000000   40.000000    0.000000    4.000000   \n",
       "25%      0.000000             0.000000   51.000000    0.000000   73.000000   \n",
       "50%      0.000000             0.000000   60.000000    1.000000  115.000000   \n",
       "75%      1.000000             1.000000   70.000000    1.000000  203.000000   \n",
       "max      1.000000             1.000000   95.000000    1.000000  285.000000   \n",
       "\n",
       "       DEATH_EVENT  \n",
       "count    299.00000  \n",
       "mean       0.32107  \n",
       "std        0.46767  \n",
       "min        0.00000  \n",
       "25%        0.00000  \n",
       "50%        0.00000  \n",
       "75%        1.00000  \n",
       "max        1.00000  "
      ]
     },
     "execution_count": 108,
     "metadata": {},
     "output_type": "execute_result"
    }
   ],
   "source": [
    "df.describe()"
   ]
  },
  {
   "cell_type": "markdown",
   "id": "af67c1f2-ae25-4607-ad9e-d7b713a113be",
   "metadata": {},
   "source": [
    "# Summary of assessment\n",
    "<br>**Duplicated**: No duplicated values.\n",
    "<br>**Shape**: 299 observations, 14 columns.\n",
    "<br>**Columns**: 1) Inconsistent capitalization among variable names, 2) The uniqueID column from the blood_metrics_df (originially unqiueID) had to be renamed to merge the all dataframes.\n",
    "<br>**Info**: Incorrect Dtype for various variables.\n",
    "<br>**Head/tail**: Only 1 out of 10 platelet observations has a decimal, float64 Dtype perhaps not necessary."
   ]
  },
  {
   "cell_type": "markdown",
   "id": "56302a15-f0b6-4e92-a43c-50ca25a319fd",
   "metadata": {},
   "source": [
    "# Summary Statistics analysis\n",
    "## All percentages are approximations.\n",
    "- The normal range for _ejection_fraction_ is between 55-70%. Considering that this dataset concerns heart failure 80% seems realistic, 20% is generally considered the viable minimum (in other words, the **min** could not have been measured because this person would have to dead) and less than 40% indicates heart failure, which is 50% of all observations. Considering that 33% died during follow-up and there is no data on medical treatments that may or may not have occured, the outliers are unlikely to be more than 25% of all observations.\n",
    "- **min** for _platelets_ is too low, might require an additional 0.\n",
    "- **max** for _creatinine_phospokinase_ is too high.\n",
    "- **max** for _serum_creatinine_ is too high."
   ]
  },
  {
   "cell_type": "markdown",
   "id": "2d626692-bb41-42c5-a6d8-def9a258acf4",
   "metadata": {},
   "source": [
    "# 3 Cleaning\n",
    "## Tidiness issues\n",
    "- √ Merged all three dataframes on 'uniqueID'.\n",
    "## Quality issues\n",
    "- √ Inconsistent capitalization in variable names (uniqueID>uniqueid, DEATH_EVENT>death_event).\n",
    "- √ Change Dtype of _smoking_, _diabetes_, _anaemia_, _high_blood_pressure_, and _death_event_ from Int64 to Boolean.\n",
    "- √ Change Dtype and value of _sex_ from Int64 and 1/0 to Object and Male/Female.\n",
    "- √ Reorder columns for a more logical flow."
   ]
  },
  {
   "cell_type": "markdown",
   "id": "3b2490f9-f9f4-4236-bc2e-c99b0c663a46",
   "metadata": {},
   "source": [
    "# Test\n",
    "These cells can be used for testing after running any given cell in the **Code** paragraph.\n"
   ]
  },
  {
   "cell_type": "code",
   "execution_count": 109,
   "id": "ceef4627-c567-474a-a74a-304b05d166a9",
   "metadata": {
    "collapsed": false,
    "executionTime": 113,
    "jupyter": {
     "outputs_hidden": false,
     "source_hidden": false
    },
    "lastSuccessfullyExecutedCode": "df.head()"
   },
   "outputs": [
    {
     "data": {
      "application/com.datacamp.data-table.v1+json": {
       "table": {
        "data": [
         {
          "DEATH_EVENT": 1,
          "age": 75,
          "anaemia": 0,
          "creatinine_phosphokinase": 582,
          "diabetes": 0,
          "ejection_fraction": 20,
          "high_blood_pressure": 1,
          "index": 0,
          "platelets": 265000,
          "serum_creatinine": 1.9,
          "serum_sodium": 130,
          "sex": 1,
          "smoking": 0,
          "time": 4,
          "uniqueID": 0
         },
         {
          "DEATH_EVENT": 1,
          "age": 55,
          "anaemia": 0,
          "creatinine_phosphokinase": 7861,
          "diabetes": 0,
          "ejection_fraction": 38,
          "high_blood_pressure": 0,
          "index": 1,
          "platelets": 263358.03,
          "serum_creatinine": 1.1,
          "serum_sodium": 136,
          "sex": 1,
          "smoking": 0,
          "time": 6,
          "uniqueID": 1
         },
         {
          "DEATH_EVENT": 1,
          "age": 65,
          "anaemia": 0,
          "creatinine_phosphokinase": 146,
          "diabetes": 0,
          "ejection_fraction": 20,
          "high_blood_pressure": 0,
          "index": 2,
          "platelets": 162000,
          "serum_creatinine": 1.3,
          "serum_sodium": 129,
          "sex": 1,
          "smoking": 1,
          "time": 7,
          "uniqueID": 2
         },
         {
          "DEATH_EVENT": 1,
          "age": 50,
          "anaemia": 1,
          "creatinine_phosphokinase": 111,
          "diabetes": 0,
          "ejection_fraction": 20,
          "high_blood_pressure": 0,
          "index": 3,
          "platelets": 210000,
          "serum_creatinine": 1.9,
          "serum_sodium": 137,
          "sex": 1,
          "smoking": 0,
          "time": 7,
          "uniqueID": 3
         },
         {
          "DEATH_EVENT": 1,
          "age": 65,
          "anaemia": 1,
          "creatinine_phosphokinase": 160,
          "diabetes": 1,
          "ejection_fraction": 20,
          "high_blood_pressure": 0,
          "index": 4,
          "platelets": 327000,
          "serum_creatinine": 2.7,
          "serum_sodium": 116,
          "sex": 0,
          "smoking": 0,
          "time": 8,
          "uniqueID": 4
         }
        ],
        "schema": {
         "fields": [
          {
           "name": "index",
           "type": "integer"
          },
          {
           "name": "smoking",
           "type": "integer"
          },
          {
           "name": "ejection_fraction",
           "type": "integer"
          },
          {
           "name": "serum_sodium",
           "type": "integer"
          },
          {
           "name": "platelets",
           "type": "number"
          },
          {
           "name": "creatinine_phosphokinase",
           "type": "integer"
          },
          {
           "name": "uniqueID",
           "type": "integer"
          },
          {
           "name": "diabetes",
           "type": "integer"
          },
          {
           "name": "serum_creatinine",
           "type": "number"
          },
          {
           "name": "anaemia",
           "type": "integer"
          },
          {
           "name": "high_blood_pressure",
           "type": "integer"
          },
          {
           "name": "age",
           "type": "number"
          },
          {
           "name": "sex",
           "type": "integer"
          },
          {
           "name": "time",
           "type": "integer"
          },
          {
           "name": "DEATH_EVENT",
           "type": "integer"
          }
         ],
         "pandas_version": "1.4.0",
         "primaryKey": [
          "index"
         ]
        }
       },
       "total_rows": 5,
       "truncation_type": null
      },
      "text/html": [
       "<div>\n",
       "<style scoped>\n",
       "    .dataframe tbody tr th:only-of-type {\n",
       "        vertical-align: middle;\n",
       "    }\n",
       "\n",
       "    .dataframe tbody tr th {\n",
       "        vertical-align: top;\n",
       "    }\n",
       "\n",
       "    .dataframe thead th {\n",
       "        text-align: right;\n",
       "    }\n",
       "</style>\n",
       "<table border=\"1\" class=\"dataframe\">\n",
       "  <thead>\n",
       "    <tr style=\"text-align: right;\">\n",
       "      <th></th>\n",
       "      <th>smoking</th>\n",
       "      <th>ejection_fraction</th>\n",
       "      <th>serum_sodium</th>\n",
       "      <th>platelets</th>\n",
       "      <th>creatinine_phosphokinase</th>\n",
       "      <th>uniqueID</th>\n",
       "      <th>diabetes</th>\n",
       "      <th>serum_creatinine</th>\n",
       "      <th>anaemia</th>\n",
       "      <th>high_blood_pressure</th>\n",
       "      <th>age</th>\n",
       "      <th>sex</th>\n",
       "      <th>time</th>\n",
       "      <th>DEATH_EVENT</th>\n",
       "    </tr>\n",
       "  </thead>\n",
       "  <tbody>\n",
       "    <tr>\n",
       "      <th>0</th>\n",
       "      <td>0</td>\n",
       "      <td>20</td>\n",
       "      <td>130</td>\n",
       "      <td>265000.00</td>\n",
       "      <td>582</td>\n",
       "      <td>0</td>\n",
       "      <td>0</td>\n",
       "      <td>1.9</td>\n",
       "      <td>0</td>\n",
       "      <td>1</td>\n",
       "      <td>75.0</td>\n",
       "      <td>1</td>\n",
       "      <td>4</td>\n",
       "      <td>1</td>\n",
       "    </tr>\n",
       "    <tr>\n",
       "      <th>1</th>\n",
       "      <td>0</td>\n",
       "      <td>38</td>\n",
       "      <td>136</td>\n",
       "      <td>263358.03</td>\n",
       "      <td>7861</td>\n",
       "      <td>1</td>\n",
       "      <td>0</td>\n",
       "      <td>1.1</td>\n",
       "      <td>0</td>\n",
       "      <td>0</td>\n",
       "      <td>55.0</td>\n",
       "      <td>1</td>\n",
       "      <td>6</td>\n",
       "      <td>1</td>\n",
       "    </tr>\n",
       "    <tr>\n",
       "      <th>2</th>\n",
       "      <td>1</td>\n",
       "      <td>20</td>\n",
       "      <td>129</td>\n",
       "      <td>162000.00</td>\n",
       "      <td>146</td>\n",
       "      <td>2</td>\n",
       "      <td>0</td>\n",
       "      <td>1.3</td>\n",
       "      <td>0</td>\n",
       "      <td>0</td>\n",
       "      <td>65.0</td>\n",
       "      <td>1</td>\n",
       "      <td>7</td>\n",
       "      <td>1</td>\n",
       "    </tr>\n",
       "    <tr>\n",
       "      <th>3</th>\n",
       "      <td>0</td>\n",
       "      <td>20</td>\n",
       "      <td>137</td>\n",
       "      <td>210000.00</td>\n",
       "      <td>111</td>\n",
       "      <td>3</td>\n",
       "      <td>0</td>\n",
       "      <td>1.9</td>\n",
       "      <td>1</td>\n",
       "      <td>0</td>\n",
       "      <td>50.0</td>\n",
       "      <td>1</td>\n",
       "      <td>7</td>\n",
       "      <td>1</td>\n",
       "    </tr>\n",
       "    <tr>\n",
       "      <th>4</th>\n",
       "      <td>0</td>\n",
       "      <td>20</td>\n",
       "      <td>116</td>\n",
       "      <td>327000.00</td>\n",
       "      <td>160</td>\n",
       "      <td>4</td>\n",
       "      <td>1</td>\n",
       "      <td>2.7</td>\n",
       "      <td>1</td>\n",
       "      <td>0</td>\n",
       "      <td>65.0</td>\n",
       "      <td>0</td>\n",
       "      <td>8</td>\n",
       "      <td>1</td>\n",
       "    </tr>\n",
       "  </tbody>\n",
       "</table>\n",
       "</div>"
      ],
      "text/plain": [
       "   smoking  ejection_fraction  serum_sodium  platelets  \\\n",
       "0        0                 20           130  265000.00   \n",
       "1        0                 38           136  263358.03   \n",
       "2        1                 20           129  162000.00   \n",
       "3        0                 20           137  210000.00   \n",
       "4        0                 20           116  327000.00   \n",
       "\n",
       "   creatinine_phosphokinase  uniqueID  diabetes  serum_creatinine  anaemia  \\\n",
       "0                       582         0         0               1.9        0   \n",
       "1                      7861         1         0               1.1        0   \n",
       "2                       146         2         0               1.3        0   \n",
       "3                       111         3         0               1.9        1   \n",
       "4                       160         4         1               2.7        1   \n",
       "\n",
       "   high_blood_pressure   age  sex  time  DEATH_EVENT  \n",
       "0                    1  75.0    1     4            1  \n",
       "1                    0  55.0    1     6            1  \n",
       "2                    0  65.0    1     7            1  \n",
       "3                    0  50.0    1     7            1  \n",
       "4                    0  65.0    0     8            1  "
      ]
     },
     "execution_count": 109,
     "metadata": {},
     "output_type": "execute_result"
    }
   ],
   "source": [
    "df.head()"
   ]
  },
  {
   "cell_type": "code",
   "execution_count": 110,
   "id": "6c2f6469-55de-45f4-8396-83265344fa4a",
   "metadata": {
    "executionTime": 108,
    "lastSuccessfullyExecutedCode": "df.info()"
   },
   "outputs": [
    {
     "name": "stdout",
     "output_type": "stream",
     "text": [
      "<class 'pandas.core.frame.DataFrame'>\n",
      "Int64Index: 299 entries, 0 to 298\n",
      "Data columns (total 14 columns):\n",
      " #   Column                    Non-Null Count  Dtype  \n",
      "---  ------                    --------------  -----  \n",
      " 0   smoking                   299 non-null    int64  \n",
      " 1   ejection_fraction         299 non-null    int64  \n",
      " 2   serum_sodium              299 non-null    int64  \n",
      " 3   platelets                 299 non-null    float64\n",
      " 4   creatinine_phosphokinase  299 non-null    int64  \n",
      " 5   uniqueID                  299 non-null    int64  \n",
      " 6   diabetes                  299 non-null    int64  \n",
      " 7   serum_creatinine          299 non-null    float64\n",
      " 8   anaemia                   299 non-null    int64  \n",
      " 9   high_blood_pressure       299 non-null    int64  \n",
      " 10  age                       299 non-null    float64\n",
      " 11  sex                       299 non-null    int64  \n",
      " 12  time                      299 non-null    int64  \n",
      " 13  DEATH_EVENT               299 non-null    int64  \n",
      "dtypes: float64(3), int64(11)\n",
      "memory usage: 35.0 KB\n"
     ]
    }
   ],
   "source": [
    "df.info()"
   ]
  },
  {
   "cell_type": "markdown",
   "id": "1b0e48ab-b0e9-4a74-8b53-2773e6f44470",
   "metadata": {},
   "source": [
    "# Code"
   ]
  },
  {
   "cell_type": "code",
   "execution_count": 111,
   "id": "145f5ae6-34ee-48b9-ae88-18ee88dd5653",
   "metadata": {
    "executionTime": 95,
    "lastSuccessfullyExecutedCode": "# Remove inconsistent capitalization\ndf.columns = df.columns.str.lower()\nprint(\"Capitalization conversion completed.\")"
   },
   "outputs": [
    {
     "name": "stdout",
     "output_type": "stream",
     "text": [
      "Capitalization conversion completed.\n"
     ]
    }
   ],
   "source": [
    "# Remove inconsistent capitalization\n",
    "df.columns = df.columns.str.lower()\n",
    "print(\"Capitalization conversion completed.\")"
   ]
  },
  {
   "cell_type": "code",
   "execution_count": 112,
   "id": "aaa078b1-75da-40d0-a24b-b7309a409855",
   "metadata": {
    "executionTime": 110,
    "lastSuccessfullyExecutedCode": "# Change Dtype from Int64 to Boolean\ndf[['smoking', 'diabetes', 'anaemia', 'high_blood_pressure', 'death_event']] = df[['smoking', 'diabetes', 'anaemia', 'high_blood_pressure', 'death_event']].astype(bool)\nprint(\"Dtype conversion completed.\")"
   },
   "outputs": [
    {
     "name": "stdout",
     "output_type": "stream",
     "text": [
      "Dtype conversion completed.\n"
     ]
    }
   ],
   "source": [
    "# Change Dtype from Int64 to Boolean\n",
    "df[['smoking', 'diabetes', 'anaemia', 'high_blood_pressure', 'death_event']] = df[['smoking', 'diabetes', 'anaemia', 'high_blood_pressure', 'death_event']].astype(bool)\n",
    "print(\"Dtype conversion completed.\")"
   ]
  },
  {
   "cell_type": "code",
   "execution_count": 113,
   "id": "30e95e4d-5ff1-460d-8792-80841b4b9111",
   "metadata": {
    "executionTime": 96,
    "lastSuccessfullyExecutedCode": "# Alterations to sex column\ndf['sex'] = df['sex'].replace([1, 0], ['Male', 'Female'])\nprint(\"Sex column alterations completed.\")"
   },
   "outputs": [
    {
     "name": "stdout",
     "output_type": "stream",
     "text": [
      "Sex column alterations completed.\n"
     ]
    }
   ],
   "source": [
    "# Alterations to sex column\n",
    "df['sex'] = df['sex'].replace([1, 0], ['Male', 'Female'])\n",
    "print(\"Sex column alterations completed.\")"
   ]
  },
  {
   "cell_type": "code",
   "execution_count": 114,
   "id": "99dca81d-c27b-49a9-8c16-d586df97fd0b",
   "metadata": {
    "executionTime": 93,
    "lastSuccessfullyExecutedCode": "# Reorder columns\ndf = df[['uniqueid', 'sex', 'age', 'smoking', 'diabetes', 'anaemia', 'high_blood_pressure', 'ejection_fraction', 'platelets', 'serum_sodium', 'serum_creatinine', 'creatinine_phosphokinase', 'time', 'death_event']]\nprint(\"Columns successfully reordered.\")"
   },
   "outputs": [
    {
     "name": "stdout",
     "output_type": "stream",
     "text": [
      "Columns successfully reordered.\n"
     ]
    }
   ],
   "source": [
    "# Reorder columns\n",
    "df = df[['uniqueid', 'sex', 'age', 'smoking', 'diabetes', 'anaemia', 'high_blood_pressure', 'ejection_fraction', 'platelets', 'serum_sodium', 'serum_creatinine', 'creatinine_phosphokinase', 'time', 'death_event']]\n",
    "print(\"Columns successfully reordered.\")"
   ]
  },
  {
   "cell_type": "markdown",
   "id": "f9b9189b-4543-455e-b334-3d00364b6e33",
   "metadata": {},
   "source": [
    "# 4 Distribution analysis\n",
    "- Look into outliers in _platelets_, _creatinine_phosphokinase_, and _serum_creatinine_.\n",
    "- Investigate data distribution in _ejection_fraction_."
   ]
  },
  {
   "cell_type": "code",
   "execution_count": 115,
   "id": "1092d9d5-195b-4748-99ca-c267d9cc192b",
   "metadata": {
    "executionTime": 106,
    "lastSuccessfullyExecutedCode": "df.describe()"
   },
   "outputs": [
    {
     "data": {
      "application/com.datacamp.data-table.v1+json": {
       "table": {
        "data": [
         {
          "age": 299,
          "creatinine_phosphokinase": 299,
          "ejection_fraction": 299,
          "index": "count",
          "platelets": 299,
          "serum_creatinine": 299,
          "serum_sodium": 299,
          "time": 299,
          "uniqueid": 299
         },
         {
          "age": 60.8338929766,
          "creatinine_phosphokinase": 581.8394648829,
          "ejection_fraction": 38.0836120401,
          "index": "mean",
          "platelets": 263358.029264214,
          "serum_creatinine": 1.3938795987,
          "serum_sodium": 136.6254180602,
          "time": 130.2608695652,
          "uniqueid": 149
         },
         {
          "age": 11.894809074,
          "creatinine_phosphokinase": 970.2878807124,
          "ejection_fraction": 11.834840741,
          "index": "std",
          "platelets": 97804.2368685983,
          "serum_creatinine": 1.0345100641,
          "serum_sodium": 4.4124772839,
          "time": 77.6142079503,
          "uniqueid": 86.458082329
         },
         {
          "age": 40,
          "creatinine_phosphokinase": 23,
          "ejection_fraction": 14,
          "index": "min",
          "platelets": 25100,
          "serum_creatinine": 0.5,
          "serum_sodium": 113,
          "time": 4,
          "uniqueid": 0
         },
         {
          "age": 51,
          "creatinine_phosphokinase": 116.5,
          "ejection_fraction": 30,
          "index": "25%",
          "platelets": 212500,
          "serum_creatinine": 0.9,
          "serum_sodium": 134,
          "time": 73,
          "uniqueid": 74.5
         },
         {
          "age": 60,
          "creatinine_phosphokinase": 250,
          "ejection_fraction": 38,
          "index": "50%",
          "platelets": 262000,
          "serum_creatinine": 1.1,
          "serum_sodium": 137,
          "time": 115,
          "uniqueid": 149
         },
         {
          "age": 70,
          "creatinine_phosphokinase": 582,
          "ejection_fraction": 45,
          "index": "75%",
          "platelets": 303500,
          "serum_creatinine": 1.4,
          "serum_sodium": 140,
          "time": 203,
          "uniqueid": 223.5
         },
         {
          "age": 95,
          "creatinine_phosphokinase": 7861,
          "ejection_fraction": 80,
          "index": "max",
          "platelets": 850000,
          "serum_creatinine": 9.4,
          "serum_sodium": 148,
          "time": 285,
          "uniqueid": 298
         }
        ],
        "schema": {
         "fields": [
          {
           "name": "index",
           "type": "string"
          },
          {
           "name": "uniqueid",
           "type": "number"
          },
          {
           "name": "age",
           "type": "number"
          },
          {
           "name": "ejection_fraction",
           "type": "number"
          },
          {
           "name": "platelets",
           "type": "number"
          },
          {
           "name": "serum_sodium",
           "type": "number"
          },
          {
           "name": "serum_creatinine",
           "type": "number"
          },
          {
           "name": "creatinine_phosphokinase",
           "type": "number"
          },
          {
           "name": "time",
           "type": "number"
          }
         ],
         "pandas_version": "1.4.0",
         "primaryKey": [
          "index"
         ]
        }
       },
       "total_rows": 8,
       "truncation_type": null
      },
      "text/html": [
       "<div>\n",
       "<style scoped>\n",
       "    .dataframe tbody tr th:only-of-type {\n",
       "        vertical-align: middle;\n",
       "    }\n",
       "\n",
       "    .dataframe tbody tr th {\n",
       "        vertical-align: top;\n",
       "    }\n",
       "\n",
       "    .dataframe thead th {\n",
       "        text-align: right;\n",
       "    }\n",
       "</style>\n",
       "<table border=\"1\" class=\"dataframe\">\n",
       "  <thead>\n",
       "    <tr style=\"text-align: right;\">\n",
       "      <th></th>\n",
       "      <th>uniqueid</th>\n",
       "      <th>age</th>\n",
       "      <th>ejection_fraction</th>\n",
       "      <th>platelets</th>\n",
       "      <th>serum_sodium</th>\n",
       "      <th>serum_creatinine</th>\n",
       "      <th>creatinine_phosphokinase</th>\n",
       "      <th>time</th>\n",
       "    </tr>\n",
       "  </thead>\n",
       "  <tbody>\n",
       "    <tr>\n",
       "      <th>count</th>\n",
       "      <td>299.000000</td>\n",
       "      <td>299.000000</td>\n",
       "      <td>299.000000</td>\n",
       "      <td>299.000000</td>\n",
       "      <td>299.000000</td>\n",
       "      <td>299.00000</td>\n",
       "      <td>299.000000</td>\n",
       "      <td>299.000000</td>\n",
       "    </tr>\n",
       "    <tr>\n",
       "      <th>mean</th>\n",
       "      <td>149.000000</td>\n",
       "      <td>60.833893</td>\n",
       "      <td>38.083612</td>\n",
       "      <td>263358.029264</td>\n",
       "      <td>136.625418</td>\n",
       "      <td>1.39388</td>\n",
       "      <td>581.839465</td>\n",
       "      <td>130.260870</td>\n",
       "    </tr>\n",
       "    <tr>\n",
       "      <th>std</th>\n",
       "      <td>86.458082</td>\n",
       "      <td>11.894809</td>\n",
       "      <td>11.834841</td>\n",
       "      <td>97804.236869</td>\n",
       "      <td>4.412477</td>\n",
       "      <td>1.03451</td>\n",
       "      <td>970.287881</td>\n",
       "      <td>77.614208</td>\n",
       "    </tr>\n",
       "    <tr>\n",
       "      <th>min</th>\n",
       "      <td>0.000000</td>\n",
       "      <td>40.000000</td>\n",
       "      <td>14.000000</td>\n",
       "      <td>25100.000000</td>\n",
       "      <td>113.000000</td>\n",
       "      <td>0.50000</td>\n",
       "      <td>23.000000</td>\n",
       "      <td>4.000000</td>\n",
       "    </tr>\n",
       "    <tr>\n",
       "      <th>25%</th>\n",
       "      <td>74.500000</td>\n",
       "      <td>51.000000</td>\n",
       "      <td>30.000000</td>\n",
       "      <td>212500.000000</td>\n",
       "      <td>134.000000</td>\n",
       "      <td>0.90000</td>\n",
       "      <td>116.500000</td>\n",
       "      <td>73.000000</td>\n",
       "    </tr>\n",
       "    <tr>\n",
       "      <th>50%</th>\n",
       "      <td>149.000000</td>\n",
       "      <td>60.000000</td>\n",
       "      <td>38.000000</td>\n",
       "      <td>262000.000000</td>\n",
       "      <td>137.000000</td>\n",
       "      <td>1.10000</td>\n",
       "      <td>250.000000</td>\n",
       "      <td>115.000000</td>\n",
       "    </tr>\n",
       "    <tr>\n",
       "      <th>75%</th>\n",
       "      <td>223.500000</td>\n",
       "      <td>70.000000</td>\n",
       "      <td>45.000000</td>\n",
       "      <td>303500.000000</td>\n",
       "      <td>140.000000</td>\n",
       "      <td>1.40000</td>\n",
       "      <td>582.000000</td>\n",
       "      <td>203.000000</td>\n",
       "    </tr>\n",
       "    <tr>\n",
       "      <th>max</th>\n",
       "      <td>298.000000</td>\n",
       "      <td>95.000000</td>\n",
       "      <td>80.000000</td>\n",
       "      <td>850000.000000</td>\n",
       "      <td>148.000000</td>\n",
       "      <td>9.40000</td>\n",
       "      <td>7861.000000</td>\n",
       "      <td>285.000000</td>\n",
       "    </tr>\n",
       "  </tbody>\n",
       "</table>\n",
       "</div>"
      ],
      "text/plain": [
       "         uniqueid         age  ejection_fraction      platelets  serum_sodium  \\\n",
       "count  299.000000  299.000000         299.000000     299.000000    299.000000   \n",
       "mean   149.000000   60.833893          38.083612  263358.029264    136.625418   \n",
       "std     86.458082   11.894809          11.834841   97804.236869      4.412477   \n",
       "min      0.000000   40.000000          14.000000   25100.000000    113.000000   \n",
       "25%     74.500000   51.000000          30.000000  212500.000000    134.000000   \n",
       "50%    149.000000   60.000000          38.000000  262000.000000    137.000000   \n",
       "75%    223.500000   70.000000          45.000000  303500.000000    140.000000   \n",
       "max    298.000000   95.000000          80.000000  850000.000000    148.000000   \n",
       "\n",
       "       serum_creatinine  creatinine_phosphokinase        time  \n",
       "count         299.00000                299.000000  299.000000  \n",
       "mean            1.39388                581.839465  130.260870  \n",
       "std             1.03451                970.287881   77.614208  \n",
       "min             0.50000                 23.000000    4.000000  \n",
       "25%             0.90000                116.500000   73.000000  \n",
       "50%             1.10000                250.000000  115.000000  \n",
       "75%             1.40000                582.000000  203.000000  \n",
       "max             9.40000               7861.000000  285.000000  "
      ]
     },
     "execution_count": 115,
     "metadata": {},
     "output_type": "execute_result"
    }
   ],
   "source": [
    "df.describe()"
   ]
  },
  {
   "cell_type": "code",
   "execution_count": 116,
   "id": "57c062cc-9286-4459-9904-70ac8f7b6d7a",
   "metadata": {
    "executionTime": 245,
    "lastSuccessfullyExecutedCode": "# Extract Q1, Q3, and IQR values (p_ represents platelets)\np_Q1 = df['platelets'].describe()['25%']\np_Q3 = df['platelets'].describe()['75%']\np_IQR = p_Q3 - p_Q1\n\n# Define outlier threshold\np_outlier_threshold = (p_Q1 - 1.5*p_IQR, p_Q3 + 1.5*p_IQR)\n\n# Identify platelet outliers\np_outliers = df[(df['platelets'] < p_outlier_threshold[0]) | (df['platelets'] > p_outlier_threshold[1])]\np_outliers = p_outliers.sort_values('platelets')\nprint(p_outliers)\np_outliers.shape"
   },
   "outputs": [
    {
     "name": "stdout",
     "output_type": "stream",
     "text": [
      "     uniqueid     sex   age  smoking  diabetes  anaemia  high_blood_pressure  \\\n",
      "277       277    Male  70.0    False      True    False                False   \n",
      "15         15    Male  82.0    False     False     True                False   \n",
      "281       281    Male  70.0     True     False    False                False   \n",
      "230       230  Female  60.0    False     False    False                False   \n",
      "167       167    Male  59.0    False      True    False                False   \n",
      "200       200    Male  63.0    False     False     True                False   \n",
      "163       163  Female  50.0    False      True     True                False   \n",
      "162       162    Male  63.0     True     False     True                False   \n",
      "47         47    Male  60.0     True      True    False                 True   \n",
      "279       279  Female  55.0    False      True    False                False   \n",
      "7           7    Male  60.0     True      True     True                False   \n",
      "55         55    Male  95.0    False     False     True                False   \n",
      "212       212    Male  78.0     True     False    False                False   \n",
      "69         69    Male  65.0    False      True    False                False   \n",
      "224       224    Male  58.0    False      True    False                False   \n",
      "117       117  Female  85.0    False     False     True                False   \n",
      "240       240  Female  70.0    False      True    False                 True   \n",
      "287       287  Female  45.0    False      True    False                False   \n",
      "105       105  Female  72.0     True     False     True                 True   \n",
      "296       296  Female  45.0    False      True    False                False   \n",
      "109       109    Male  45.0     True      True    False                False   \n",
      "\n",
      "     ejection_fraction  platelets  serum_sodium  serum_creatinine  \\\n",
      "277                 38    25100.0           140              1.10   \n",
      "15                  50    47000.0           136              1.30   \n",
      "281                 40    51000.0           136              2.70   \n",
      "230                 30    62000.0           127              1.70   \n",
      "167                 20    70000.0           134              2.40   \n",
      "200                 45    73000.0           137              0.70   \n",
      "163                 35    75000.0           142              0.90   \n",
      "162                 40   448000.0           137              0.90   \n",
      "47                  38   451000.0           138              0.60   \n",
      "279                 38   451000.0           136              1.30   \n",
      "7                   60   454000.0           131              1.10   \n",
      "55                  30   461000.0           132              2.00   \n",
      "212                 50   481000.0           138              1.40   \n",
      "69                  25   497000.0           135              1.83   \n",
      "224                 25   504000.0           138              1.00   \n",
      "117                 60   507000.0           138              3.20   \n",
      "240                 35   533000.0           139              1.30   \n",
      "287                 55   543000.0           132              1.00   \n",
      "105                 30   621000.0           138              1.70   \n",
      "296                 60   742000.0           138              0.80   \n",
      "109                 35   850000.0           142              1.30   \n",
      "\n",
      "     creatinine_phosphokinase  time  death_event  \n",
      "277                       582   246        False  \n",
      "15                        379    13         True  \n",
      "281                       582   250        False  \n",
      "230                       166   207         True  \n",
      "167                        66   135         True  \n",
      "200                      1767   186        False  \n",
      "163                      2334   126         True  \n",
      "162                       582   123        False  \n",
      "47                        582    40         True  \n",
      "279                        84   246        False  \n",
      "7                         315    10         True  \n",
      "55                        371    50         True  \n",
      "212                       224   192        False  \n",
      "69                        113    67         True  \n",
      "224                       582   205        False  \n",
      "117                       102    94        False  \n",
      "240                        81   212        False  \n",
      "287                       582   250        False  \n",
      "105                       328    88         True  \n",
      "296                      2060   278        False  \n",
      "109                       292    88        False  \n"
     ]
    },
    {
     "data": {
      "text/plain": [
       "(21, 14)"
      ]
     },
     "execution_count": 116,
     "metadata": {},
     "output_type": "execute_result"
    }
   ],
   "source": [
    "# Extract Q1, Q3, and IQR values (p_ represents platelets)\n",
    "p_Q1 = df['platelets'].describe()['25%']\n",
    "p_Q3 = df['platelets'].describe()['75%']\n",
    "p_IQR = p_Q3 - p_Q1\n",
    "\n",
    "# Define outlier threshold\n",
    "p_outlier_threshold = (p_Q1 - 1.5*p_IQR, p_Q3 + 1.5*p_IQR)\n",
    "\n",
    "# Identify platelet outliers\n",
    "p_outliers = df[(df['platelets'] < p_outlier_threshold[0]) | (df['platelets'] > p_outlier_threshold[1])]\n",
    "p_outliers = p_outliers.sort_values('platelets')\n",
    "print(p_outliers)\n",
    "p_outliers.shape"
   ]
  },
  {
   "cell_type": "code",
   "execution_count": 117,
   "id": "b0d45e1e-cb90-4506-b7d7-0e1348ccd531",
   "metadata": {
    "executionTime": 108,
    "lastSuccessfullyExecutedCode": "# Extract Q1, Q3, and IQR values (c_ represents creatinine_phospokinase)\nc_Q1 = df['creatinine_phosphokinase'].describe()['25%']\nc_Q3 = df['creatinine_phosphokinase'].describe()['75%']\nc_IQR = c_Q3 - c_Q1\n\n# Define outlier threshold\nc_outlier_threshold = (c_Q1 - 1.5*c_IQR, c_Q3 + 1.5*c_IQR)\n\n# Identify creatinine_phospokinase outliers\nc_outliers = df[(df['creatinine_phosphokinase'] < c_outlier_threshold[0]) | (df['creatinine_phosphokinase'] > c_outlier_threshold[1])]\nc_outliers = c_outliers.sort_values('creatinine_phosphokinase')\nprint(c_outliers)\nc_outliers.shape"
   },
   "outputs": [
    {
     "name": "stdout",
     "output_type": "stream",
     "text": [
      "     uniqueid     sex   age  smoking  diabetes  anaemia  high_blood_pressure  \\\n",
      "46         46    Male  51.0    False     False    False                 True   \n",
      "176       176    Male  69.0     True     False    False                False   \n",
      "139       139    Male  50.0    False     False    False                 True   \n",
      "147       147    Male  64.0    False     False    False                False   \n",
      "283       283    Male  65.0     True     False    False                False   \n",
      "200       200    Male  63.0    False     False     True                False   \n",
      "130       130    Male  53.0     True     False     True                 True   \n",
      "295       295  Female  55.0    False     False    False                False   \n",
      "153       153    Male  50.0     True      True    False                False   \n",
      "107       107    Male  45.0    False      True     True                False   \n",
      "187       187  Female  60.0    False      True    False                False   \n",
      "246       246    Male  55.0    False     False    False                False   \n",
      "296       296  Female  45.0    False      True    False                False   \n",
      "149       149    Male  60.0    False     False    False                 True   \n",
      "208       208  Female  60.0    False      True     True                False   \n",
      "163       163  Female  50.0    False      True     True                False   \n",
      "297       297    Male  45.0     True     False    False                False   \n",
      "164       164    Male  45.0    False      True    False                False   \n",
      "250       250  Female  50.0    False     False    False                 True   \n",
      "38         38    Male  60.0    False      True    False                False   \n",
      "280       280    Male  70.0    False      True    False                False   \n",
      "227       227    Male  55.0    False     False     True                 True   \n",
      "52         52  Female  60.0    False      True    False                False   \n",
      "171       171    Male  52.0     True     False    False                False   \n",
      "134       134    Male  81.0     True     False    False                False   \n",
      "103       103    Male  42.0     True     False    False                False   \n",
      "72         72    Male  85.0     True     False    False                False   \n",
      "60         60    Male  45.0    False      True    False                 True   \n",
      "1           1    Male  55.0    False     False    False                False   \n",
      "\n",
      "     ejection_fraction  platelets  serum_sodium  serum_creatinine  \\\n",
      "46                  25  271000.00           130              0.90   \n",
      "176                 40  105000.00           135              1.00   \n",
      "139                 30  211000.00           138              0.80   \n",
      "147                 60  242000.00           137              1.00   \n",
      "283                 38  263358.03           138              1.10   \n",
      "200                 45   73000.00           137              0.70   \n",
      "130                 60  249000.00           138              0.70   \n",
      "295                 38  270000.00           139              1.20   \n",
      "153                 35  263358.03           137              1.18   \n",
      "107                 35  226000.00           138              0.90   \n",
      "187                 25  365000.00           144              2.10   \n",
      "246                 25  314000.00           138              1.10   \n",
      "296                 60  742000.00           138              0.80   \n",
      "149                 35  228000.00           136              0.90   \n",
      "208                 40  283000.00           141              1.00   \n",
      "163                 35   75000.00           142              0.90   \n",
      "297                 38  140000.00           140              1.40   \n",
      "164                 30  334000.00           139              1.10   \n",
      "250                 30  404000.00           139              0.50   \n",
      "38                  30  305000.00           137              2.30   \n",
      "280                 40  241000.00           137              1.00   \n",
      "227                 35  141000.00           140              1.00   \n",
      "52                  62  263358.03           146              6.80   \n",
      "171                 40  325000.00           140              0.90   \n",
      "134                 35  231000.00           137              1.18   \n",
      "103                 30  226000.00           140              1.00   \n",
      "72                  35  243000.00           132              1.00   \n",
      "60                  25  390000.00           139              1.00   \n",
      "1                   38  263358.03           136              1.10   \n",
      "\n",
      "     creatinine_phosphokinase  time  death_event  \n",
      "46                       1380    38         True  \n",
      "176                      1419   147        False  \n",
      "139                      1548   108        False  \n",
      "147                      1610   113        False  \n",
      "283                      1688   250        False  \n",
      "200                      1767   186        False  \n",
      "130                      1808   106        False  \n",
      "295                      1820   271        False  \n",
      "153                      1846   119        False  \n",
      "107                      1876    88        False  \n",
      "187                      1896   172         True  \n",
      "246                      2017   214         True  \n",
      "296                      2060   278        False  \n",
      "149                      2261   115        False  \n",
      "208                      2281   187        False  \n",
      "163                      2334   126         True  \n",
      "297                      2413   280        False  \n",
      "164                      2442   129         True  \n",
      "250                      2522   214        False  \n",
      "38                       2656    30        False  \n",
      "280                      2695   247        False  \n",
      "227                      2794   206        False  \n",
      "52                       3964    43         True  \n",
      "171                      3966   146        False  \n",
      "134                      4540   107        False  \n",
      "103                      5209    87        False  \n",
      "72                       5882    72         True  \n",
      "60                       7702    60         True  \n",
      "1                        7861     6         True  \n"
     ]
    },
    {
     "data": {
      "text/plain": [
       "(29, 14)"
      ]
     },
     "execution_count": 117,
     "metadata": {},
     "output_type": "execute_result"
    }
   ],
   "source": [
    "# Extract Q1, Q3, and IQR values (c_ represents creatinine_phospokinase)\n",
    "c_Q1 = df['creatinine_phosphokinase'].describe()['25%']\n",
    "c_Q3 = df['creatinine_phosphokinase'].describe()['75%']\n",
    "c_IQR = c_Q3 - c_Q1\n",
    "\n",
    "# Define outlier threshold\n",
    "c_outlier_threshold = (c_Q1 - 1.5*c_IQR, c_Q3 + 1.5*c_IQR)\n",
    "\n",
    "# Identify creatinine_phospokinase outliers\n",
    "c_outliers = df[(df['creatinine_phosphokinase'] < c_outlier_threshold[0]) | (df['creatinine_phosphokinase'] > c_outlier_threshold[1])]\n",
    "c_outliers = c_outliers.sort_values('creatinine_phosphokinase')\n",
    "print(c_outliers)\n",
    "c_outliers.shape"
   ]
  },
  {
   "cell_type": "code",
   "execution_count": 118,
   "id": "e2b4ef45-a97f-408f-b0f8-c7e8d22e14fa",
   "metadata": {
    "executionTime": 102,
    "lastSuccessfullyExecutedCode": "# Extract Q1, Q3, and IQR values (s_ represents serum_creatinine)\ns_Q1 = df['serum_creatinine'].describe()['25%']\ns_Q3 = df['serum_creatinine'].describe()['75%']\ns_IQR = s_Q3 - s_Q1\n\n# Define outlier threshold\ns_outlier_threshold = (s_Q1 - 1.5*s_IQR, s_Q3 + 1.5*s_IQR)\n\n# Identify creatinine_phospokinase outliers\ns_outliers = df[(df['serum_creatinine'] < s_outlier_threshold[0]) | (df['serum_creatinine'] > s_outlier_threshold[1])]\ns_outliers = s_outliers.sort_values('serum_creatinine')\nprint(s_outliers)\ns_outliers.shape"
   },
   "outputs": [
    {
     "name": "stdout",
     "output_type": "stream",
     "text": [
      "     uniqueid     sex   age  smoking  diabetes  anaemia  high_blood_pressure  \\\n",
      "54         54  Female  60.0     True      True     True                False   \n",
      "104       104  Female  60.0    False     False    False                 True   \n",
      "38         38    Male  60.0    False      True    False                False   \n",
      "61         61  Female  50.0    False     False    False                 True   \n",
      "247       247    Male  64.0    False     False    False                False   \n",
      "167       167    Male  59.0    False      True    False                False   \n",
      "82         82  Female  60.0    False      True     True                False   \n",
      "183       183    Male  75.0    False     False    False                 True   \n",
      "150       150  Female  72.0    False     False    False                 True   \n",
      "281       281    Male  70.0     True     False    False                False   \n",
      "56         56    Male  70.0     True     False     True                False   \n",
      "4           4  Female  65.0    False      True     True                False   \n",
      "65         65    Male  60.0     True     False    False                False   \n",
      "31         31    Male  85.0    False     False    False                False   \n",
      "39         39  Female  60.0    False      True    False                False   \n",
      "117       117  Female  85.0    False     False     True                False   \n",
      "129       129    Male  53.0    False      True     True                False   \n",
      "35         35    Male  69.0    False      True    False                False   \n",
      "203       203    Male  60.0     True     False    False                 True   \n",
      "124       124    Male  60.0    False     False    False                False   \n",
      "282       282    Male  42.0     True     False    False                False   \n",
      "10         10    Male  75.0     True     False     True                 True   \n",
      "48         48    Male  80.0    False     False     True                 True   \n",
      "228       228  Female  65.0    False     False    False                False   \n",
      "28         28    Male  58.0    False     False     True                False   \n",
      "131       131    Male  60.0    False      True     True                False   \n",
      "52         52  Female  60.0    False      True    False                False   \n",
      "217       217  Female  54.0    False     False     True                 True   \n",
      "9           9    Male  80.0     True     False     True                 True   \n",
      "\n",
      "     ejection_fraction  platelets  serum_sodium  serum_creatinine  \\\n",
      "54                  38  255000.00           132               2.2   \n",
      "104                 50  286000.00           143               2.3   \n",
      "38                  30  305000.00           137               2.3   \n",
      "61                  40  216000.00           131               2.3   \n",
      "247                 25  246000.00           135               2.4   \n",
      "167                 20   70000.00           134               2.4   \n",
      "82                  25  196000.00           132               2.5   \n",
      "183                 38  224000.00           134               2.5   \n",
      "150                 45  235000.00           135               2.5   \n",
      "281                 40   51000.00           136               2.7   \n",
      "56                  35  223000.00           138               2.7   \n",
      "4                   20  327000.00           116               2.7   \n",
      "65                  20  119000.00           127               2.9   \n",
      "31                  45  360000.00           132               3.0   \n",
      "39                  38  329000.00           142               3.0   \n",
      "117                 60  507000.00           138               3.2   \n",
      "129                 35  227000.00           145               3.4   \n",
      "35                  35  228000.00           134               3.5   \n",
      "203                 25  212000.00           136               3.5   \n",
      "124                 40  217000.00           134               3.7   \n",
      "282                 30  215000.00           128               3.8   \n",
      "10                  38  368000.00           131               4.0   \n",
      "48                  20  140000.00           133               4.4   \n",
      "228                 25  237000.00           130               5.0   \n",
      "28                  38  153000.00           134               5.8   \n",
      "131                 45  250000.00           131               6.1   \n",
      "52                  62  263358.03           146               6.8   \n",
      "217                 70  151000.00           137               9.0   \n",
      "9                   35  388000.00           133               9.4   \n",
      "\n",
      "     creatinine_phosphokinase  time  death_event  \n",
      "54                        260    45         True  \n",
      "104                        53    87        False  \n",
      "38                       2656    30        False  \n",
      "61                        318    60         True  \n",
      "247                       143   214        False  \n",
      "167                        66   135         True  \n",
      "82                         76    77         True  \n",
      "183                        99   162         True  \n",
      "150                       233   115         True  \n",
      "281                       582   250        False  \n",
      "56                         75    54        False  \n",
      "4                         160     8         True  \n",
      "65                         68    64         True  \n",
      "31                         23    28         True  \n",
      "39                        235    30         True  \n",
      "117                       102    94        False  \n",
      "129                       270   105        False  \n",
      "35                        582    30         True  \n",
      "203                        59   187        False  \n",
      "124                       582    96         True  \n",
      "282                        64   250        False  \n",
      "10                         81    10         True  \n",
      "48                        553    41         True  \n",
      "228                        56   207        False  \n",
      "28                         60    26         True  \n",
      "131                      1082   107        False  \n",
      "52                       3964    43         True  \n",
      "217                       427   196         True  \n",
      "9                         123    10         True  \n"
     ]
    },
    {
     "data": {
      "text/plain": [
       "(29, 14)"
      ]
     },
     "execution_count": 118,
     "metadata": {},
     "output_type": "execute_result"
    }
   ],
   "source": [
    "# Extract Q1, Q3, and IQR values (s_ represents serum_creatinine)\n",
    "s_Q1 = df['serum_creatinine'].describe()['25%']\n",
    "s_Q3 = df['serum_creatinine'].describe()['75%']\n",
    "s_IQR = s_Q3 - s_Q1\n",
    "\n",
    "# Define outlier threshold\n",
    "s_outlier_threshold = (s_Q1 - 1.5*s_IQR, s_Q3 + 1.5*s_IQR)\n",
    "\n",
    "# Identify creatinine_phospokinase outliers\n",
    "s_outliers = df[(df['serum_creatinine'] < s_outlier_threshold[0]) | (df['serum_creatinine'] > s_outlier_threshold[1])]\n",
    "s_outliers = s_outliers.sort_values('serum_creatinine')\n",
    "print(s_outliers)\n",
    "s_outliers.shape"
   ]
  },
  {
   "cell_type": "code",
   "execution_count": 119,
   "id": "7e850b3a-7730-45d3-bc48-c5a894351d8d",
   "metadata": {
    "executionTime": 119,
    "lastSuccessfullyExecutedCode": "sns.boxplot(x=df['serum_creatinine'], showfliers=False, boxprops={'facecolor':'None'}, linewidth=3)\nsns.swarmplot(x=df['serum_creatinine'], linewidth=1, edgecolor='black', color='red', s=4, marker='o', alpha=0.3)\nplt.xticks(np.arange(min(df['serum_creatinine']), max(df['serum_creatinine'])+1, step=1))\n\nplt.show()"
   },
   "outputs": [
    {
     "data": {
      "image/png": "[encoded data removed]",
      "text/plain": [
       "<Figure size 640x480 with 1 Axes>"
      ]
     },
     "metadata": {},
     "output_type": "display_data"
    }
   ],
   "source": [
    "sns.boxplot(x=df['serum_creatinine'], showfliers=False, boxprops={'facecolor':'None'}, linewidth=3)\n",
    "sns.swarmplot(x=df['serum_creatinine'], linewidth=1, edgecolor='black', color='red', s=4, marker='o', alpha=0.3)\n",
    "plt.xticks(np.arange(min(df['serum_creatinine']), max(df['serum_creatinine'])+1, step=1))\n",
    "\n",
    "plt.show()"
   ]
  },
  {
   "cell_type": "code",
   "execution_count": 120,
   "id": "b5c253c0-1a83-445a-8542-7fdf07df024d",
   "metadata": {
    "executionTime": 105,
    "lastSuccessfullyExecutedCode": "df.describe()"
   },
   "outputs": [
    {
     "data": {
      "application/com.datacamp.data-table.v1+json": {
       "table": {
        "data": [
         {
          "age": 299,
          "creatinine_phosphokinase": 299,
          "ejection_fraction": 299,
          "index": "count",
          "platelets": 299,
          "serum_creatinine": 299,
          "serum_sodium": 299,
          "time": 299,
          "uniqueid": 299
         },
         {
          "age": 60.8338929766,
          "creatinine_phosphokinase": 581.8394648829,
          "ejection_fraction": 38.0836120401,
          "index": "mean",
          "platelets": 263358.029264214,
          "serum_creatinine": 1.3938795987,
          "serum_sodium": 136.6254180602,
          "time": 130.2608695652,
          "uniqueid": 149
         },
         {
          "age": 11.894809074,
          "creatinine_phosphokinase": 970.2878807124,
          "ejection_fraction": 11.834840741,
          "index": "std",
          "platelets": 97804.2368685983,
          "serum_creatinine": 1.0345100641,
          "serum_sodium": 4.4124772839,
          "time": 77.6142079503,
          "uniqueid": 86.458082329
         },
         {
          "age": 40,
          "creatinine_phosphokinase": 23,
          "ejection_fraction": 14,
          "index": "min",
          "platelets": 25100,
          "serum_creatinine": 0.5,
          "serum_sodium": 113,
          "time": 4,
          "uniqueid": 0
         },
         {
          "age": 51,
          "creatinine_phosphokinase": 116.5,
          "ejection_fraction": 30,
          "index": "25%",
          "platelets": 212500,
          "serum_creatinine": 0.9,
          "serum_sodium": 134,
          "time": 73,
          "uniqueid": 74.5
         },
         {
          "age": 60,
          "creatinine_phosphokinase": 250,
          "ejection_fraction": 38,
          "index": "50%",
          "platelets": 262000,
          "serum_creatinine": 1.1,
          "serum_sodium": 137,
          "time": 115,
          "uniqueid": 149
         },
         {
          "age": 70,
          "creatinine_phosphokinase": 582,
          "ejection_fraction": 45,
          "index": "75%",
          "platelets": 303500,
          "serum_creatinine": 1.4,
          "serum_sodium": 140,
          "time": 203,
          "uniqueid": 223.5
         },
         {
          "age": 95,
          "creatinine_phosphokinase": 7861,
          "ejection_fraction": 80,
          "index": "max",
          "platelets": 850000,
          "serum_creatinine": 9.4,
          "serum_sodium": 148,
          "time": 285,
          "uniqueid": 298
         }
        ],
        "schema": {
         "fields": [
          {
           "name": "index",
           "type": "string"
          },
          {
           "name": "uniqueid",
           "type": "number"
          },
          {
           "name": "age",
           "type": "number"
          },
          {
           "name": "ejection_fraction",
           "type": "number"
          },
          {
           "name": "platelets",
           "type": "number"
          },
          {
           "name": "serum_sodium",
           "type": "number"
          },
          {
           "name": "serum_creatinine",
           "type": "number"
          },
          {
           "name": "creatinine_phosphokinase",
           "type": "number"
          },
          {
           "name": "time",
           "type": "number"
          }
         ],
         "pandas_version": "1.4.0",
         "primaryKey": [
          "index"
         ]
        }
       },
       "total_rows": 8,
       "truncation_type": null
      },
      "text/html": [
       "<div>\n",
       "<style scoped>\n",
       "    .dataframe tbody tr th:only-of-type {\n",
       "        vertical-align: middle;\n",
       "    }\n",
       "\n",
       "    .dataframe tbody tr th {\n",
       "        vertical-align: top;\n",
       "    }\n",
       "\n",
       "    .dataframe thead th {\n",
       "        text-align: right;\n",
       "    }\n",
       "</style>\n",
       "<table border=\"1\" class=\"dataframe\">\n",
       "  <thead>\n",
       "    <tr style=\"text-align: right;\">\n",
       "      <th></th>\n",
       "      <th>uniqueid</th>\n",
       "      <th>age</th>\n",
       "      <th>ejection_fraction</th>\n",
       "      <th>platelets</th>\n",
       "      <th>serum_sodium</th>\n",
       "      <th>serum_creatinine</th>\n",
       "      <th>creatinine_phosphokinase</th>\n",
       "      <th>time</th>\n",
       "    </tr>\n",
       "  </thead>\n",
       "  <tbody>\n",
       "    <tr>\n",
       "      <th>count</th>\n",
       "      <td>299.000000</td>\n",
       "      <td>299.000000</td>\n",
       "      <td>299.000000</td>\n",
       "      <td>299.000000</td>\n",
       "      <td>299.000000</td>\n",
       "      <td>299.00000</td>\n",
       "      <td>299.000000</td>\n",
       "      <td>299.000000</td>\n",
       "    </tr>\n",
       "    <tr>\n",
       "      <th>mean</th>\n",
       "      <td>149.000000</td>\n",
       "      <td>60.833893</td>\n",
       "      <td>38.083612</td>\n",
       "      <td>263358.029264</td>\n",
       "      <td>136.625418</td>\n",
       "      <td>1.39388</td>\n",
       "      <td>581.839465</td>\n",
       "      <td>130.260870</td>\n",
       "    </tr>\n",
       "    <tr>\n",
       "      <th>std</th>\n",
       "      <td>86.458082</td>\n",
       "      <td>11.894809</td>\n",
       "      <td>11.834841</td>\n",
       "      <td>97804.236869</td>\n",
       "      <td>4.412477</td>\n",
       "      <td>1.03451</td>\n",
       "      <td>970.287881</td>\n",
       "      <td>77.614208</td>\n",
       "    </tr>\n",
       "    <tr>\n",
       "      <th>min</th>\n",
       "      <td>0.000000</td>\n",
       "      <td>40.000000</td>\n",
       "      <td>14.000000</td>\n",
       "      <td>25100.000000</td>\n",
       "      <td>113.000000</td>\n",
       "      <td>0.50000</td>\n",
       "      <td>23.000000</td>\n",
       "      <td>4.000000</td>\n",
       "    </tr>\n",
       "    <tr>\n",
       "      <th>25%</th>\n",
       "      <td>74.500000</td>\n",
       "      <td>51.000000</td>\n",
       "      <td>30.000000</td>\n",
       "      <td>212500.000000</td>\n",
       "      <td>134.000000</td>\n",
       "      <td>0.90000</td>\n",
       "      <td>116.500000</td>\n",
       "      <td>73.000000</td>\n",
       "    </tr>\n",
       "    <tr>\n",
       "      <th>50%</th>\n",
       "      <td>149.000000</td>\n",
       "      <td>60.000000</td>\n",
       "      <td>38.000000</td>\n",
       "      <td>262000.000000</td>\n",
       "      <td>137.000000</td>\n",
       "      <td>1.10000</td>\n",
       "      <td>250.000000</td>\n",
       "      <td>115.000000</td>\n",
       "    </tr>\n",
       "    <tr>\n",
       "      <th>75%</th>\n",
       "      <td>223.500000</td>\n",
       "      <td>70.000000</td>\n",
       "      <td>45.000000</td>\n",
       "      <td>303500.000000</td>\n",
       "      <td>140.000000</td>\n",
       "      <td>1.40000</td>\n",
       "      <td>582.000000</td>\n",
       "      <td>203.000000</td>\n",
       "    </tr>\n",
       "    <tr>\n",
       "      <th>max</th>\n",
       "      <td>298.000000</td>\n",
       "      <td>95.000000</td>\n",
       "      <td>80.000000</td>\n",
       "      <td>850000.000000</td>\n",
       "      <td>148.000000</td>\n",
       "      <td>9.40000</td>\n",
       "      <td>7861.000000</td>\n",
       "      <td>285.000000</td>\n",
       "    </tr>\n",
       "  </tbody>\n",
       "</table>\n",
       "</div>"
      ],
      "text/plain": [
       "         uniqueid         age  ejection_fraction      platelets  serum_sodium  \\\n",
       "count  299.000000  299.000000         299.000000     299.000000    299.000000   \n",
       "mean   149.000000   60.833893          38.083612  263358.029264    136.625418   \n",
       "std     86.458082   11.894809          11.834841   97804.236869      4.412477   \n",
       "min      0.000000   40.000000          14.000000   25100.000000    113.000000   \n",
       "25%     74.500000   51.000000          30.000000  212500.000000    134.000000   \n",
       "50%    149.000000   60.000000          38.000000  262000.000000    137.000000   \n",
       "75%    223.500000   70.000000          45.000000  303500.000000    140.000000   \n",
       "max    298.000000   95.000000          80.000000  850000.000000    148.000000   \n",
       "\n",
       "       serum_creatinine  creatinine_phosphokinase        time  \n",
       "count         299.00000                299.000000  299.000000  \n",
       "mean            1.39388                581.839465  130.260870  \n",
       "std             1.03451                970.287881   77.614208  \n",
       "min             0.50000                 23.000000    4.000000  \n",
       "25%             0.90000                116.500000   73.000000  \n",
       "50%             1.10000                250.000000  115.000000  \n",
       "75%             1.40000                582.000000  203.000000  \n",
       "max             9.40000               7861.000000  285.000000  "
      ]
     },
     "execution_count": 120,
     "metadata": {},
     "output_type": "execute_result"
    }
   ],
   "source": [
    "df.describe()"
   ]
  },
  {
   "cell_type": "markdown",
   "id": "b8f278b8-6f49-4d5b-9255-be34f362fe71",
   "metadata": {},
   "source": [
    "# Distribution analysis summary\n",
    "- **Platelets**: 21 outliers. The lowest 7 entries range from 25k to 75k, which is physiologically possible but an indication of a potential medical condition. 5/7 suffer from diabetes, anemia, or both. All patients all 50 or older. Patient #281 is a smoker. The only patient who is not a smoker and does not have diabetes or anemia is patient #230, who passed away during follow up. Regarding the data above the outlier treshold, all values are within a range that is considered  thrombocytosis that does not require medical treatment (<1,500,000) as long as the patient is asymptomatic according to a scientific study published in the Pan African Medical Journal in [2019](https://www.ncbi.nlm.nih.gov/pmc/articles/PMC6607248/)). Every patient in this subset is either a smoker or suffering from diabetes and/or anemia. Outliers are unlikely to be mistakes.\n",
    "- **Creatinine_phospokinase**: 29 outliers, all of which are above the outlier threshold. Data makes a relatively big jump between 2794 and 3964 mcg/L, but is otherwise evenly distributed. Gender also equally distributed. Most patients are over 60, but all age groups are represented. Smoking, diabetes, anemia, and high blood pressure are rare. Relatively little deaths. A scientific study published in the Cleveland Clinic of Journal of Medicine in [2016](https://www.ccjm.org/content/83/1/37) elucidated this seemingly odd phenomenon: misdiagnosis is common and the status quo is being tested. Even though this paper uses UI (International Unit), which cannot be directly translated to mcg/L, because it measures potency rather than blood levels, it does state that, on average, the upper limit should be twice as high. Additionally, it also states that CPK levels are highly dependent on race and gender. Exercise can temporarily increase CPK levels 30-fold, which can take up to a week to fully subside. Finally, the distribution of data collected on the blood levels of this enzyme tends to be non-Gaussian and negatively skewed. In conclusion, it is possible that this data is either an indication of a confounding factor (e.g., muscular dystrophy), that the patient recently did an intense workout, or that it is actually within a healthy range.\n",
    "- **Serum_creatinine**: For the analaysis of this variable I opt a less research-oriented and a more analyist-approach. For this variable, 29 observations fall outside the maximum boxplot whisker-length 1.5 x IQR. As can be observed from the boxplot and the data generated by the outlier-script, IQR stretches between 1.0 and 1.5, whereas whisker length (1.5 x IQR both ways) is about 0.5 to 2.0. Everything from 2.2 and up is, mathemically speaking, an outlier. Based on the distribution I would suggest considering the number of data points to further research the values between 2.2 and 3.3 and remove everything from 3.4 (patient #129) and up."
   ]
  },
  {
   "cell_type": "markdown",
   "id": "170e97e6-4dc7-404d-8639-84aae986d2fb",
   "metadata": {},
   "source": [
    "## Cleaning part 2: removal of columns based on distribution analysis"
   ]
  },
  {
   "cell_type": "code",
   "execution_count": 121,
   "id": "3ebc86a5-c25a-47fb-9624-2b769dcd8af2",
   "metadata": {
    "executionTime": 0,
    "lastSuccessfullyExecutedCode": "# This code creates a new dataframe df_clean that includes only the observations that are within 1.5 x IQR for the 3 variables analyzed (228 rows, 71 observations removed)\n\ndf_clean = df[(df['platelets'] >= p_outlier_threshold[0]) &\n              (df['platelets'] <= p_outlier_threshold[1]) &\n              (df['creatinine_phosphokinase'] >= c_outlier_threshold[0]) &\n              (df['creatinine_phosphokinase'] <= c_outlier_threshold[1]) &\n              (df['serum_creatinine'] >= s_outlier_threshold[0]) &\n              (df['serum_creatinine'] <= s_outlier_threshold[1])]"
   },
   "outputs": [],
   "source": [
    "# This code creates a new dataframe df_clean that includes only the observations that are within 1.5 x IQR for the 3 variables analyzed (228 rows, 71 observations removed)\n",
    "\n",
    "df_clean = df[(df['platelets'] >= p_outlier_threshold[0]) &\n",
    "              (df['platelets'] <= p_outlier_threshold[1]) &\n",
    "              (df['creatinine_phosphokinase'] >= c_outlier_threshold[0]) &\n",
    "              (df['creatinine_phosphokinase'] <= c_outlier_threshold[1]) &\n",
    "              (df['serum_creatinine'] >= s_outlier_threshold[0]) &\n",
    "              (df['serum_creatinine'] <= s_outlier_threshold[1])]"
   ]
  },
  {
   "cell_type": "code",
   "execution_count": 122,
   "id": "3da51f2a-acdb-465f-8935-5e84ec48cb05",
   "metadata": {
    "executionTime": 84,
    "lastSuccessfullyExecutedCode": "df_clean.shape"
   },
   "outputs": [
    {
     "data": {
      "text/plain": [
       "(228, 14)"
      ]
     },
     "execution_count": 122,
     "metadata": {},
     "output_type": "execute_result"
    }
   ],
   "source": [
    "df_clean.shape"
   ]
  },
  {
   "cell_type": "markdown",
   "id": "3d3c0da1-1d9a-47ae-94c2-71f7cb5b3db1",
   "metadata": {},
   "source": [
    "## Notes on preceding cleaning operations\n",
    "- All original **.csv** files can be generated at the beginning of this script.\n",
    "- **df_merged** contains all columns from all datasets, merged on uniqueid, no further modifications made.\n",
    "- **df** contains modified column names, datatypes, data, and reorganization, but still contains all observations.\n",
    "- **df_clean** is **df** with all observations that fell outside the 1.5 x IQR range for the three variables analyzed removed."
   ]
  },
  {
   "cell_type": "markdown",
   "id": "71b76cff-2a19-4dfa-9c65-d01f9eb90f78",
   "metadata": {},
   "source": [
    "# 5 Cross-Correlation Analysis"
   ]
  },
  {
   "cell_type": "code",
   "execution_count": 123,
   "id": "f75563e7-c5a6-42b3-9540-d0fe3db507f7",
   "metadata": {
    "executionTime": 90,
    "lastSuccessfullyExecutedCode": "plt.subplots(figsize=(12, 10))\nsns.heatmap(df_clean.corr(), cmap='Accent', annot=True)\nplt.show()"
   },
   "outputs": [
    {
     "data": {
      "image/png": "[encoded data removed]",
      "text/plain": [
       "<Figure size 1200x1000 with 2 Axes>"
      ]
     },
     "metadata": {},
     "output_type": "display_data"
    }
   ],
   "source": [
    "plt.subplots(figsize=(12, 10))\n",
    "sns.heatmap(df_clean.corr(), cmap='Accent', annot=True)\n",
    "plt.show()"
   ]
  },
  {
   "cell_type": "markdown",
   "id": "993954bb-aa94-4005-8dc2-7c2099542faa",
   "metadata": {},
   "source": [
    "# Cross-Correlation Analysis summary\n",
    "\n",
    "## The classification according to Pearson's correlation coefficient (the CC used in the generation of this heatmap) is:\n",
    "- 0.7 to 1.0: strong positive correlation\n",
    "- 0.5 to 0.7: moderate positive correlation\n",
    "- 0.3 to 0.5: weak positive correlation\n",
    "- -0.7 to -0.5: moderate negative correlation\n",
    "- -1.0 to -0.7: strong negative correlation\n",
    "\n",
    "## Summary\n",
    "- I will not discuss the correlations between _uniqueid_/_time_/_death_event_/itself for obvious reasons.\n",
    "- The only category in this heatmap that is worth discussing is the indicated by dark blue: approximately between 0.2 and 4, although even the strongest correlations in this dataset is still only weak positive at best.\n",
    "- The fact that there is a weak positive relationship between _serum_creatinine_, _age_ and _death_event_ is interesting although predictable: the probability of dying due to age is very weak, meaning that the probability of dying is determined by a complex interaction between multiple variables.\n",
    "- The most interesting relationship in this dataset is the relational triangle between _age_, _serum_creatinine_, and _death_event_. _Serum_creatinine_ and age have the 3rd-strongest correlation (which is still considered \"_no relationship_\") in this dataset; apparently _serum_creatinine_ naturally goes up with age. The 2nd-strongest correlation, which falls within Pearson's definition of a \"_weak positive relationship_\", is between _serum_creatinine_ and _death_event_.\n",
    "- In conclusion, according to this dataset, the factor that should lead the prognosis in heart failure is _serum creatinine_ levels.\n",
    "- Important: this heatmap was generated using the clean dataset, meaning that all 29 outliers for _serum creatinine_ (which may or may not be incorrect measurements) were removed, meaning that the relationship might be stronger than the graph suggests."
   ]
  },
  {
   "cell_type": "markdown",
   "id": "6cebf26d-951b-4b9e-8a7a-045c13ba5b0a",
   "metadata": {},
   "source": [
    "# 6 Raising Data Questions\n",
    "These questions are (to some extent) derived from the results of my Tableau analysis.\n",
    "\n",
    "1. **Is creatinine_phosphokinase affected by smoking**: Yes, smoking increases creatinine_phosphokinase.\n",
    "2. **Is platelet count correlated with behavior or demographics**: there is a noticable correlation between gender and platelet count, which is further aggrevated by smoking\n",
    "3. **How does smoking affect survival rate** survival for _nonsmokers_ ends at age 84, surival for **smokers** at 94.\n",
    "4. **How does _gender_ affect survival rate for patients with high blood pressure**: Women with high blood pressure are significantly less likely to survive heart failure.\n",
    "5. **How is the _ejection_fraction_ of heart failure patients compared to healthy individual:** It appears that people who experience heart failure on average have a lower _ejection_fraction_\n",
    "6. **What is the most significant column impacting the phenomena in my dataset**: The most significant biomarker for heart failure is _serum_creatinine_ levels (which persists even after removal of outliers, which might be real data)"
   ]
  },
  {
   "cell_type": "markdown",
   "id": "544cfcf3-7bed-42bb-9837-43db770b27de",
   "metadata": {},
   "source": [
    "# 7 Data Enrichment\n",
    "- Investigate the _serum_creatinine_ phenomenon, including the probability that the outliers are indeed outliers.\n",
    "- Create a binned ordinal variable for exercise and a boolean variable for preferred type of excercise (resistance/cardio).\n",
    "- Have patients wear sleep trackers to measure sleep quality and length.\n",
    "- Diet analysis based on macromolecule distribution."
   ]
  }
 ],
 "metadata": {
  "editor": "DataCamp Workspace",
  "kernelspec": {
   "display_name": "Python 3 (ipykernel)",
   "language": "python",
   "name": "python3"
  },
  "language_info": {
   "codemirror_mode": {
    "name": "ipython",
    "version": 3
   },
   "file_extension": ".py",
   "mimetype": "text/x-python",
   "name": "python",
   "nbconvert_exporter": "python",
   "pygments_lexer": "ipython3",
   "version": "3.9.12"
  }
 },
 "nbformat": 4,
 "nbformat_minor": 5
}
